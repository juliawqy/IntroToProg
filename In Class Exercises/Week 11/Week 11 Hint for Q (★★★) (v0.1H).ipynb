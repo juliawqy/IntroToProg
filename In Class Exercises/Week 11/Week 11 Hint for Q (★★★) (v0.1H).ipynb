{
 "cells": [
  {
   "cell_type": "markdown",
   "source": [
    "<!-- Created by KWAK Haewoon -->\n",
    "<table class=\"table table-bordered\">\n",
    "    <tr>\n",
    "        <th style=\"text-align:center; width:35%\"><img src='https://soda-labo.github.io/images/smu_scis_logo_w400.jpg' style=\"width: 300px; height: 90px; \"></th>\n",
    "        <th style=\"text-align:center;\"><h3>IS111 - In-Class Exercises</h3><h3>Week 10 - Hint (&bigstar;&bigstar;&bigstar;)</h3></th>\n",
    "    </tr>\n",
    "</table>"
   ],
   "metadata": {}
  },
  {
   "cell_type": "markdown",
   "source": [
    "### Q4: (b) [&bigstar;&bigstar;&bigstar;]"
   ],
   "metadata": {}
  },
  {
   "cell_type": "markdown",
   "source": [
    "When you add `key` and `value` in a dictionary, a tuple (`name`, `date`, `gender`) can be a `value` of the dictionary."
   ],
   "metadata": {}
  },
  {
   "cell_type": "markdown",
   "source": [
    "### Q5: Contacts [&bigstar;&bigstar;&bigstar;]\n",
    "\n",
    "You can set a list [phone number1, phone number 2, ... ] as a value in a dictionary.\n",
    "\n",
    "#### Key logic\n",
    "\n",
    "set `name2numbers` as an empty dictionary.<br/>\n",
    "read `name` and `phone number` from the file.<br/>\n",
    "check whether `name` is already stored in `name2numbers`.<br/>\n",
    "&nbsp;&nbsp;if stored, you can append `phone number` in an already stored list (the value of `name`).<br/>\n",
    "&nbsp;&nbsp;if not, you can `name`:[`phone number`] in `name2numbers`.<br/>\n",
    "\n",
    "#### Example\n",
    "\n",
    "contacts.txt<br/>\n",
    "a|1<br/>\n",
    "a|2<br/>\n",
    "b|3<br/>\n",
    "a|4<br/>\n",
    "\n",
    "1. `name2numbers` is set to an empty dictionary.\n",
    "1. When the program reads the first line, `name`=`a` and `phone number`=`1`. As `a` is not a key in `name2numbers`, we set `a` as a key and `[1]` as a value. Currently, `name2numbers`={`a`:`[1]`}.\n",
    "1. When the program reads the second line, `name`=`a` and `phone number`=`2`. As `a` is a key in `name2numbers`, we append `2` in the value of `a` in the dictionary. Currently, `name2numbers`={`a`:`[1, 2]`}.\n",
    "1. When the program reads the second line, `name`=`b` and `phone number`=`3`. As `b` is not a key in `name2numbers`, we set `b` as a key and `[3]` as a value.  Currently, `name2numbers`={`a`:`[1, 2]`, `b`:`[3]`}.\n",
    "1. When the program reads the second line, `name`=`a` and `phone number`=`4`. As `a` is a key in `name2numbers`, we append `4` in the value of `a` in the dictionary. Currently, `name2numbers`={`a`:`[1, 2, 4]`, `b`:`[3]`}."
   ],
   "metadata": {}
  },
  {
   "cell_type": "markdown",
   "source": [],
   "metadata": {}
  }
 ],
 "metadata": {
  "orig_nbformat": 4,
  "language_info": {
   "name": "python",
   "version": "3.8.3",
   "mimetype": "text/x-python",
   "codemirror_mode": {
    "name": "ipython",
    "version": 3
   },
   "pygments_lexer": "ipython3",
   "nbconvert_exporter": "python",
   "file_extension": ".py"
  },
  "kernelspec": {
   "name": "python3",
   "display_name": "Python 3.8.3 64-bit ('base': conda)"
  },
  "interpreter": {
   "hash": "dab300fc1fcdb56386f3368d1ebed8bf72a2646d918e36042b5720b90c6e811c"
  }
 },
 "nbformat": 4,
 "nbformat_minor": 2
}