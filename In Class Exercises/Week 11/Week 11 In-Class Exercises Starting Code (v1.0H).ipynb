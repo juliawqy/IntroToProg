{
 "cells": [
  {
   "cell_type": "markdown",
   "metadata": {},
   "source": [
    "<table class=\"table table-bordered\">\n",
    "    <tr>\n",
    "        <th style=\"text-align:center; width:35%\"><img src='https://soda-labo.github.io/images/smu_scis_logo_w400.jpg' style=\"width: 300px; height: 90px; \"></th>\n",
    "        <th style=\"text-align:center;\"><h3>IS111 - In-Class Exercises</h3><h3>Week 11</h3></th>\n",
    "    </tr>\n",
    "</table>"
   ]
  },
  {
   "cell_type": "markdown",
   "metadata": {},
   "source": [
    "### Q1:  [ &bigstar; ]  Looking up a Value inside a Dictionary"
   ]
  },
  {
   "cell_type": "code",
   "execution_count": 1,
   "metadata": {},
   "outputs": [
    {
     "name": "stdout",
     "output_type": "stream",
     "text": [
      "The author of the book is George Orwell\n",
      "Not found!\n",
      "The author of the book is Dan Brown\n",
      "Good-bye!\n"
     ]
    }
   ],
   "source": [
    "# This dictionary is given.\n",
    "\n",
    "book_author_dict = {\"Harry Potter and the Sorcerer's Stone\":'J.K. Rowling', \n",
    "               \"Turtles All the Way Down\":'John Green',\n",
    "               \"Animal Farm and 1984\":'George Orwell',\n",
    "               \"The Da Vinci Code\":'Dan Brown',\n",
    "               \"Harry Potter and the Goblet of Fire\":'J.K. Rowling',\n",
    "               \"Origin\":'Dan Brown'}\n",
    "\n",
    "#--------------------------------------------------------------------------\n",
    "\n",
    "# Put your code here\n",
    "\n",
    "if_continue = input(\"Do you want to search for the author of a book? [Y|N]\")\n",
    "\n",
    "while if_continue == \"Y\":\n",
    "    title = input(\"Please enter a book title :\")\n",
    "    if title in book_author_dict:\n",
    "        author = book_author_dict[title]\n",
    "        print(f\"The author of the book is {author}\")\n",
    "    else:\n",
    "        print(\"Not found!\")\n",
    "    if_continue = input(\"Do you want to continue? [Y|N]\")\n",
    "\n",
    "print(\"Good-bye!\")\n",
    "\n",
    "\n"
   ]
  },
  {
   "cell_type": "markdown",
   "metadata": {
    "collapsed": true
   },
   "source": [
    "### Q2"
   ]
  },
  {
   "cell_type": "markdown",
   "metadata": {
    "collapsed": true
   },
   "source": [
    "#### Part (a) [ &bigstar; ] - Displaying content of Dictionary"
   ]
  },
  {
   "cell_type": "code",
   "execution_count": 8,
   "metadata": {},
   "outputs": [],
   "source": [
    "def display_all_gpas(gpa_dict):\n",
    "    # Add code below to implement this function\n",
    "\n",
    "    print(\"Student Name\\tStudent GPA\")\n",
    "    print(12*\"-\" + \"\\t\" + 11*\"-\")\n",
    "\n",
    "    for names in gpa_dict.keys():\n",
    "        print(names + \"\\t\" + str(gpa_dict[names]))\n",
    "\n",
    "\n",
    "\n",
    "\n"
   ]
  },
  {
   "cell_type": "code",
   "execution_count": 9,
   "metadata": {},
   "outputs": [
    {
     "name": "stdout",
     "output_type": "stream",
     "text": [
      "Student Name\tStudent GPA\n",
      "------------\t-----------\n",
      "George Leung\t3.4\n",
      "Eric Wong\t3.9\n",
      "Michelle Lee\t3.1\n"
     ]
    }
   ],
   "source": [
    "# This is the testing code.\n",
    "\n",
    "# The following dictionary is given.\n",
    "gpa_dict = {'George Leung':3.4, 'Eric Wong':3.9, 'Michelle Lee': 3.1}\n",
    "\n",
    "# Add code below to call the function you've defined to display gpa_dict above:\n",
    "\n",
    "display_all_gpas(gpa_dict)\n"
   ]
  },
  {
   "cell_type": "markdown",
   "metadata": {},
   "source": [
    "#### Part (b) [ &bigstar;&bigstar; ] - Updating a Dictionary"
   ]
  },
  {
   "cell_type": "code",
   "execution_count": 10,
   "metadata": {},
   "outputs": [
    {
     "name": "stdout",
     "output_type": "stream",
     "text": [
      "Current GPA information:\n",
      "\n",
      "Student Name\tStudent GPA\n",
      "------------\t-----------\n",
      "George Leung\t3.4\n",
      "Eric Wong\t3.9\n",
      "Michelle Lee\t3.1\n",
      "\n",
      "Sorry! This student doesn't exist.\n",
      "Thanks! GPA has been changed.\n",
      "\n",
      "The new GPA information:\n",
      "\n",
      "Student Name\tStudent GPA\n",
      "------------\t-----------\n",
      "George Leung\t3.4\n",
      "Eric Wong\t3.8\n",
      "Michelle Lee\t3.1\n"
     ]
    }
   ],
   "source": [
    "# The following dictionary is given.\n",
    "gpa_dict = {'George Leung':3.4, 'Eric Wong':3.9, 'Michelle Lee':3.1}\n",
    "\n",
    "#-------------------------------------------------------------------\n",
    "\n",
    "# Put your code here\n",
    "\n",
    "def update_gpas(gpa_dict):\n",
    "    # Add code below to implement this function\n",
    "\n",
    "    print(\"Current GPA information:\\n\")\n",
    "    display_all_gpas(gpa_dict)\n",
    "    print(\"\")\n",
    "\n",
    "    name = input(\"\\nWhose GPA do you want to change? \")\n",
    "\n",
    "    while name not in gpa_dict:\n",
    "        print(\"Sorry! This student doesn't exist.\")\n",
    "        name = input(\"\\nWhose GPA do you want to change? \")\n",
    "    \n",
    "    new_gpa = float(input(\"What's the new GPA? \"))\n",
    "    print(\"\\nThanks! GPA has been changed.\")\n",
    "    gpa_dict[name] = new_gpa\n",
    "\n",
    "    print(\"\\nThe new GPA information:\\n\")\n",
    "    display_all_gpas(gpa_dict)\n",
    "\n",
    "\n",
    "\n",
    "\n",
    "# Remember to call the function in Part (a) to help you with Part (b).\n",
    "\n",
    "update_gpas(gpa_dict)\n"
   ]
  },
  {
   "cell_type": "markdown",
   "metadata": {},
   "source": [
    "#### Part (c) [ &bigstar;&bigstar; ] - Adding a new element in a Dictionary"
   ]
  },
  {
   "cell_type": "code",
   "execution_count": 11,
   "metadata": {},
   "outputs": [
    {
     "name": "stdout",
     "output_type": "stream",
     "text": [
      "Current GPA information:\n",
      "\n",
      "Student Name\tStudent GPA\n",
      "------------\t-----------\n",
      "George Leung\t3.4\n",
      "Eric Wong\t3.9\n",
      "Michelle Lee\t3.1\n",
      "\n",
      "Sorry! This student already exists.\n",
      "Sorry! This student already exists.\n",
      "\n",
      "Thanks! GPA has been added.\n",
      "\n",
      "The new GPA information:\n",
      "\n",
      "Student Name\tStudent GPA\n",
      "------------\t-----------\n",
      "George Leung\t3.4\n",
      "Eric Wong\t3.9\n",
      "Michelle Lee\t3.1\n",
      "Peter Liu\t3.7\n"
     ]
    }
   ],
   "source": [
    "# The following dictionary is given.\n",
    "gpa_dict = {'George Leung':3.4, 'Eric Wong':3.9, 'Michelle Lee':3.1}\n",
    "\n",
    "#-------------------------------------------------------------------\n",
    "\n",
    "# Put your code here\n",
    "\n",
    "def add_student(gpa_dict):\n",
    "    # Add code below to implement this function\n",
    "\n",
    "    print(\"Current GPA information:\\n\")\n",
    "    display_all_gpas(gpa_dict)\n",
    "    print(\"\")\n",
    "\n",
    "    name = input(\"\\nWhose GPA do you want to add? \")\n",
    "\n",
    "    while name in gpa_dict:\n",
    "        print(\"Sorry! This student already exists.\")\n",
    "        name = input(\"\\nWhose GPA do you want to change? \")\n",
    "    \n",
    "    new_gpa = float(input(f\"What's the GPA of {name}? \"))\n",
    "    print(\"\\nThanks! GPA has been added.\")\n",
    "    gpa_dict[name] = new_gpa\n",
    "\n",
    "    print(\"\\nThe new GPA information:\\n\")\n",
    "    display_all_gpas(gpa_dict)\n",
    "\n",
    "\n",
    "\n",
    "# Remember to call the function in Part (a) to help you with Part (c).\n",
    "\n",
    "add_student(gpa_dict)\n",
    "\n"
   ]
  },
  {
   "cell_type": "markdown",
   "metadata": {},
   "source": [
    "### Q3"
   ]
  },
  {
   "cell_type": "markdown",
   "metadata": {},
   "source": [
    "#### Part (a) [ &bigstar;&bigstar; ] - Casting a list of tuples into a dictionary"
   ]
  },
  {
   "cell_type": "code",
   "execution_count": 14,
   "metadata": {},
   "outputs": [],
   "source": [
    "# Put your code here\n",
    "\n",
    "def convert_to_dict(convert):\n",
    "\n",
    "    return_dict = {}\n",
    "\n",
    "    for groups in convert:\n",
    "        return_dict[groups[0]] = groups[1]\n",
    "    \n",
    "    return return_dict\n",
    "\n",
    "\n",
    "\n"
   ]
  },
  {
   "cell_type": "code",
   "execution_count": 15,
   "metadata": {},
   "outputs": [
    {
     "name": "stdout",
     "output_type": "stream",
     "text": [
      "\n",
      "Testcase 1\n",
      "----------\n",
      "Expected: {1: 'apple', 2: 'banana', 4: 'durian', 8: 'orange', 3: 'peach'}\n",
      "Actual:   {1: 'apple', 2: 'banana', 4: 'durian', 8: 'orange', 3: 'peach'}\n"
     ]
    }
   ],
   "source": [
    "# Test cases used to test your function\n",
    "\n",
    "print('\\nTestcase 1')\n",
    "print('-' * 10)\n",
    "print(\"Expected: {1: 'apple', 2: 'banana', 4: 'durian', 8: 'orange', 3: 'peach'}\")\n",
    "tup_list = [(1, 'apple'), (2, 'banana'), (4, 'durian'), (8, 'orange'), (3, 'peach')]\n",
    "result_dict = convert_to_dict(tup_list)\n",
    "print('Actual:   ' + str(result_dict))"
   ]
  },
  {
   "cell_type": "markdown",
   "metadata": {},
   "source": [
    "#### Part (b) [ &bigstar;&bigstar; ] - Reading a file and placing data into a Dictionary"
   ]
  },
  {
   "cell_type": "code",
   "execution_count": 18,
   "metadata": {},
   "outputs": [],
   "source": [
    "# Put your code here\n",
    "\n",
    "def read_into_dict(file_name):\n",
    "\n",
    "    return_dict = {}\n",
    "\n",
    "    with open(file_name,'r') as fi:\n",
    "        for line in fi:\n",
    "            line = line.rsplit(\"\\n\")[0]\n",
    "            key = line.split(\"\\t\")[0]\n",
    "            value = line.split(\"\\t\")[1]\n",
    "            return_dict[key] = value\n",
    "    \n",
    "    return return_dict\n"
   ]
  },
  {
   "cell_type": "code",
   "execution_count": 19,
   "metadata": {},
   "outputs": [
    {
     "name": "stdout",
     "output_type": "stream",
     "text": [
      "\n",
      "Testcase 1\n",
      "----------\n",
      "Expected: {'SMU': 'Singapore Management University', 'NUS': 'National University of Singapore', 'NTU': 'National University of Technology', 'SUTD': 'Singapore University of Technology and Design', 'SIM': 'Singapore Intitute of Management'}\n",
      "Actual:   {'SMU': 'Singapore Management University', 'NUS': 'National University of Singapore', 'NTU': 'National University of Technology', 'SUTD': 'Singapore University of Technology and Design', 'SIM': 'Singapore Intitute of Management'}\n"
     ]
    }
   ],
   "source": [
    "# Test cases used to test your function\n",
    "\n",
    "print('\\nTestcase 1')\n",
    "print('-' * 10)\n",
    "print(\"Expected: {'SMU': 'Singapore Management University', 'NUS': 'National University of Singapore', 'NTU': 'National University of Technology', 'SUTD': 'Singapore University of Technology and Design', 'SIM': 'Singapore Intitute of Management'}\")\n",
    "filename = 'acronyms.txt'\n",
    "result_dict = read_into_dict(filename)\n",
    "print('Actual:   ' + str(result_dict))"
   ]
  },
  {
   "cell_type": "markdown",
   "metadata": {},
   "source": [
    "#### Part (c) [ &bigstar;&bigstar; ] - Reversing a Dictionary"
   ]
  },
  {
   "cell_type": "code",
   "execution_count": 39,
   "metadata": {},
   "outputs": [],
   "source": [
    "# Put your code here\n",
    "\n",
    "\n",
    "def reverse_dict_order(my_dict): #although order in dict doesnt matter\n",
    "    reversed_dict = {}\n",
    "\n",
    "    keys = list(my_dict.keys())\n",
    "    for iterating_keys in keys[::-1]:\n",
    "        reversed_dict[iterating_keys] = my_dict[iterating_keys]\n",
    "\n",
    "    return reversed_dict\n",
    "\n",
    "def reverse_dict(my_dict):\n",
    "    return_dict = {}\n",
    "\n",
    "    for key, value in my_dict.items():\n",
    "        return_dict[value] = key\n",
    "\n",
    "    return return_dict\n",
    "\n"
   ]
  },
  {
   "cell_type": "code",
   "execution_count": 40,
   "metadata": {},
   "outputs": [
    {
     "name": "stdout",
     "output_type": "stream",
     "text": [
      "\n",
      "Testcase 1\n",
      "----------\n",
      "Expected: {'swimming': 'Monday', 'basketball': 'Tuesday', 'tennis': 'Wednesday', 'yoga': 'Thursday', 'gymnastics': 'Friday'}\n",
      "Actual:   {'swimming': 'Monday', 'basketball': 'Tuesday', 'tennis': 'Wednesday', 'yoga': 'Thursday', 'gymnastics': 'Friday'}\n"
     ]
    }
   ],
   "source": [
    "# Test cases used to test your function\n",
    "\n",
    "print('\\nTestcase 1')\n",
    "print('-' * 10)\n",
    "print(\"Expected: {'swimming': 'Monday', 'basketball': 'Tuesday', 'tennis': 'Wednesday', 'yoga': 'Thursday', 'gymnastics': 'Friday'}\")\n",
    "my_dict = {'Monday': 'swimming', 'Tuesday': 'basketball', 'Wednesday': 'tennis', 'Thursday': 'yoga', 'Friday': 'gymnastics'}\n",
    "result_dict = reverse_dict(my_dict)\n",
    "print('Actual:   ' + str(result_dict))"
   ]
  },
  {
   "cell_type": "markdown",
   "metadata": {},
   "source": [
    "### Q4"
   ]
  },
  {
   "cell_type": "markdown",
   "metadata": {},
   "source": [
    "#### Part (a) [ &bigstar;&bigstar; ]"
   ]
  },
  {
   "cell_type": "code",
   "execution_count": 55,
   "metadata": {},
   "outputs": [
    {
     "name": "stdout",
     "output_type": "stream",
     "text": [
      "The birthdate of this student 03-09-1998\n",
      "This is not a valid email id\n",
      "The birthdate of this student 12-15-1999\n",
      "Good-bye!\n"
     ]
    }
   ],
   "source": [
    "# Put your code here\n",
    "\n",
    "with open('students.txt', 'r') as fi:\n",
    "\n",
    "    info_dict = {}\n",
    "\n",
    "    for line in fi:\n",
    "        line = line.rsplit('\\n')[0]\n",
    "        info_dict[line.split('\\t')[1]] = line.split('\\t')[2]\n",
    "        \n",
    "\n",
    "email_id = input(\"Please enter an email ID: \")\n",
    "if email_id in info_dict:\n",
    "    print(f'The birthdate of this student {info_dict[email_id]}')\n",
    "else:\n",
    "    print('This is not a valid email id')\n",
    "\n",
    "if_continue = input(\"Do you want to continue? [Y|N] :\")\n",
    "while if_continue == 'Y':\n",
    "    email_id = input(\"Please enter an email ID: \")\n",
    "    if email_id in info_dict:\n",
    "        print(f'The birthdate of this student {info_dict[email_id]}')\n",
    "    else:\n",
    "        print('This is not a valid email id')\n",
    "    if_continue = input(\"Do you want to continue? [Y|N] :\")\n",
    "\n",
    "print(\"Good-bye!\")\n",
    "    \n",
    "\n",
    "\n"
   ]
  },
  {
   "cell_type": "markdown",
   "metadata": {},
   "source": [
    "#### Part (b) [ &bigstar;&bigstar;&bigstar; ]"
   ]
  },
  {
   "cell_type": "code",
   "execution_count": 59,
   "metadata": {},
   "outputs": [
    {
     "name": "stdout",
     "output_type": "stream",
     "text": [
      "This student is Joe Wong, male, born on 03-09-1998\n",
      "This is not a valid email id\n",
      "This student is Eric Wong, male, born on 12-15-1999\n",
      "Good-bye!\n"
     ]
    }
   ],
   "source": [
    "# Put your code here\n",
    "\n",
    "with open('students.txt', 'r') as fi:\n",
    "\n",
    "    info_dict = {}\n",
    "\n",
    "    for line in fi:\n",
    "        line = line.rsplit('\\n')[0]\n",
    "        info_dict[line.split('\\t')[1]] = [line.split('\\t')[0]]\n",
    "        info_dict[line.split('\\t')[1]] += [line.split('\\t')[2]]\n",
    "        if line.split('\\t')[3] == \"M\":\n",
    "            info_dict[line.split('\\t')[1]] += [\"male\"]\n",
    "        else:\n",
    "            info_dict[line.split('\\t')[1]] += [\"female\"]\n",
    "\n",
    "        \n",
    "\n",
    "email_id = input(\"Please enter an email ID: \")\n",
    "if email_id in info_dict:\n",
    "    print(f'This student is {info_dict[email_id][0]}, {info_dict[email_id][2]}, born on {info_dict[email_id][1]}.')\n",
    "else:\n",
    "    print('This is not a valid email id')\n",
    "\n",
    "if_continue = input(\"Do you want to continue? [Y|N] :\")\n",
    "while if_continue == 'Y':\n",
    "    email_id = input(\"Please enter an email ID: \")\n",
    "    if email_id in info_dict:\n",
    "        print(f'This student is {info_dict[email_id][0]}, {info_dict[email_id][2]}, born on {info_dict[email_id][1]}.')\n",
    "    else:\n",
    "        print('This is not a valid email id')\n",
    "    if_continue = input(\"Do you want to continue? [Y|N] :\")\n",
    "\n",
    "print(\"Good-bye!\")\n",
    "\n"
   ]
  },
  {
   "cell_type": "markdown",
   "metadata": {},
   "source": [
    "### Q5: Contacts [ &bigstar;&bigstar;&bigstar; ]"
   ]
  },
  {
   "cell_type": "code",
   "execution_count": 48,
   "metadata": {},
   "outputs": [
    {
     "name": "stdout",
     "output_type": "stream",
     "text": [
      "Michelle Lee has 2 number(s):\n",
      "\t(+65)67894321\n",
      "\t(+65)88776655\n"
     ]
    }
   ],
   "source": [
    "# Put your code here\n",
    "\n",
    "with open('contacts.txt', 'r') as fi:\n",
    "\n",
    "    contact_dict = {}\n",
    "\n",
    "    for line in fi:\n",
    "        line = line.rstrip('\\n')\n",
    "        name = line.split('|')[0]\n",
    "        number = line.split('|')[1]\n",
    "\n",
    "        if name not in contact_dict:\n",
    "            contact_dict[name] = [number]\n",
    "        else:\n",
    "            contact_dict[name] += [number]\n",
    "\n",
    "    to_find = input(\"Enter a person's name: \")\n",
    "    if to_find in contact_dict:\n",
    "        print(f'{to_find} has {len(contact_dict[to_find])} number(s):')\n",
    "        for nums in contact_dict[to_find]:\n",
    "            print('\\t' + nums)\n",
    "    else:\n",
    "        print(f'{to_find} cannot be found in our database.')\n",
    "    \n",
    "\n",
    "\n",
    "\n"
   ]
  },
  {
   "cell_type": "code",
   "execution_count": null,
   "metadata": {},
   "outputs": [],
   "source": []
  }
 ],
 "metadata": {
  "kernelspec": {
   "display_name": "Python 3.9.12 ('base': conda)",
   "language": "python",
   "name": "python3"
  },
  "language_info": {
   "codemirror_mode": {
    "name": "ipython",
    "version": 3
   },
   "file_extension": ".py",
   "mimetype": "text/x-python",
   "name": "python",
   "nbconvert_exporter": "python",
   "pygments_lexer": "ipython3",
   "version": "3.9.12"
  },
  "vscode": {
   "interpreter": {
    "hash": "395bcd43827c12f34ba277ba8ce79bc9791f0692262ae816061085addb5351ea"
   }
  }
 },
 "nbformat": 4,
 "nbformat_minor": 2
}
