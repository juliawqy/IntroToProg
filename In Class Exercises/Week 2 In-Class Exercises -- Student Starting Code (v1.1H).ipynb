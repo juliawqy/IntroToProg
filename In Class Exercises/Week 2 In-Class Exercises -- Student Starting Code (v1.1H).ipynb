{
 "cells": [
  {
   "cell_type": "markdown",
   "metadata": {},
   "source": [
    "<table class=\"table table-bordered\">\n",
    "    <tr>\n",
    "        <th style=\"text-align:center; width:35%\"><img src='https://soda-labo.github.io/images/smu_scis_logo_w400.jpg' style=\"width: 300px; height: 90px; \"></th>\n",
    "        <th style=\"text-align:center;\"><h3>IS111 - In-Class Exercises</h3><h3>Week 2</h3></th>\n",
    "    </tr>\n",
    "</table>"
   ]
  },
  {
   "cell_type": "markdown",
   "metadata": {},
   "source": [
    "### Q1: Functions for Numbers [ &#9733; ]"
   ]
  },
  {
   "cell_type": "markdown",
   "metadata": {},
   "source": [
    "#### (a)"
   ]
  },
  {
   "cell_type": "code",
   "execution_count": 5,
   "metadata": {},
   "outputs": [
    {
     "name": "stdout",
     "output_type": "stream",
     "text": [
      "Enter 1st number: 23.9\n",
      "Enter 2nd number: 198.3\n",
      "Enter 3rd number: -95.7\n",
      "Average: 42.16666666666667\n"
     ]
    }
   ],
   "source": [
    "# ################################################################################\n",
    "# The following code is given to you.\n",
    "def compute_average(a, b, c):\n",
    "    \"\"\"\n",
    "    This function returns the average of the three numbers a, b and c.\n",
    "    \"\"\"\n",
    "    return (a + b + c)/3\n",
    "\n",
    "# ################################################################################    \n",
    "# Write your code below:\n",
    "\n",
    "a = float(input( \"Enter 1st number: \"))\n",
    "b = float(input( \"Enter 2nd number: \"))\n",
    "c = float(input( \"Enter 3rd number: \"))\n",
    "\n",
    "average = compute_average(a, b, c)\n",
    "print(\"Average:\" , average)\n",
    "\n",
    "\n",
    "\n"
   ]
  },
  {
   "cell_type": "markdown",
   "metadata": {},
   "source": [
    "#### (b)"
   ]
  },
  {
   "cell_type": "code",
   "execution_count": 9,
   "metadata": {},
   "outputs": [
    {
     "name": "stdout",
     "output_type": "stream",
     "text": [
      "The geometric mean of 3, 4 and 6 is 2.3513346877207573\n",
      "The geometric mean of 2, 4 and 6 is: 2.2894284851066637\n"
     ]
    }
   ],
   "source": [
    "# ################################################################################\n",
    "# Implement the function below:\n",
    "def compute_geometric_mean(x, y, z):\n",
    "    \"\"\"\n",
    "    This function returns the geometric mean of the three numbers x, y and z.\n",
    "    \"\"\"\n",
    "    # Write your code here:\n",
    "    return ((x + y + z)**(1/3))\n",
    "\n",
    "a = int(input(\"Enter 1st number\"))\n",
    "b = int(input(\"Enter 2nd number\"))\n",
    "c = int(input(\"Enter 3rd number\"))\n",
    "\n",
    "print(f\"The geometric mean of {a}, {b} and {c} is\",  compute_geometric_mean(a, b, c) )\n",
    "    \n",
    "    \n",
    "    \n",
    "    \n",
    "\n",
    "# ################################################################################    \n",
    "# The code below is to test your implementation above.\n",
    "# DO NOT MODIFY THE CODE BELOW!\n",
    "\n",
    "print(\"The geometric mean of 2, 4 and 6 is:\", compute_geometric_mean(2, 4, 6))"
   ]
  },
  {
   "cell_type": "markdown",
   "metadata": {},
   "source": [
    "### Q2: Message Printer [ &#9733; ]"
   ]
  },
  {
   "cell_type": "code",
   "execution_count": 10,
   "metadata": {},
   "outputs": [
    {
     "name": "stdout",
     "output_type": "stream",
     "text": [
      "--------------------\n",
      "| Hello SIS! |\n",
      "--------------------\n",
      "--------------------\n",
      "* Hello Python! *\n",
      "$ Hello Functions! $\n",
      "--------------------\n"
     ]
    }
   ],
   "source": [
    "# ################################################################################\n",
    "# The following code is given to you.\n",
    "def print_a_line():\n",
    "    \"\"\"\n",
    "    This function displays a line of 20 dashes.\n",
    "    \"\"\"\n",
    "    print(\"--------------------\")\n",
    "    \n",
    "def print_a_message(msg, symbol):\n",
    "    \"\"\"\n",
    "    This function displays a given text message enclosed in a pair of the specified symbols.\n",
    "    For example, if msg is \"Welcome\" and symbol is \"#\", then the function displays \"# Welcome #\".\n",
    "    \n",
    "    Parameters:\n",
    "      - msg: A string that represents the text message to be displayed.\n",
    "      - symbol: A single character that is used to enclose the text message.\n",
    "    \"\"\"\n",
    "    print(symbol + \" \" + msg + \" \" + symbol)\n",
    "    \n",
    "# ################################################################################    \n",
    "# Write your code below:\n",
    "\n",
    "print_a_line()\n",
    "print_a_message(\"Hello SIS!\", \"|\")\n",
    "print_a_line()\n",
    "print_a_line()\n",
    "print_a_message(\"Hello Python!\", \"*\")\n",
    "print_a_message(\"Hello Functions!\", \"$\")\n",
    "print_a_line()\n",
    "\n",
    "\n",
    "\n",
    "\n",
    "\n",
    "\n",
    "\n",
    "# ################################################################################"
   ]
  },
  {
   "cell_type": "markdown",
   "metadata": {},
   "source": [
    "### Q3: Signage Printer [ &#9733;&#9733; ]"
   ]
  },
  {
   "cell_type": "code",
   "execution_count": 14,
   "metadata": {},
   "outputs": [
    {
     "name": "stdout",
     "output_type": "stream",
     "text": [
      "**********\n",
      "* Hello! *\n",
      "**********\n",
      "\n",
      "##################\n",
      "# Welcome to SMU #\n",
      "##################\n"
     ]
    }
   ],
   "source": [
    "# ################################################################################\n",
    "# The following code is given to you.\n",
    "def print_a_customized_line(symbol, n):\n",
    "    \"\"\"\n",
    "    This function prints the specified symbol n times in the same row.\n",
    "    For example, if symbol is '*' and n is 5, the function prints '*****'.\n",
    "    \n",
    "    Parameters:\n",
    "        - symbol: The symbol to be repeated.\n",
    "        - n: The number of times the symbol is to be repeated.\n",
    "    \"\"\"\n",
    "    for i in range(n):\n",
    "        print(symbol, end='')\n",
    "    print()\n",
    "# ################################################################################\n",
    "    \n",
    "\n",
    "# ################################################################################\n",
    "# This function is for you to implement!\n",
    "def print_signage(msg, symbol):\n",
    "    # Write your code below to print out the correct output.\n",
    "    print_a_customized_line(symbol, (len(msg) + 4))\n",
    "    print_a_message(msg, symbol)\n",
    "    print_a_customized_line(symbol, (len(msg) + 4))\n",
    "   \n",
    "\n",
    "\n",
    "    \n",
    "    \n",
    "# ################################################################################\n",
    "\n",
    "\n",
    "# ################################################################################\n",
    "# The code below is to test your implementation above.\n",
    "# DO NOT MODIFY THE CODE BELOW!\n",
    "\n",
    "print_signage(\"Hello!\", \"*\")\n",
    "print()\n",
    "print_signage(\"Welcome to SMU\", \"#\")\n",
    "# ################################################################################"
   ]
  },
  {
   "cell_type": "markdown",
   "metadata": {},
   "source": [
    "### Q4: Banknotes and Coins [ &#9733; ]"
   ]
  },
  {
   "cell_type": "code",
   "execution_count": 15,
   "metadata": {},
   "outputs": [
    {
     "name": "stdout",
     "output_type": "stream",
     "text": [
      "130\n",
      "150\n",
      "152\n",
      "155\n",
      "138\n",
      "143\n"
     ]
    },
    {
     "ename": "TypeError",
     "evalue": "calculate_total_amount() missing 1 required positional argument: 'ten_note'",
     "output_type": "error",
     "traceback": [
      "\u001b[1;31m---------------------------------------------------------------------------\u001b[0m",
      "\u001b[1;31mTypeError\u001b[0m                                 Traceback (most recent call last)",
      "\u001b[1;32mc:\\Users\\koie2\\Desktop\\jie\\uni\\SMU\\classes\\y1s1\\programming\\In Class Notes\\Week 2 In-Class Exercises -- Student Starting Code (v1.1H).ipynb Cell 12\u001b[0m in \u001b[0;36m<cell line: 28>\u001b[1;34m()\u001b[0m\n\u001b[0;32m     <a href='vscode-notebook-cell:/c%3A/Users/koie2/Desktop/jie/uni/SMU/classes/y1s1/programming/In%20Class%20Notes/Week%202%20In-Class%20Exercises%20--%20Student%20Starting%20Code%20%28v1.1H%29.ipynb#X14sZmlsZQ%3D%3D?line=25'>26</a>\u001b[0m \u001b[39mprint\u001b[39m(calculate_total_amount(\u001b[39m2\u001b[39m, \u001b[39m3\u001b[39m, two_note\u001b[39m=\u001b[39m\u001b[39m4\u001b[39m)) \u001b[39m#138\u001b[39;00m\n\u001b[0;32m     <a href='vscode-notebook-cell:/c%3A/Users/koie2/Desktop/jie/uni/SMU/classes/y1s1/programming/In%20Class%20Notes/Week%202%20In-Class%20Exercises%20--%20Student%20Starting%20Code%20%28v1.1H%29.ipynb#X14sZmlsZQ%3D%3D?line=26'>27</a>\u001b[0m \u001b[39mprint\u001b[39m(calculate_total_amount(\u001b[39m2\u001b[39m, \u001b[39m3\u001b[39m, two_note\u001b[39m=\u001b[39m\u001b[39m4\u001b[39m, five_note\u001b[39m=\u001b[39m\u001b[39m1\u001b[39m)) \u001b[39m#142\u001b[39;00m\n\u001b[1;32m---> <a href='vscode-notebook-cell:/c%3A/Users/koie2/Desktop/jie/uni/SMU/classes/y1s1/programming/In%20Class%20Notes/Week%202%20In-Class%20Exercises%20--%20Student%20Starting%20Code%20%28v1.1H%29.ipynb#X14sZmlsZQ%3D%3D?line=27'>28</a>\u001b[0m \u001b[39mprint\u001b[39m(calculate_total_amount(\u001b[39m3\u001b[39;49m, two_note\u001b[39m=\u001b[39;49m\u001b[39m4\u001b[39;49m, five_note\u001b[39m=\u001b[39;49m\u001b[39m1\u001b[39;49m))\n",
      "\u001b[1;31mTypeError\u001b[0m: calculate_total_amount() missing 1 required positional argument: 'ten_note'"
     ]
    }
   ],
   "source": [
    "# ################################################################################\n",
    "# The following code is given to you.\n",
    "def calculate_total_amount(fifty_note, ten_note, five_note=0, two_note=0, one_coin=0):\n",
    "    \"\"\"\n",
    "    This function takes in five parameters representing the numbers of banknotes and coin of\n",
    "    different denominations received. The function returns the total amount of money.\n",
    "    Parameters:\n",
    "        - fifty_note: The number of fifty-dollar notes.\n",
    "        - ten_note: The number of ten-dollar notes.\n",
    "        - five_note: The number of five-dollar notes.\n",
    "        - two_note: The number of two-dollar notes.\n",
    "        - one_coin: The number of one-dollar coins.\n",
    "    Return:\n",
    "        The total amount in dollars of the notes and coins passed in.\n",
    "    \"\"\"\n",
    "    return fifty_note * 50 + ten_note * 10 + five_note * 5 + two_note * 2 + one_coin\n",
    "# ################################################################################\n",
    "\n",
    "\n",
    "# You can verify your answers to Q4 by printing out the values of the function calls below.\n",
    "\n",
    "print(calculate_total_amount(2, 3)) #130\n",
    "print(calculate_total_amount(2, 3, 4)) #150\n",
    "print(calculate_total_amount(2, 3, 4, 1)) #152\n",
    "print(calculate_total_amount(2, 3, 4, 1, 3)) #155\n",
    "print(calculate_total_amount(2, 3, two_note=4)) #138\n",
    "print(calculate_total_amount(2, 3, two_note=4, five_note=1)) #143\n",
    "print(calculate_total_amount(3, two_note=4, five_note=1)) #error: not enough arguments\n"
   ]
  },
  {
   "cell_type": "markdown",
   "metadata": {},
   "source": [
    "### Q5: Python Standard Libraries [ &#9733; ]\n",
    "\n",
    "#### a) Square"
   ]
  },
  {
   "cell_type": "code",
   "execution_count": 16,
   "metadata": {},
   "outputs": [
    {
     "name": "stdout",
     "output_type": "stream",
     "text": [
      "Each side of the square is 4.0 centimeters.\n"
     ]
    }
   ],
   "source": [
    "# Write your code below.\n",
    "import math\n",
    "area = int(input(\"What's the size of the square (in square centimeters)? \"))\n",
    "side = math.sqrt(area)\n",
    "print(f\"Each side of the square is {side} centimeters.\")\n",
    "\n",
    "\n",
    "\n",
    "\n"
   ]
  },
  {
   "cell_type": "markdown",
   "metadata": {},
   "source": [
    "#### b) Random number"
   ]
  },
  {
   "cell_type": "code",
   "execution_count": 20,
   "metadata": {},
   "outputs": [
    {
     "name": "stdout",
     "output_type": "stream",
     "text": [
      "136\n"
     ]
    }
   ],
   "source": [
    "# Write your code below.\n",
    "import random\n",
    "\n",
    "number = int(input(\"What is your number? \"))\n",
    "print(random.randint(1, number))\n",
    "\n",
    "\n",
    "\n",
    "\n"
   ]
  },
  {
   "cell_type": "markdown",
   "metadata": {},
   "source": [
    "### Q6\n",
    "\n",
    "For this question, use VS Code to write and run your code."
   ]
  },
  {
   "cell_type": "code",
   "execution_count": 23,
   "metadata": {},
   "outputs": [
    {
     "name": "stdout",
     "output_type": "stream",
     "text": [
      "Your insurance premium is 300.\n"
     ]
    }
   ],
   "source": [
    "import week2_utility\n",
    "age = int(input(\"What is your age?\"))\n",
    "gender = input(\"What is your gender (M = male, F = female)?\")\n",
    "insurance = week2_utility.get_insurance_premium(age, gender)\n",
    "\n",
    "print(f\"Your insurance premium is {insurance}.\")"
   ]
  },
  {
   "cell_type": "markdown",
   "metadata": {},
   "source": [
    "### Q7: System Time [ &#9733;&#9733; ]"
   ]
  },
  {
   "cell_type": "code",
   "execution_count": 24,
   "metadata": {},
   "outputs": [
    {
     "name": "stdout",
     "output_type": "stream",
     "text": [
      "Based on this system time, 3 days, 2 hours, 1 minutes and 0 seconds have passed since 1 January 1970 00:00:00 UT.\n",
      "Based on this system time, 3 days, 2 hours, 1 minutes and 0 seconds have passed since 1 January 1970 00:00:00 UT.\n"
     ]
    }
   ],
   "source": [
    "# This line of code prompts the user for a system time.\n",
    "input_str = input('Please enter the system time (in seconds): ')\n",
    "\n",
    "################################################################################\n",
    "# Complete the code below to get the correct numbers of days, hours, minutes and seconds.\n",
    "# Put your code below\n",
    "\n",
    "num_days = int(input_str)//86400\n",
    "input_str = int(input_str)%86400\n",
    "\n",
    "num_hours = int(input_str)//3600\n",
    "input_str = int(input_str)%3600\n",
    "\n",
    "num_minutes = int(input_str)//60\n",
    "input_str = int(input_str)%60\n",
    "\n",
    "num_seconds = int(input_str)//1\n",
    "input_str = int(input_str)%1\n",
    "\n",
    "print(f\"Based on this system time, {num_days} days, {num_hours} hours, {num_minutes} minutes and {num_seconds} seconds have passed since 1 January 1970 00:00:00 UT.\")\n",
    "\n",
    "\n",
    "\n",
    "\n",
    "\n",
    "\n",
    "\n",
    "\n",
    "################################################################################\n",
    "# DO NOT MODIFY THE CODE BELOW!!!\n",
    "\n",
    "# This line of code displays the results.\n",
    "print('Based on this system time, ' + str(num_days) + ' days, ' + str(num_hours) + ' hours, ' + str(num_minutes) + ' minutes and ' + str(num_seconds) + ' seconds have passed since 1 January 1970 00:00:00 UT.') \n"
   ]
  },
  {
   "cell_type": "markdown",
   "metadata": {},
   "source": [
    "### Q8: Tax Calculator\n",
    "\n",
    "#### a) [ &#9733; ]"
   ]
  },
  {
   "cell_type": "code",
   "execution_count": 36,
   "metadata": {},
   "outputs": [
    {
     "name": "stdout",
     "output_type": "stream",
     "text": [
      "100.0\n"
     ]
    }
   ],
   "source": [
    "# ################################################################################\n",
    "# This function is for you to implement!\n",
    "def calculate_tax_1(income):\n",
    "    \"\"\"\n",
    "    This function assumes that the income is between $20,000 and $30,000.\n",
    "    \"\"\"\n",
    " \n",
    "    \n",
    "\n",
    "\n",
    "    # Modify the code below to return the right amount of tax.\n",
    "    tax = (income - 20000)*0.02\n",
    "    return tax\n",
    "    \n",
    "    \n",
    "    \n",
    "# ################################################################################\n",
    "\n",
    "# Call the function above to test whether it works.\n",
    "print(calculate_tax_1(25000.0))\n"
   ]
  },
  {
   "cell_type": "markdown",
   "metadata": {},
   "source": [
    "#### b) [ &#9733;&#9733; ]"
   ]
  },
  {
   "cell_type": "code",
   "execution_count": 32,
   "metadata": {},
   "outputs": [
    {
     "name": "stdout",
     "output_type": "stream",
     "text": [
      "100.0\n",
      "0\n"
     ]
    }
   ],
   "source": [
    "# ################################################################################\n",
    "# This function is for you to implement!\n",
    "def calculate_tax_2(income):\n",
    "    \"\"\"\n",
    "    This function assumes that the income is between $0 and $30,000.\n",
    "    \"\"\"\n",
    "    \n",
    "    # Modify the code below to return the right amount of tax.\n",
    "    \n",
    "    tax = max(((income - 20000)*0.02), 0)\n",
    "\n",
    "\n",
    "    return tax\n",
    "\n",
    "\n",
    "   \n",
    "\n",
    "\n",
    "\n",
    "\n",
    "\n",
    "\n",
    "# ################################################################################\n",
    "\n",
    "# Call the function above to test whether it works.\n",
    "print(calculate_tax_2(25000.0))\n",
    "print(calculate_tax_2(10000.0))\n"
   ]
  },
  {
   "cell_type": "markdown",
   "metadata": {},
   "source": [
    "#### c) [ &#9733;&#9733;&#9733; ]"
   ]
  },
  {
   "cell_type": "code",
   "execution_count": 35,
   "metadata": {},
   "outputs": [
    {
     "name": "stdout",
     "output_type": "stream",
     "text": [
      "100.0\n",
      "0\n",
      "375.0\n"
     ]
    }
   ],
   "source": [
    "# ################################################################################\n",
    "# This function is for you to implement!\n",
    "def calculate_tax_3(income):\n",
    "    \"\"\"\n",
    "    This function assumes that the income is between $0 and $40,000.\n",
    "    \"\"\"\n",
    "    \n",
    "    # Modify the code below to return the right amount of tax.\n",
    "    \n",
    "    tax = max(0, ((income - 20000)*0.02), ((income - 30000)*0.035 + 200))\n",
    "\n",
    "\n",
    "    return tax\n",
    "\n",
    "# ################################################################################\n",
    "\n",
    "# Call the function above to test whether it works.\n",
    "print(calculate_tax_3(25000.0))\n",
    "print(calculate_tax_3(10000.0))\n",
    "print(calculate_tax_3(35000.0))\n"
   ]
  },
  {
   "cell_type": "code",
   "execution_count": null,
   "metadata": {},
   "outputs": [],
   "source": []
  }
 ],
 "metadata": {
  "kernelspec": {
   "display_name": "Python 3.9.12 ('base': conda)",
   "language": "python",
   "name": "python3"
  },
  "language_info": {
   "codemirror_mode": {
    "name": "ipython",
    "version": 3
   },
   "file_extension": ".py",
   "mimetype": "text/x-python",
   "name": "python",
   "nbconvert_exporter": "python",
   "pygments_lexer": "ipython3",
   "version": "3.9.12"
  },
  "vscode": {
   "interpreter": {
    "hash": "395bcd43827c12f34ba277ba8ce79bc9791f0692262ae816061085addb5351ea"
   }
  }
 },
 "nbformat": 4,
 "nbformat_minor": 2
}
