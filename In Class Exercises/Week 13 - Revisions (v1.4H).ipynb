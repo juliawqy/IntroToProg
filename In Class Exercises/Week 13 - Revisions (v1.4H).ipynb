{
 "cells": [
  {
   "cell_type": "markdown",
   "metadata": {},
   "source": [
    "<table class=\"table table-bordered\">\n",
    "    <tr>\n",
    "        <th style=\"text-align:center; width:35%\"><img src='https://soda-labo.github.io/images/smu_scis_logo_w400.jpg' style=\"width: 300px; height: 90px; \"></th>\n",
    "        <th style=\"text-align:center;\"><h3>IS111 - In-Class Exercises</h3><h3>Week 13</h3></th>\n",
    "    </tr>\n",
    "</table>"
   ]
  },
  {
   "cell_type": "markdown",
   "metadata": {},
   "source": [
    "## Revisions Week 13"
   ]
  },
  {
   "cell_type": "markdown",
   "metadata": {},
   "source": [
    "### 1. Which variables below are not valid (i.e., will cause an error)?"
   ]
  },
  {
   "cell_type": "markdown",
   "metadata": {},
   "source": [
    "<table align=\"left\" class=\"table table-bordered\" style=\"width:40%\">\n",
    "<tr>\n",
    "<th style=\"text-align:center; width:20%\">No</th>\n",
    "<th style=\"text-align:center; width:50%\">name</th>\n",
    "<th style=\"text-align:center;\">valid?</th>\n",
    "</tr>\n",
    "<tr><td style=\"text-align:center; \">a.</td><td>interest-rate</td><td>no</td></tr>\n",
    "<tr><td style=\"text-align:center; \">b.</td><td>apple&#95;tv&#95;123</td><td>yes</td></tr>\n",
    "<tr><td style=\"text-align:center; \">c.</td><td>COUNTER</td><td>yes</td></tr>\n",
    "<tr><td style=\"text-align:center; \">d.</td><td>4&#95;you</td><td>no</td></tr>\n",
    "<tr><td style=\"text-align:center; \">e.</td><td>&#95;account&#95;balance</td><td>no</td></tr>\n",
    "<!-- <tr><td style=\"text-align:center; \">f.</td><td>fruit.apple</td><td></td></tr> -->\n",
    "<!-- <tr><td style=\"text-align:center; \">g.</td><td>I&#95;love&#95;programming!</td><td></td></tr> -->\n",
    "<!-- <tr><td style=\"text-align:center; \">h.</td><td>gold&#95;is&#95;expensive&#95;&#36;</td><td></td></tr> -->\n",
    "</table>"
   ]
  },
  {
   "cell_type": "markdown",
   "metadata": {},
   "source": [
    "### 2. Evaluate the following expressions:"
   ]
  },
  {
   "cell_type": "markdown",
   "metadata": {},
   "source": [
    "<table align=\"left\" class=\"table table-bordered\" style=\"width:50%\">\n",
    "<tr>\n",
    "<th style=\"text-align:center; width:5%\">#</th>\n",
    "<th style=\"text-align:center; width:30%\">Expression to evaluate</th>\n",
    "<th style=\"text-align:center; width:10%\">Result</th>\n",
    "</tr>\n",
    "<tr><td style=\"text-align:center; \">a.</td><td>print (15 // 7 + 15 % 4)</td><td>5</td></tr>\n",
    "<tr><td style=\"text-align:center; \">b.</td><td>print (16 / 4)</td><td>4.0</td></tr>\n",
    "<tr><td style=\"text-align:center; \">c.</td><td>print (3 > 5 or not 9 - 5 != 4)</td><td>True</td></tr>\n",
    "<tr><td style=\"text-align:center; \">d.</td><td>print (19 // 3 &#8727;&#8727; 2 &#8727; 2)</td><td>4</td></tr>\n",
    "<tr><td style=\"text-align:center; \">e.</td><td>print(2 &#8727;&#8727; 2 &#8727;&#8727; 3)</td><td>256</td></tr>\n",
    "<tr><td style=\"text-align:center; \">f.</td><td>print(int('10' + '2'), str(10 + 2))</td><td>102 12</td></tr>\n",
    "</table>"
   ]
  },
  {
   "cell_type": "code",
   "execution_count": 2,
   "metadata": {},
   "outputs": [
    {
     "name": "stdout",
     "output_type": "stream",
     "text": [
      "5\n"
     ]
    }
   ],
   "source": [
    "# a.\n",
    "print (15 // 7 + 15 % 4)"
   ]
  },
  {
   "cell_type": "code",
   "execution_count": 3,
   "metadata": {},
   "outputs": [
    {
     "name": "stdout",
     "output_type": "stream",
     "text": [
      "4.0\n"
     ]
    }
   ],
   "source": [
    "# b.\n",
    "print (16 / 4)"
   ]
  },
  {
   "cell_type": "code",
   "execution_count": 4,
   "metadata": {},
   "outputs": [
    {
     "name": "stdout",
     "output_type": "stream",
     "text": [
      "True\n"
     ]
    }
   ],
   "source": [
    "# c.\n",
    "print (3 > 5 or not 9 - 5 != 4)"
   ]
  },
  {
   "cell_type": "code",
   "execution_count": 1,
   "metadata": {},
   "outputs": [
    {
     "name": "stdout",
     "output_type": "stream",
     "text": [
      "4\n"
     ]
    }
   ],
   "source": [
    "# d.\n",
    "print (19 // 3 ** 2 * 2)"
   ]
  },
  {
   "cell_type": "code",
   "execution_count": 5,
   "metadata": {},
   "outputs": [
    {
     "name": "stdout",
     "output_type": "stream",
     "text": [
      "256\n"
     ]
    }
   ],
   "source": [
    "# e.\n",
    "print(2 ** 2 ** 3)"
   ]
  },
  {
   "cell_type": "code",
   "execution_count": 6,
   "metadata": {},
   "outputs": [
    {
     "name": "stdout",
     "output_type": "stream",
     "text": [
      "64\n"
     ]
    }
   ],
   "source": [
    "# Compare the following with e. above.\n",
    "print((2 ** 2) ** 3)"
   ]
  },
  {
   "cell_type": "code",
   "execution_count": 7,
   "metadata": {},
   "outputs": [
    {
     "name": "stdout",
     "output_type": "stream",
     "text": [
      "102 12\n"
     ]
    }
   ],
   "source": [
    "# f.\n",
    "print(int('10' + '2'), str(10 + 2))"
   ]
  },
  {
   "cell_type": "markdown",
   "metadata": {},
   "source": [
    "### 3. What is the output of the following code?"
   ]
  },
  {
   "cell_type": "markdown",
   "metadata": {},
   "source": [
    "#### a)"
   ]
  },
  {
   "cell_type": "code",
   "execution_count": 9,
   "metadata": {},
   "outputs": [
    {
     "name": "stdout",
     "output_type": "stream",
     "text": [
      "[3, 5, 6, 9, 10, 12]\n"
     ]
    }
   ],
   "source": [
    "list1 = []\n",
    "for n in range(1, 15):\n",
    "    if n % 5 == 0 or n % 3 == 0:\n",
    "        list1.append(n)\n",
    "print(list1) #[3, 5, 6, 9, 10, 12]"
   ]
  },
  {
   "cell_type": "markdown",
   "metadata": {},
   "source": [
    "#### b)"
   ]
  },
  {
   "cell_type": "code",
   "execution_count": 12,
   "metadata": {},
   "outputs": [
    {
     "name": "stdout",
     "output_type": "stream",
     "text": [
      "[3, 5, 7, 5, 4, 6, 8, 4, [3]]\n"
     ]
    }
   ],
   "source": [
    "list1 = [1, 3, 5, 7, 9]\n",
    "list2 = [2, 4, 6, 8]\n",
    "\n",
    "my_list = list1[1:4] + [len(list1)] + list2[len(list2)-3:] #[3, 5, 7, 5, 4, 6, 8]\n",
    "my_list.append(len(list2)) #[3, 5, 7, 5, 4, 6, 8, 4]\n",
    "my_list.append(list1[1:2]) #[3, 5, 7, 5, 4, 6, 8, 4, [3]] list[1:2] returns a list\n",
    "print(my_list)  #[3, 5, 7, 5, 4, 6, 8, 4, [3]]"
   ]
  },
  {
   "cell_type": "markdown",
   "metadata": {},
   "source": [
    "#### c)"
   ]
  },
  {
   "cell_type": "code",
   "execution_count": 13,
   "metadata": {},
   "outputs": [
    {
     "name": "stdout",
     "output_type": "stream",
     "text": [
      "['*', 'banana', 'durian', 'mango', '*']\n"
     ]
    }
   ],
   "source": [
    "def mystery1(my_list, word):\n",
    "    for i in range(len(my_list)):\n",
    "        if word in my_list[i]:\n",
    "            my_list[i] = '*'\n",
    "\n",
    "str_list = ['apple', 'banana', 'durian', 'mango', 'pear']\n",
    "mystery1(str_list, 'p')\n",
    "print(str_list) #['*', 'banana', 'durian', 'mango', '*']"
   ]
  },
  {
   "cell_type": "markdown",
   "metadata": {},
   "source": [
    "#### d)"
   ]
  },
  {
   "cell_type": "code",
   "execution_count": 14,
   "metadata": {},
   "outputs": [
    {
     "name": "stdout",
     "output_type": "stream",
     "text": [
      "['apple', 'banana', 'durian', 'mango', 'pear']\n"
     ]
    }
   ],
   "source": [
    "def mystery2(my_list, word):\n",
    "    for item in my_list:\n",
    "        if word in item:\n",
    "            item = '*'\n",
    "    \n",
    "str_list = ['apple', 'banana', 'durian', 'mango', 'pear']\n",
    "mystery2(str_list, 'p')\n",
    "print(str_list) #['apple', 'banana', 'durian', 'mango', 'pear']"
   ]
  },
  {
   "cell_type": "markdown",
   "metadata": {},
   "source": [
    "#### e)"
   ]
  },
  {
   "cell_type": "code",
   "execution_count": 15,
   "metadata": {},
   "outputs": [
    {
     "name": "stdout",
     "output_type": "stream",
     "text": [
      "[99, 2, 3]\n",
      "{1: 0, 0: 99}\n"
     ]
    },
    {
     "ename": "TypeError",
     "evalue": "'str' object does not support item assignment",
     "output_type": "error",
     "traceback": [
      "\u001b[1;31m---------------------------------------------------------------------------\u001b[0m",
      "\u001b[1;31mTypeError\u001b[0m                                 Traceback (most recent call last)",
      "\u001b[1;32mc:\\Users\\koie2\\Desktop\\jie\\uni\\SMU\\classes\\y1s1\\programming\\In Class Notes\\In Class Exercises\\Week 13 - Revisions (v1.4H).ipynb Cell 24\u001b[0m in \u001b[0;36m<cell line: 13>\u001b[1;34m()\u001b[0m\n\u001b[0;32m     <a href='vscode-notebook-cell:/c%3A/Users/koie2/Desktop/jie/uni/SMU/classes/y1s1/programming/In%20Class%20Notes/In%20Class%20Exercises/Week%2013%20-%20Revisions%20%28v1.4H%29.ipynb#X32sZmlsZQ%3D%3D?line=9'>10</a>\u001b[0m \u001b[39mprint\u001b[39m(my_dict) \u001b[39m#{1:0, 0:99}\u001b[39;00m\n\u001b[0;32m     <a href='vscode-notebook-cell:/c%3A/Users/koie2/Desktop/jie/uni/SMU/classes/y1s1/programming/In%20Class%20Notes/In%20Class%20Exercises/Week%2013%20-%20Revisions%20%28v1.4H%29.ipynb#X32sZmlsZQ%3D%3D?line=11'>12</a>\u001b[0m my_str \u001b[39m=\u001b[39m \u001b[39m'\u001b[39m\u001b[39m123\u001b[39m\u001b[39m'\u001b[39m\n\u001b[1;32m---> <a href='vscode-notebook-cell:/c%3A/Users/koie2/Desktop/jie/uni/SMU/classes/y1s1/programming/In%20Class%20Notes/In%20Class%20Exercises/Week%2013%20-%20Revisions%20%28v1.4H%29.ipynb#X32sZmlsZQ%3D%3D?line=12'>13</a>\u001b[0m modify_1(my_str, \u001b[39m'\u001b[39;49m\u001b[39m9\u001b[39;49m\u001b[39m'\u001b[39;49m)\n\u001b[0;32m     <a href='vscode-notebook-cell:/c%3A/Users/koie2/Desktop/jie/uni/SMU/classes/y1s1/programming/In%20Class%20Notes/In%20Class%20Exercises/Week%2013%20-%20Revisions%20%28v1.4H%29.ipynb#X32sZmlsZQ%3D%3D?line=13'>14</a>\u001b[0m \u001b[39mprint\u001b[39m(my_str)\n",
      "\u001b[1;32mc:\\Users\\koie2\\Desktop\\jie\\uni\\SMU\\classes\\y1s1\\programming\\In Class Notes\\In Class Exercises\\Week 13 - Revisions (v1.4H).ipynb Cell 24\u001b[0m in \u001b[0;36mmodify_1\u001b[1;34m(x, y)\u001b[0m\n\u001b[0;32m      <a href='vscode-notebook-cell:/c%3A/Users/koie2/Desktop/jie/uni/SMU/classes/y1s1/programming/In%20Class%20Notes/In%20Class%20Exercises/Week%2013%20-%20Revisions%20%28v1.4H%29.ipynb#X32sZmlsZQ%3D%3D?line=0'>1</a>\u001b[0m \u001b[39mdef\u001b[39;00m \u001b[39mmodify_1\u001b[39m(x, y):\n\u001b[1;32m----> <a href='vscode-notebook-cell:/c%3A/Users/koie2/Desktop/jie/uni/SMU/classes/y1s1/programming/In%20Class%20Notes/In%20Class%20Exercises/Week%2013%20-%20Revisions%20%28v1.4H%29.ipynb#X32sZmlsZQ%3D%3D?line=1'>2</a>\u001b[0m     x[\u001b[39m0\u001b[39m] \u001b[39m=\u001b[39m y\n",
      "\u001b[1;31mTypeError\u001b[0m: 'str' object does not support item assignment"
     ]
    }
   ],
   "source": [
    "def modify_1(x, y):\n",
    "    x[0] = y\n",
    "\n",
    "my_list = [1, 2, 3]\n",
    "modify_1(my_list, 99)\n",
    "print(my_list) #[99, 2, 3]\n",
    "    \n",
    "my_dict = {1:0, 0:1}\n",
    "modify_1(my_dict, 99)\n",
    "print(my_dict) #{1:0, 0:99}\n",
    "\n",
    "my_str = '123'\n",
    "modify_1(my_str, '9')\n",
    "print(my_str) #error"
   ]
  },
  {
   "cell_type": "markdown",
   "metadata": {},
   "source": [
    "#### f) ***difficult***"
   ]
  },
  {
   "cell_type": "code",
   "execution_count": 25,
   "metadata": {},
   "outputs": [
    {
     "name": "stdout",
     "output_type": "stream",
     "text": [
      "[1, 2, 3, 99]\n",
      "[1, 2, 3]\n"
     ]
    }
   ],
   "source": [
    "def modify_2(x, y):\n",
    "    x.append(y)\n",
    "\n",
    "def modify_3(x, y):\n",
    "    x = x + [y] #x is local variable, not modifying list directly\n",
    "    \n",
    "\n",
    "my_list = [1, 2, 3]\n",
    "modify_2(my_list, 99) #[1, 2, 3, 99]\n",
    "print(my_list) #[1, 2, 3, 99]\n",
    "\n",
    "my_list = [1, 2, 3]\n",
    "modify_3(my_list, 99) #[1, 2, 3, 99]\n",
    "print(my_list) #[1, 2, 3]"
   ]
  },
  {
   "cell_type": "markdown",
   "metadata": {},
   "source": [
    "### 4. Vowels\n",
    "\n",
    "Write a program that prompts the user for a string and displays the string where all the vowels ('a', 'e', 'i', 'o', 'u') (case insensitive) have been replaced by *.\n",
    "\n",
    "```\n",
    "Enter a sentence :Mississippi River Meets Ohio River\n",
    "New sentence     :M*ss*ss*pp* R*v*r M**ts *h** R*v*r\n",
    "```"
   ]
  },
  {
   "cell_type": "code",
   "execution_count": 27,
   "metadata": {},
   "outputs": [
    {
     "name": "stdout",
     "output_type": "stream",
     "text": [
      "M*ss*ss*pp* R*v*r M**ts *h** R*v*r\n"
     ]
    }
   ],
   "source": [
    "# Write your code here\n",
    "\n",
    "my_str = input(\"Enter a sentence :\")\n",
    "vowels = 'aeiou'\n",
    "new_str = ''\n",
    "for ch in my_str:\n",
    "    if ch.lower() in vowels:\n",
    "        new_str += '*'\n",
    "    else:\n",
    "        new_str += ch\n",
    "print(new_str)\n",
    "\n",
    "\n"
   ]
  },
  {
   "cell_type": "markdown",
   "metadata": {},
   "source": [
    "### 5. Digits\n",
    "\n",
    "Define a function called `display_chars_after_digits`. The function takes in a string `my_str` as its parameter. The function prints those non-digit characters that appear immediately after a segment of digits in `my_str`.\n",
    "\n",
    "E.g., \n",
    "\n",
    "- `display_chars_after_digits('1a2b3c')` prints `abc`\n",
    "- `display_chars_after_digits('123ABC456')` prints `A`\n",
    "- `display_chars_after_digits('abc12ABC0& 35.9-6.30=29.6')` prints `A&.-.=.`"
   ]
  },
  {
   "cell_type": "code",
   "execution_count": 41,
   "metadata": {},
   "outputs": [],
   "source": [
    "# Write your code here\n",
    "\n",
    "def display_chars_after_digits(my_str):\n",
    "    return_str = ''\n",
    "    for ch_index, ch in enumerate(my_str[:len(my_str)-1]):\n",
    "        if ch.isnumeric() == True:\n",
    "            if my_str[ch_index+1].isnumeric() == True:\n",
    "                continue\n",
    "            else:\n",
    "                return_str += my_str[ch_index+1]\n",
    "    \n",
    "    return return_str\n"
   ]
  },
  {
   "cell_type": "code",
   "execution_count": 42,
   "metadata": {},
   "outputs": [
    {
     "data": {
      "text/plain": [
       "'abc'"
      ]
     },
     "execution_count": 42,
     "metadata": {},
     "output_type": "execute_result"
    }
   ],
   "source": [
    "# prints abc\n",
    "display_chars_after_digits('1a2b3c')"
   ]
  },
  {
   "cell_type": "code",
   "execution_count": 43,
   "metadata": {},
   "outputs": [
    {
     "data": {
      "text/plain": [
       "'A'"
      ]
     },
     "execution_count": 43,
     "metadata": {},
     "output_type": "execute_result"
    }
   ],
   "source": [
    "# prints A\n",
    "display_chars_after_digits('123ABC456')"
   ]
  },
  {
   "cell_type": "code",
   "execution_count": 44,
   "metadata": {},
   "outputs": [
    {
     "data": {
      "text/plain": [
       "'A&.-.=.'"
      ]
     },
     "execution_count": 44,
     "metadata": {},
     "output_type": "execute_result"
    }
   ],
   "source": [
    "# prints A&.-.=.\n",
    "display_chars_after_digits('abc12ABC0& 35.9-6.30=29.6')"
   ]
  },
  {
   "cell_type": "markdown",
   "metadata": {},
   "source": [
    "### 6. Rectangles\n",
    "\n",
    "#### (a)\n",
    "\n",
    "Define a function called `get_total_area`. The function takes in a parameter called `rect_list`. It is a list of tuples, where each tuple contains two integers, representing the width and length of a rectangle. The function returns the total area of all the rectangles in the list. Note that the area of a rectangle is equal to its width multiplied by its length.\n",
    "\n",
    "E.g., `get_total_area([(1, 2), (4, 5), (2, 9)])` returns 40 (because the area of the first rectangle is 2, the area of the second rectangle is 20 and the area of the third rectangle is 18)."
   ]
  },
  {
   "cell_type": "code",
   "execution_count": 45,
   "metadata": {},
   "outputs": [],
   "source": [
    "# Write your code here\n",
    "\n",
    "def get_total_area(tuple_list):\n",
    "    total_area = 0\n",
    "    for rect_tuples in tuple_list:\n",
    "        total_area += rect_tuples[0]*rect_tuples[1]\n",
    "    return total_area\n"
   ]
  },
  {
   "cell_type": "code",
   "execution_count": 46,
   "metadata": {},
   "outputs": [
    {
     "name": "stdout",
     "output_type": "stream",
     "text": [
      "40\n"
     ]
    }
   ],
   "source": [
    "# prints 40\n",
    "print(get_total_area([(1, 2), (4, 5), (2, 9)]))"
   ]
  },
  {
   "cell_type": "markdown",
   "metadata": {},
   "source": [
    "#### (b)\n",
    "\n",
    "Define a function called `get_largest_rectangle`. The function takes in the same parameter as the one above. It returns a tuple containing three integers: the first two are the width and length of the rectangle that has the largest area in `rect_list`, the third integer is its area. \n",
    "\n",
    "If there are two rectangles sharing the same size (i.e., same area), the function should return the first such rectangle in `rect_list`.\n",
    "\n",
    "E.g., `get_largest_rectangle([(1, 2), (4, 5), (2, 9), (10, 2)])` returns `(4, 5, 20)`. This is because the rectangle `(4, 5)` has the largest area of 20 among the rectangles. Although the last rectangle `(10, 2)` also has an area of 20, it appears after `(4, 5)` and therefore is not returned.\n",
    "\n",
    "You can assume that the list `rect_list` contains at least one element."
   ]
  },
  {
   "cell_type": "code",
   "execution_count": 51,
   "metadata": {},
   "outputs": [],
   "source": [
    "# Write your code here\n",
    "\n",
    "def get_largest_rectangle(tuple_list):\n",
    "    max_rect_area = 0\n",
    "\n",
    "    for rect_tuples in tuple_list:\n",
    "        now_rect_area = 0\n",
    "        now_rect_area += rect_tuples[0]*rect_tuples[1]\n",
    "        if now_rect_area > max_rect_area:\n",
    "            return_tuple = (rect_tuples[0], rect_tuples[1], now_rect_area)\n",
    "            max_rect_area = now_rect_area\n",
    "    return return_tuple\n",
    "\n",
    "\n"
   ]
  },
  {
   "cell_type": "code",
   "execution_count": 52,
   "metadata": {},
   "outputs": [
    {
     "name": "stdout",
     "output_type": "stream",
     "text": [
      "(4, 5, 20)\n"
     ]
    }
   ],
   "source": [
    "# The code below should print the tuple (4, 5, 20)\n",
    "print(get_largest_rectangle([(1, 2), (4, 5), (2, 9), (10, 2)]))"
   ]
  },
  {
   "cell_type": "markdown",
   "metadata": {},
   "source": [
    "### 7. User Input\n",
    "\n",
    "Write some code that prompts the user for two integer numbers `num1` and `num2` and stops prompting the user when \n",
    "\n",
    "(1) `num1` is a multiple of 3 and `num2` is a multiple of 5,\n",
    "\n",
    "__or__ \n",
    "\n",
    "(2) when the sum of the two numbers is a multiple of 7.\n",
    "\n",
    "For example:\n",
    "\n",
    "```\n",
    "first number : 4\n",
    "second number : 5\n",
    "Not valid!\n",
    "\n",
    "first number : 6\n",
    "second number : 6\n",
    "Not valid!\n",
    "\n",
    "first number : 6\n",
    "second number : 10\n",
    "Bye!\n",
    "```\n",
    "\n",
    "Another example run:\n",
    "```\n",
    "first number : 17\n",
    "second number : 4\n",
    "Bye!\n",
    "```"
   ]
  },
  {
   "cell_type": "code",
   "execution_count": 58,
   "metadata": {},
   "outputs": [
    {
     "name": "stdout",
     "output_type": "stream",
     "text": [
      "Bye!\n"
     ]
    }
   ],
   "source": [
    "# Write your code here\n",
    "\n",
    "num1 = int(input('first number : '))\n",
    "num2 = int(input('second number : '))\n",
    "\n",
    "while not((num1%3 == 0 and num2%5 == 0) or (num1+num2)%7 == 0):\n",
    "    print(\"Not valid:\")\n",
    "    num1 = int(input('first number : '))\n",
    "    num2 = int(input('second number : '))\n",
    "\n",
    "print('Bye!')\n",
    "\n",
    "\n"
   ]
  },
  {
   "cell_type": "markdown",
   "metadata": {},
   "source": [
    "### 8. Segmentation\n",
    "Define a function called ```segment``` that takes in a string called ```text``` as its parameter.\n",
    "\n",
    "```text``` contains segments of texts separated by one of the following characters: ```|-=```.\n",
    "\n",
    "You can assume that `text` doesn't start with or end with one of these separators, e.g., you won't have `'|abc='` as `text`.\n",
    "\n",
    "For example, ```text``` may be ```'a b c|def-123 aaa=|(abc)'``` .\n",
    "\n",
    "The segments inside the string are:\n",
    "\n",
    "```\n",
    "'a b c' ,  'def' , '123 aaa' , '' , '(abc)'\n",
    "```\n",
    "\n",
    "The function segments the input string and returns all the segments together with the separaters as a list.\n",
    "\n",
    "For example, given the input string above, the function returns the following list:\n",
    "\n",
    "```\n",
    "['a b c', '|', 'def', '-', '123 aaa', '=', '', '|', '(abc)']\n",
    "```"
   ]
  },
  {
   "cell_type": "code",
   "execution_count": 67,
   "metadata": {},
   "outputs": [],
   "source": [
    "# Write your code here\n",
    "\n",
    "def segment(text):\n",
    "    return_str = ''\n",
    "    return_list = []\n",
    "    for ch in text:\n",
    "        if ch != '=' and ch != '-' and ch != '|':\n",
    "            return_str += ch\n",
    "        else:\n",
    "            return_list += [return_str]\n",
    "            return_list += [ch]\n",
    "            return_str = ''\n",
    "    if return_str != '':\n",
    "        return_list += [return_str]\n",
    "\n",
    "    return return_list\n",
    "\n",
    "\n",
    "\n"
   ]
  },
  {
   "cell_type": "code",
   "execution_count": 68,
   "metadata": {},
   "outputs": [
    {
     "name": "stdout",
     "output_type": "stream",
     "text": [
      "['a b c', '|', 'def', '-', '123 aaa', '=', '', '|', '(abc)']\n"
     ]
    }
   ],
   "source": [
    "print(segment('a b c|def-123 aaa=|(abc)'))"
   ]
  },
  {
   "cell_type": "markdown",
   "metadata": {},
   "source": [
    "## <font color = 'green'>Additional Questions</font>"
   ]
  },
  {
   "cell_type": "markdown",
   "metadata": {},
   "source": [
    "### 9. What is the output of the following code?"
   ]
  },
  {
   "cell_type": "markdown",
   "metadata": {},
   "source": [
    "#### a)"
   ]
  },
  {
   "cell_type": "code",
   "execution_count": 69,
   "metadata": {},
   "outputs": [
    {
     "name": "stdout",
     "output_type": "stream",
     "text": [
      "[14]\n"
     ]
    }
   ],
   "source": [
    "list2 = []\n",
    "for n in range(2, 20):\n",
    "    if n % 2 == 0 and n % 7 == 0:\n",
    "        list2.append(n) #[14]\n",
    "print(list2) #[14]"
   ]
  },
  {
   "cell_type": "markdown",
   "metadata": {},
   "source": [
    "#### b)"
   ]
  },
  {
   "cell_type": "code",
   "execution_count": 70,
   "metadata": {},
   "outputs": [
    {
     "name": "stdout",
     "output_type": "stream",
     "text": [
      "[3, 5, 7, 4, 6, 8]\n"
     ]
    }
   ],
   "source": [
    "my_list = [3, 5, 7, 5, 4, 6, 8, 4]\n",
    "\n",
    "your_list = []\n",
    "for n in my_list:\n",
    "    if n not in your_list:\n",
    "        your_list.append(n)\n",
    "print(your_list) #[3, 5, 7, 4, 6, 8]"
   ]
  },
  {
   "cell_type": "markdown",
   "metadata": {},
   "source": [
    "#### c)"
   ]
  },
  {
   "cell_type": "code",
   "execution_count": 72,
   "metadata": {},
   "outputs": [
    {
     "name": "stdout",
     "output_type": "stream",
     "text": [
      "10\n",
      "6.5\n"
     ]
    }
   ],
   "source": [
    "def mystery1(a, b, c):\n",
    "    a = b + c\n",
    "    d = 2 * a\n",
    "    print(d)\n",
    "    return a + b / c\n",
    "\n",
    "c = 2\n",
    "b = 3\n",
    "a = 4\n",
    "d = mystery1(a, b, c) #10\n",
    "print(d) #6.5"
   ]
  },
  {
   "cell_type": "markdown",
   "metadata": {},
   "source": [
    "#### d)"
   ]
  },
  {
   "cell_type": "code",
   "execution_count": 74,
   "metadata": {},
   "outputs": [
    {
     "name": "stdout",
     "output_type": "stream",
     "text": [
      "['ell', 'w', 'r']\n"
     ]
    }
   ],
   "source": [
    "def mystery2(s1, s2):\n",
    "    s = s1[1:len(s1)] + s2[0:3] #'ello wor'\n",
    "    to_return = s.split('o') #['ell', 'w', 'r']\n",
    "    return to_return\n",
    "    \n",
    "str1 = 'hello'\n",
    "str2 = 'world'\n",
    "unknown = mystery2(str1, str2)\n",
    "print(unknown) #['ell', 'w', 'r']"
   ]
  },
  {
   "cell_type": "markdown",
   "metadata": {},
   "source": [
    "#### e) "
   ]
  },
  {
   "cell_type": "code",
   "execution_count": 76,
   "metadata": {},
   "outputs": [],
   "source": [
    "def mystery5(x, y=10, z='SMU'):\n",
    "    print(x + y)\n",
    "    print(z + ' Student Association')"
   ]
  },
  {
   "cell_type": "code",
   "execution_count": 77,
   "metadata": {},
   "outputs": [
    {
     "name": "stdout",
     "output_type": "stream",
     "text": [
      "13\n",
      "SMU Student Association\n"
     ]
    }
   ],
   "source": [
    "mystery5(3) #13 #'SMU Student Assciation'"
   ]
  },
  {
   "cell_type": "code",
   "execution_count": 78,
   "metadata": {},
   "outputs": [
    {
     "name": "stdout",
     "output_type": "stream",
     "text": [
      "5\n",
      "SMU Student Association\n"
     ]
    }
   ],
   "source": [
    "mystery5(3, 2) #5 #'SMU Student Association'"
   ]
  },
  {
   "cell_type": "code",
   "execution_count": 79,
   "metadata": {},
   "outputs": [
    {
     "name": "stdout",
     "output_type": "stream",
     "text": [
      "5\n",
      "SUTD Student Association\n"
     ]
    }
   ],
   "source": [
    "mystery5(3, 2, 'SUTD') #5 #'SUTD Student Association'"
   ]
  },
  {
   "cell_type": "code",
   "execution_count": 82,
   "metadata": {},
   "outputs": [
    {
     "name": "stdout",
     "output_type": "stream",
     "text": [
      "13\n",
      "NTU Student Association\n"
     ]
    }
   ],
   "source": [
    "mystery5(3, z='NTU') #13 #'NTU Student Association'"
   ]
  },
  {
   "cell_type": "code",
   "execution_count": 83,
   "metadata": {},
   "outputs": [
    {
     "name": "stdout",
     "output_type": "stream",
     "text": [
      "8\n",
      "NUS Student Association\n"
     ]
    }
   ],
   "source": [
    "mystery5(3, y=5, z='NUS') #8 #'NUS Student Association'"
   ]
  },
  {
   "cell_type": "code",
   "execution_count": 85,
   "metadata": {},
   "outputs": [
    {
     "ename": "TypeError",
     "evalue": "unsupported operand type(s) for +: 'int' and 'str'",
     "output_type": "error",
     "traceback": [
      "\u001b[1;31m---------------------------------------------------------------------------\u001b[0m",
      "\u001b[1;31mTypeError\u001b[0m                                 Traceback (most recent call last)",
      "\u001b[1;32mc:\\Users\\koie2\\Desktop\\jie\\uni\\SMU\\classes\\y1s1\\programming\\In Class Notes\\In Class Exercises\\Week 13 - Revisions (v1.4H).ipynb Cell 62\u001b[0m in \u001b[0;36m<cell line: 1>\u001b[1;34m()\u001b[0m\n\u001b[1;32m----> <a href='vscode-notebook-cell:/c%3A/Users/koie2/Desktop/jie/uni/SMU/classes/y1s1/programming/In%20Class%20Notes/In%20Class%20Exercises/Week%2013%20-%20Revisions%20%28v1.4H%29.ipynb#Y115sZmlsZQ%3D%3D?line=0'>1</a>\u001b[0m mystery5(\u001b[39m3\u001b[39;49m, \u001b[39m'\u001b[39;49m\u001b[39mNUS\u001b[39;49m\u001b[39m'\u001b[39;49m)\n",
      "\u001b[1;32mc:\\Users\\koie2\\Desktop\\jie\\uni\\SMU\\classes\\y1s1\\programming\\In Class Notes\\In Class Exercises\\Week 13 - Revisions (v1.4H).ipynb Cell 62\u001b[0m in \u001b[0;36mmystery5\u001b[1;34m(x, y, z)\u001b[0m\n\u001b[0;32m      <a href='vscode-notebook-cell:/c%3A/Users/koie2/Desktop/jie/uni/SMU/classes/y1s1/programming/In%20Class%20Notes/In%20Class%20Exercises/Week%2013%20-%20Revisions%20%28v1.4H%29.ipynb#Y115sZmlsZQ%3D%3D?line=0'>1</a>\u001b[0m \u001b[39mdef\u001b[39;00m \u001b[39mmystery5\u001b[39m(x, y\u001b[39m=\u001b[39m\u001b[39m10\u001b[39m, z\u001b[39m=\u001b[39m\u001b[39m'\u001b[39m\u001b[39mSMU\u001b[39m\u001b[39m'\u001b[39m):\n\u001b[1;32m----> <a href='vscode-notebook-cell:/c%3A/Users/koie2/Desktop/jie/uni/SMU/classes/y1s1/programming/In%20Class%20Notes/In%20Class%20Exercises/Week%2013%20-%20Revisions%20%28v1.4H%29.ipynb#Y115sZmlsZQ%3D%3D?line=1'>2</a>\u001b[0m     \u001b[39mprint\u001b[39m(x \u001b[39m+\u001b[39;49m y)\n\u001b[0;32m      <a href='vscode-notebook-cell:/c%3A/Users/koie2/Desktop/jie/uni/SMU/classes/y1s1/programming/In%20Class%20Notes/In%20Class%20Exercises/Week%2013%20-%20Revisions%20%28v1.4H%29.ipynb#Y115sZmlsZQ%3D%3D?line=2'>3</a>\u001b[0m     \u001b[39mprint\u001b[39m(z \u001b[39m+\u001b[39m \u001b[39m'\u001b[39m\u001b[39m Student Association\u001b[39m\u001b[39m'\u001b[39m)\n",
      "\u001b[1;31mTypeError\u001b[0m: unsupported operand type(s) for +: 'int' and 'str'"
     ]
    }
   ],
   "source": [
    "mystery5(3, 'NUS') #error"
   ]
  },
  {
   "cell_type": "markdown",
   "metadata": {},
   "source": [
    "#### f)"
   ]
  },
  {
   "cell_type": "code",
   "execution_count": null,
   "metadata": {},
   "outputs": [],
   "source": [
    "name_1 = 'Good morning!'\n",
    "name_2 = 'Good evening!'\n",
    "\n",
    "print (name_1[0] + name_1[5] + name_1[len(name_1) - 1])\n",
    "\n",
    "print (name_1[0:4], name_2[5:])\n",
    "\n",
    "substr = name_2[5:9] + 't'\n",
    "print(substr)\n",
    "print(substr[::-1])"
   ]
  },
  {
   "cell_type": "markdown",
   "metadata": {},
   "source": [
    "### 10. \n",
    "Given the Python code below, what will be the output of the code for the following values of n?"
   ]
  },
  {
   "cell_type": "code",
   "execution_count": 92,
   "metadata": {},
   "outputs": [
    {
     "name": "stdout",
     "output_type": "stream",
     "text": [
      "Night\n"
     ]
    }
   ],
   "source": [
    "if n <= 5:\n",
    "    print('Morning')\n",
    "else: \n",
    "    if n > 20:\n",
    "        print('Afternoon')\n",
    "    elif n < 10:\n",
    "        print('Evening')\n",
    "    elif n > 8:\n",
    "        print('Night')\n",
    "    else:\n",
    "        print('Day')"
   ]
  },
  {
   "cell_type": "markdown",
   "metadata": {},
   "source": [
    "<table align=\"left\" class=\"table table-bordered\" style=\"width:40%\">\n",
    "<tr>\n",
    "<th style=\"text-align:center; width:5%\">No</th>\n",
    "<th style=\"text-align:center; width:5%\">Value of a</th>\n",
    "<th style=\"text-align:center; width:10%\">Output</th>\n",
    "</tr>\n",
    "<tr><td style=\"text-align:center; \">a.</td><td>n = 2</td><td>Morning</td></tr>\n",
    "<tr><td style=\"text-align:center; \">b.</td><td>n = 7</td><td>Evening</td></tr>\n",
    "<tr><td style=\"text-align:center; \">c.</td><td>n = 9</td><td>Evening</td></tr>\n",
    "<tr><td style=\"text-align:center; \">d.</td><td>n = 18</td><td>Night</td></tr>\n",
    "</table>\n",
    "\n",
    "#### <br /><br /><br /><br /><br /><br /><br /><br /><br /><br /><br /><br /><br />Which value of n will print 'Day' on the screen?\n",
    "None"
   ]
  },
  {
   "cell_type": "markdown",
   "metadata": {},
   "source": [
    "### 11. \n",
    "\n",
    "#### (a)\n",
    "\n",
    "Write a program that prompts the user for a positive integer. The program prints out the odd integers between 1 and the number (both inclusive).\n",
    "\n",
    "\n",
    "```\n",
    "Enter a number :10\n",
    "1 3 5 7 9 \n",
    "```\n",
    "\n",
    "```\n",
    "Enter a number :5\n",
    "1 3 5\n",
    "```"
   ]
  },
  {
   "cell_type": "code",
   "execution_count": 98,
   "metadata": {},
   "outputs": [
    {
     "name": "stdout",
     "output_type": "stream",
     "text": [
      "1 3 5 \n"
     ]
    }
   ],
   "source": [
    "# Write your code here\n",
    "\n",
    "num = input(\"Enter a number :\")\n",
    "return_str = ''\n",
    "while int(num) <= 0:\n",
    "    num = input(\"Enter a number :\")\n",
    "for ints in range(1,int(num)+1):\n",
    "    if ints%2 == 1:\n",
    "        return_str += str(ints) + ' '\n",
    "print(return_str)\n",
    "\n"
   ]
  },
  {
   "cell_type": "markdown",
   "metadata": {},
   "source": [
    "#### (b) \n",
    "\n",
    "Write a program that prompts the user for a positive integer. Call this number $n$. The program then displays all the even numbers between 0 and 2$n$ (both inclusive).\n",
    "\n",
    "```\n",
    "Enter a number :10\n",
    "0 2 4 6 8 10 12 14 16 18 20 \n",
    "```\n",
    "\n",
    "Other sample run:\n",
    "\n",
    "```\n",
    "Enter a number :15\n",
    "0 2 4 6 8 10 12 14 16 18 20 22 24 26 28 30 \n",
    "```"
   ]
  },
  {
   "cell_type": "code",
   "execution_count": 102,
   "metadata": {},
   "outputs": [
    {
     "name": "stdout",
     "output_type": "stream",
     "text": [
      "0 2 4 6 8 10 12 14 16 18 20 22 24 26 28 30 \n"
     ]
    }
   ],
   "source": [
    "# Write your code here\n",
    "\n",
    "num = input(\"Enter a number :\")\n",
    "return_str = ''\n",
    "while int(num) <= 0:\n",
    "    num = input(\"Enter a number :\")\n",
    "for ints in range(0,2*int(num)+1):\n",
    "    if ints%2 == 0:\n",
    "        return_str += str(ints) + ' '\n",
    "print(return_str)"
   ]
  },
  {
   "cell_type": "markdown",
   "metadata": {},
   "source": [
    "### 12."
   ]
  },
  {
   "cell_type": "markdown",
   "metadata": {},
   "source": [
    "Observe the output below and write a program that prompts the user for a positive integer and prints out a sequence of numbers as shown below:\n",
    "\n",
    "Sample run 1:\n",
    "\n",
    "```\n",
    "Enter a number :10\n",
    "0 4 8 12 16 20 \n",
    "```\n",
    "Sample run 2:\n",
    "\n",
    "```\n",
    "Enter a number :35\n",
    "0 4 8 12 16 20 24 28 32 36 40 44 48 52 56 60 64 68 \n",
    "```"
   ]
  },
  {
   "cell_type": "code",
   "execution_count": 104,
   "metadata": {},
   "outputs": [
    {
     "name": "stdout",
     "output_type": "stream",
     "text": [
      "0 4 8 12 16 20 24 28 32 36 40 44 48 52 56 60 64 68 \n"
     ]
    }
   ],
   "source": [
    "# Write your code here\n",
    "\n",
    "num = input(\"Enter a number :\")\n",
    "return_str = ''\n",
    "while int(num) <= 0:\n",
    "    num = input(\"Enter a number :\")\n",
    "for ints in range(0,2*int(num)+1):\n",
    "    if ints%4 == 0:\n",
    "        return_str += str(ints) + ' '\n",
    "print(return_str)"
   ]
  },
  {
   "cell_type": "markdown",
   "metadata": {},
   "source": [
    "### 13.\n",
    "\n",
    "Write a program that takes in a string and prints out the characters with odd indices. \n",
    "\n",
    "\n",
    "```\n",
    "Enter a sentence :Blue Lagoon\n",
    "position 1: l\n",
    "position 3: e\n",
    "position 5: L\n",
    "position 7: g\n",
    "position 9: o\n",
    "\n",
    "total: 5 characters at odd positions\n",
    "```\n"
   ]
  },
  {
   "cell_type": "code",
   "execution_count": 106,
   "metadata": {},
   "outputs": [
    {
     "name": "stdout",
     "output_type": "stream",
     "text": [
      "position 2: l\n",
      "position 4: e\n",
      "position 6: L\n",
      "position 8: g\n",
      "position 10: o\n",
      "\n",
      "total: 5 characters at odd positions\n"
     ]
    }
   ],
   "source": [
    "# Write your code here\n",
    "\n",
    "my_str = input(\"Enter a sentence :\")\n",
    "count = 0\n",
    "\n",
    "for index, ch in enumerate(my_str):\n",
    "    if index%2 == 1:\n",
    "        print(f\"position {index+1}: {ch}\")\n",
    "        count += 1\n",
    "print(f'\\ntotal: {count} characters at odd positions')\n",
    "\n",
    "\n"
   ]
  },
  {
   "cell_type": "markdown",
   "metadata": {},
   "source": [
    "### 14."
   ]
  },
  {
   "cell_type": "markdown",
   "metadata": {},
   "source": [
    "Define a function ```get_total_length()``` that takes in a list of strings as its parameter. The function returns the total length of all the strings in the list.\n",
    "\n",
    "E.g. ```get_total_length(['123', '00', 'abcde'])``` should return 10.\n"
   ]
  },
  {
   "cell_type": "code",
   "execution_count": 107,
   "metadata": {},
   "outputs": [],
   "source": [
    "# write you code here\n",
    "\n",
    "def get_total_length(str_list):\n",
    "    return_len = 0\n",
    "    for items in str_list:\n",
    "        return_len += len(items)\n",
    "\n",
    "    return return_len\n",
    "\n"
   ]
  },
  {
   "cell_type": "code",
   "execution_count": 108,
   "metadata": {},
   "outputs": [
    {
     "name": "stdout",
     "output_type": "stream",
     "text": [
      "10\n"
     ]
    }
   ],
   "source": [
    "# prints 10\n",
    "print(get_total_length(['123', '00', 'abcde']))"
   ]
  },
  {
   "cell_type": "code",
   "execution_count": null,
   "metadata": {},
   "outputs": [],
   "source": []
  }
 ],
 "metadata": {
  "kernelspec": {
   "display_name": "Python 3.9.12 ('base': conda)",
   "language": "python",
   "name": "python3"
  },
  "language_info": {
   "codemirror_mode": {
    "name": "ipython",
    "version": 3
   },
   "file_extension": ".py",
   "mimetype": "text/x-python",
   "name": "python",
   "nbconvert_exporter": "python",
   "pygments_lexer": "ipython3",
   "version": "3.9.12"
  },
  "vscode": {
   "interpreter": {
    "hash": "395bcd43827c12f34ba277ba8ce79bc9791f0692262ae816061085addb5351ea"
   }
  }
 },
 "nbformat": 4,
 "nbformat_minor": 2
}
