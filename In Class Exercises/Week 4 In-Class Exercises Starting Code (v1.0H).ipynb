{
 "cells": [
  {
   "cell_type": "markdown",
   "metadata": {},
   "source": [
    "<table class=\"table table-bordered\">\n",
    "    <tr>\n",
    "        <th style=\"text-align:center; width:35%\"><img src='https://soda-labo.github.io/images/smu_scis_logo_w400.jpg' style=\"width: 300px; height: 90px; \"></th>\n",
    "        <th style=\"text-align:center;\"><h3>IS111 - In-Class Exercises</h3><h3>Week 4 - More on Conditions, Strings and for-Loops <br /><br /> (Starting Code)</h3></th>\n",
    "    </tr>\n",
    "</table>"
   ]
  },
  {
   "cell_type": "markdown",
   "metadata": {},
   "source": [
    "### Q1: Print a Message with Separators"
   ]
  },
  {
   "cell_type": "markdown",
   "metadata": {},
   "source": [
    "#### Part I [ &#9733; ]"
   ]
  },
  {
   "cell_type": "code",
   "execution_count": 2,
   "metadata": {},
   "outputs": [
    {
     "name": "stdout",
     "output_type": "stream",
     "text": [
      "P y t h o n "
     ]
    }
   ],
   "source": [
    "# Write your code below\n",
    "message = input(\"Enter a message :\")\n",
    "for ch in message:\n",
    "    print(ch, end=' ')\n",
    "\n"
   ]
  },
  {
   "cell_type": "markdown",
   "metadata": {},
   "source": [
    "#### Part II [ &#9733;&#9733; ]"
   ]
  },
  {
   "cell_type": "code",
   "execution_count": 30,
   "metadata": {},
   "outputs": [
    {
     "name": "stdout",
     "output_type": "stream",
     "text": [
      "H-e-l-l-o- -w-o-r-l-d-!\n"
     ]
    }
   ],
   "source": [
    "# Write your code below\n",
    "message2 = str(input(\"Enter a message :\"))\n",
    "for n in range(len(message2)):\n",
    "    if n == len(message2) - 1:\n",
    "        print(message2[n])\n",
    "    else:\n",
    "        print(message2[n], end='-')\n",
    "    \n",
    "\n"
   ]
  },
  {
   "cell_type": "markdown",
   "metadata": {},
   "source": [
    "#### Part III [ &#9733;&#9733; ]"
   ]
  },
  {
   "cell_type": "code",
   "execution_count": 31,
   "metadata": {},
   "outputs": [],
   "source": [
    "# Write your code below\n",
    "def print_message_with_separators(msg, sep):\n",
    "    for n in range(len(msg)):\n",
    "        if n == len(msg) - 1:\n",
    "            print(msg[n])\n",
    "        else:\n",
    "            print(msg[n], end=sep)\n",
    "        \n",
    "\n"
   ]
  },
  {
   "cell_type": "code",
   "execution_count": 33,
   "metadata": {},
   "outputs": [
    {
     "name": "stdout",
     "output_type": "stream",
     "text": [
      "H^e^l^l^o^ ^t^h^e^r^e\n"
     ]
    }
   ],
   "source": [
    "# Testing code provided\n",
    "# do not modify the code below. Use it to test your function\n",
    "\n",
    "message = input('Enter a message :')\n",
    "separator = input('Enter a separator :')\n",
    "print_message_with_separators(message,separator)"
   ]
  },
  {
   "cell_type": "markdown",
   "metadata": {},
   "source": [
    "### Q2: De Morgan's Law [ &#9733;&#9733; ]\n"
   ]
  },
  {
   "cell_type": "code",
   "execution_count": 10,
   "metadata": {},
   "outputs": [
    {
     "name": "stdout",
     "output_type": "stream",
     "text": [
      "False\n",
      "False\n"
     ]
    }
   ],
   "source": [
    "a = False\n",
    "b = False\n",
    "\n",
    "given_code = not ( not ( a and not b ) or ( b or not a ) )\n",
    "my_code = a and not b\n",
    "\n",
    "print(code)\n",
    "print(my_code)\n"
   ]
  },
  {
   "cell_type": "markdown",
   "metadata": {},
   "source": [
    "### Q3: Display Numbers [ &#9733;&#9733; ]"
   ]
  },
  {
   "cell_type": "code",
   "execution_count": 36,
   "metadata": {},
   "outputs": [],
   "source": [
    "# Write your code below\n",
    "def display_numbers(m, n):\n",
    "    for i in range(m, n+1):\n",
    "        if i%3 == 0 and i%5 == 0:\n",
    "            print(\"#\", end=' ')\n",
    "        elif i%3 == 0:\n",
    "            print(\"-\", end=' ')\n",
    "        elif i%5 == 0:\n",
    "            print(\"*\", end=' ')\n",
    "        else:\n",
    "            print(i, end=' ')\n",
    "\n",
    "\n"
   ]
  },
  {
   "cell_type": "code",
   "execution_count": 38,
   "metadata": {},
   "outputs": [
    {
     "name": "stdout",
     "output_type": "stream",
     "text": [
      "4 * - 7 8 - * 11 - 13 14 # 16 "
     ]
    }
   ],
   "source": [
    "# Testing code provided\n",
    "# do not modify the code below. Use it to test your function\n",
    "\n",
    "m = int(input('Enter first number :'))\n",
    "n = int(input('Enter second number :'))\n",
    "display_numbers(m,n)"
   ]
  },
  {
   "cell_type": "markdown",
   "metadata": {},
   "source": [
    "### Q4: Compute Sum [ &#9733;&#9733; ]\n",
    "\n",
    "Please use VS Code to work on this question."
   ]
  },
  {
   "cell_type": "code",
   "execution_count": 39,
   "metadata": {},
   "outputs": [
    {
     "name": "stdout",
     "output_type": "stream",
     "text": [
      "The sum is 49\n"
     ]
    }
   ],
   "source": [
    "def compute_sum(m, n):\n",
    "    sum = 0\n",
    "    for i in range(m, n+1):\n",
    "        sum = sum + i\n",
    "    return sum\n",
    "\n",
    "my_sum = compute_sum(4, 10)\n",
    "print(\"The sum is \" + str(my_sum))"
   ]
  },
  {
   "cell_type": "markdown",
   "metadata": {},
   "source": [
    "### Q5: Palindrome [ &#9733;&#9733;&#9733;  ]\n",
    "\n",
    "Please use VS Code to work on this question."
   ]
  },
  {
   "cell_type": "code",
   "execution_count": 45,
   "metadata": {},
   "outputs": [
    {
     "name": "stdout",
     "output_type": "stream",
     "text": [
      "racecar is a palindrome.\n"
     ]
    }
   ],
   "source": [
    "def palindrome():\n",
    "    my_str = str(input(\"Enter a word :\"))\n",
    "    my_str_back = my_str[::-1]\n",
    "    if my_str == my_str_back:\n",
    "        print(my_str, \"is a palindrome.\")\n",
    "    else:\n",
    "        print(my_str, \"is NOT a palindrome.\")\n",
    "\n",
    "palindrome()\n",
    "\n"
   ]
  },
  {
   "cell_type": "markdown",
   "metadata": {},
   "source": [
    "### Q6: Buying Books [ &#9733;&#9733;&#9733; ]\n",
    "\n",
    "Please use VS Code to work on this question."
   ]
  },
  {
   "cell_type": "code",
   "execution_count": 57,
   "metadata": {},
   "outputs": [
    {
     "name": "stdout",
     "output_type": "stream",
     "text": [
      "a) Total price: $29.2\n",
      "b) Average price: $9.73\n",
      "c) Price of the least expensive book : $5.5\n",
      "d) Price of the most expensive book : $15.5\n",
      "e) Number of books cheaper than $10 : 2\n",
      "f) Percentage of books cheaper than $10 : $66.67%\n"
     ]
    }
   ],
   "source": [
    "num_books = int(input(\"How many books do you have in your basket? \"))\n",
    "total_price = 0\n",
    "lowest_price = 99999999999\n",
    "highest_price = 0\n",
    "count = 0\n",
    "\n",
    "for i in range(1, num_books+1):\n",
    "    price = float(input(f\"What is the price of book number {i}? :$\"))\n",
    "    total_price = total_price + price\n",
    "    if price <= lowest_price:\n",
    "        lowest_price = price\n",
    "    if price >= highest_price:\n",
    "        highest_price = price\n",
    "    if price < 10:\n",
    "        count = count + 1\n",
    "    percentage = round((count/num_books)*100,2)\n",
    "    \n",
    "\n",
    "avg_price = round(total_price/(num_books),2)\n",
    "\n",
    "\n",
    "print(f\"a) Total price: ${total_price}\")\n",
    "print(f\"b) Average price: ${avg_price}\")\n",
    "print(f\"c) Price of the least expensive book : ${lowest_price}\")\n",
    "print(f\"d) Price of the most expensive book : ${highest_price}\")\n",
    "print(f\"e) Number of books cheaper than $10 : {count}\")\n",
    "print(f\"f) Percentage of books cheaper than $10 : ${percentage}%\")"
   ]
  }
 ],
 "metadata": {
  "kernelspec": {
   "display_name": "Python 3.9.12 ('base': conda)",
   "language": "python",
   "name": "python3"
  },
  "language_info": {
   "codemirror_mode": {
    "name": "ipython",
    "version": 3
   },
   "file_extension": ".py",
   "mimetype": "text/x-python",
   "name": "python",
   "nbconvert_exporter": "python",
   "pygments_lexer": "ipython3",
   "version": "3.9.12"
  },
  "vscode": {
   "interpreter": {
    "hash": "395bcd43827c12f34ba277ba8ce79bc9791f0692262ae816061085addb5351ea"
   }
  }
 },
 "nbformat": 4,
 "nbformat_minor": 2
}
