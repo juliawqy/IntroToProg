{
 "cells": [
  {
   "cell_type": "markdown",
   "metadata": {},
   "source": [
    "<table class=\"table table-bordered\">\n",
    "    <tr>\n",
    "        <th style=\"text-align:center; width:35%\"><img src='https://soda-labo.github.io/images/smu_scis_logo_w400.jpg' style=\"width: 300px; height: 90px; \"></th>\n",
    "        <th style=\"text-align:center;\"><h3>IS111 - In-Class Exercises</h3><h3>Week 1</h3></th>\n",
    "    </tr>\n",
    "</table>"
   ]
  },
  {
   "cell_type": "markdown",
   "metadata": {},
   "source": [
    "<div style=\"text-align: right\"><i>* Last modified: 2022/07/29</i></div>"
   ]
  },
  {
   "cell_type": "markdown",
   "metadata": {},
   "source": [
    "### Q1: Operators\n",
    "\n",
    "Without running the code below, what do you think the output will be?"
   ]
  },
  {
   "cell_type": "code",
   "execution_count": 1,
   "metadata": {
    "tags": []
   },
   "outputs": [
    {
     "name": "stdout",
     "output_type": "stream",
     "text": [
      "4.8\n",
      "-3.0\n",
      "-3.0\n",
      "4\n",
      "1\n",
      "1\n",
      "abc def\n"
     ]
    },
    {
     "ename": "TypeError",
     "evalue": "can only concatenate str (not \"int\") to str",
     "output_type": "error",
     "traceback": [
      "\u001b[1;31m---------------------------------------------------------------------------\u001b[0m",
      "\u001b[1;31mTypeError\u001b[0m                                 Traceback (most recent call last)",
      "\u001b[1;32mc:\\Users\\koie2\\Desktop\\jie\\uni\\SMU\\classes\\y1s1\\programming\\In Class Notes\\Week 1 In-Class Exercises (v1.1H).ipynb Cell 4\u001b[0m in \u001b[0;36m<cell line: 9>\u001b[1;34m()\u001b[0m\n\u001b[0;32m      <a href='vscode-notebook-cell:/c%3A/Users/koie2/Desktop/jie/uni/SMU/classes/y1s1/programming/In%20Class%20Notes/Week%201%20In-Class%20Exercises%20%28v1.1H%29.ipynb#W3sZmlsZQ%3D%3D?line=5'>6</a>\u001b[0m \u001b[39mprint\u001b[39m(\u001b[39m2\u001b[39m \u001b[39m+\u001b[39m \u001b[39m3\u001b[39m \u001b[39m*\u001b[39m \u001b[39m6\u001b[39m \u001b[39m%\u001b[39m \u001b[39m3\u001b[39m \u001b[39m*\u001b[39m\u001b[39m*\u001b[39m \u001b[39m2\u001b[39m \u001b[39m-\u001b[39m \u001b[39m1\u001b[39m) \u001b[39m#1.0\u001b[39;00m\n\u001b[0;32m      <a href='vscode-notebook-cell:/c%3A/Users/koie2/Desktop/jie/uni/SMU/classes/y1s1/programming/In%20Class%20Notes/Week%201%20In-Class%20Exercises%20%28v1.1H%29.ipynb#W3sZmlsZQ%3D%3D?line=7'>8</a>\u001b[0m \u001b[39mprint\u001b[39m(\u001b[39m\"\u001b[39m\u001b[39mabc\u001b[39m\u001b[39m\"\u001b[39m \u001b[39m+\u001b[39m \u001b[39m\"\u001b[39m\u001b[39m \u001b[39m\u001b[39m\"\u001b[39m \u001b[39m+\u001b[39m \u001b[39m\"\u001b[39m\u001b[39mdef\u001b[39m\u001b[39m\"\u001b[39m) \u001b[39m#abcdef\u001b[39;00m\n\u001b[1;32m----> <a href='vscode-notebook-cell:/c%3A/Users/koie2/Desktop/jie/uni/SMU/classes/y1s1/programming/In%20Class%20Notes/Week%201%20In-Class%20Exercises%20%28v1.1H%29.ipynb#W3sZmlsZQ%3D%3D?line=8'>9</a>\u001b[0m \u001b[39mprint\u001b[39m(\u001b[39m\"\u001b[39;49m\u001b[39mabc\u001b[39;49m\u001b[39m\"\u001b[39;49m \u001b[39m+\u001b[39;49m \u001b[39m123\u001b[39;49m)\n",
      "\u001b[1;31mTypeError\u001b[0m: can only concatenate str (not \"int\") to str"
     ]
    }
   ],
   "source": [
    "print(2 + 3 * 3 / 5 - 2 + 8 % 5) #4.8\n",
    "print(15 % 5 - 15 / 5) #-3.0\n",
    "print(10 / 2.5 / 2 - 5) #-3.0\n",
    "print(11 // 4 * 2) #4\n",
    "print((3 + 5) * 2 % 3) #1\n",
    "print(2 + 3 * 6 % 3 ** 2 - 1) #1\n",
    "\n",
    "print(\"abc\" + \" \" + \"def\") #abc def\n",
    "print(\"abc\" + 123) #error: cannot concatenate str and int together\n",
    "\n"
   ]
  },
  {
   "cell_type": "markdown",
   "metadata": {},
   "source": [
    "### Q2: BMI Calculator\n",
    "\n",
    "You have probably heard about the body mass index or BMI. The definition of BMI from Wikipedia can be found below:\n",
    "\n",
    "\"The body mass index (BMI) or Quetelet index is a value derived from the mass (weight) and height of an individual. The BMI is defined as the body mass divided by the square of the body height, and is universally expressed in units of $\\text{kg}/\\text{m}^2$, resulting from mass in kilograms and height in metres.\"\n",
    "\n",
    "The formula to calculate BMI is also given below:\n",
    "\n",
    "$$\\text{BMI} = \\frac{\\text{mass}}{\\text{height}^2}$$\n",
    "\n",
    "Here mass is in kilograms and height is in metres.\n",
    "\n",
    "Write a piece of Python code that does the following:\n",
    "\n",
    "<ul>\n",
    "    <li>It prompts the user for his/her weight in kilograms.</li>\n",
    "    <li>It then prompts the user for his/her height in metres.</li>\n",
    "    <li>It calculates the BMI of this person and displays the BMI value to the screen.</li>\n",
    "</ul>\n",
    "\n",
    "A sample run of the code gives the following output:\n",
    "\n",
    "<img src=\"http://drive.google.com/uc?export=view&id=0B3N0YMArBdSBdHZqdnhDT2xzSEk\">"
   ]
  },
  {
   "cell_type": "code",
   "execution_count": 6,
   "metadata": {},
   "outputs": [
    {
     "name": "stdout",
     "output_type": "stream",
     "text": [
      "Your BMI is 20.761245674740486\n"
     ]
    }
   ],
   "source": [
    "# Write you code below\n",
    "mass = input(\"What's your weight (in kg)?\")\n",
    "height = input(\"What's your height (in m)?\")\n",
    "BMI = float(mass) / (float(height) * float(height))\n",
    "print(\"Your BMI is \" + str(BMI))\n",
    "\n"
   ]
  },
  {
   "cell_type": "markdown",
   "metadata": {},
   "source": [
    "### Q3: Odd/Even Numbers\n",
    "\n",
    "Write a piece of Python code that does the following:\n",
    "\n",
    "- It sequentially prompts the user for 4 integers.\n",
    "- It computes and displays the percentage of odd numbers and even numbers for these 4 integers, without using any conditional statements like `if-then-else`.\n",
    "\n",
    "For instance, if the 4 numbers are 1, 7, 4, 6, then the percentage of odd and even numbers that are generated are 50% and 50% respectively. If the 4 numbers are 4, 2, 8, 5, then the percentage of odd and even numbers that are generated are 75% and 25% respectively.\n",
    "\n",
    "Hint: You may want to use the modulo-2 operation to determine if a number is odd or even.\n"
   ]
  },
  {
   "cell_type": "code",
   "execution_count": 1,
   "metadata": {},
   "outputs": [
    {
     "name": "stdout",
     "output_type": "stream",
     "text": [
      "100.0% of your numbers are even and 0.0% are odd.\n"
     ]
    }
   ],
   "source": [
    "# Write you code below\n",
    "number_1 = int( input(\"Choose a first number\") )\n",
    "number_2 = int( input(\"Choose a second number\") )\n",
    "number_3 = int( input(\"Choose a third number\") )\n",
    "number_4 = int( input(\"Choose a fourth number\") )\n",
    "\n",
    "mod_1 = number_1%2\n",
    "mod_2 = number_2%2\n",
    "mod_3 = number_3%2\n",
    "mod_4 = number_4%2\n",
    "\n",
    "total = mod_1 + mod_2 + mod_3 + mod_4\n",
    "\n",
    "odd = total/4*100\n",
    "\n",
    "even = 100-odd\n",
    "\n",
    "print( str(even) + \"% of your numbers are even and \" + str(odd) + \"% are odd.\" )\n"
   ]
  }
 ],
 "metadata": {
  "kernelspec": {
   "display_name": "Python 3.9.12 ('base')",
   "language": "python",
   "name": "python3"
  },
  "language_info": {
   "codemirror_mode": {
    "name": "ipython",
    "version": 3
   },
   "file_extension": ".py",
   "mimetype": "text/x-python",
   "name": "python",
   "nbconvert_exporter": "python",
   "pygments_lexer": "ipython3",
   "version": "3.9.12"
  },
  "vscode": {
   "interpreter": {
    "hash": "395bcd43827c12f34ba277ba8ce79bc9791f0692262ae816061085addb5351ea"
   }
  }
 },
 "nbformat": 4,
 "nbformat_minor": 2
}
