{
 "cells": [
  {
   "cell_type": "markdown",
   "metadata": {},
   "source": [
    "<table class=\"table table-bordered\">\n",
    "    <tr>\n",
    "        <th style=\"text-align:center; width:35%\"><img src='https://soda-labo.github.io/images/smu_scis_logo_w400.jpg' style=\"width: 300px; height: 90px; \"></th>\n",
    "        <th style=\"text-align:center;\"><h3>IS111 - In-Class Exercises</h3><h3>Week 9</h3></th>\n",
    "    </tr>\n",
    "</table>"
   ]
  },
  {
   "cell_type": "markdown",
   "metadata": {},
   "source": [
    "### Q1: Input Validation"
   ]
  },
  {
   "cell_type": "markdown",
   "metadata": {},
   "source": [
    "#### a) [ &#9733; ]"
   ]
  },
  {
   "cell_type": "code",
   "execution_count": 7,
   "metadata": {},
   "outputs": [
    {
     "name": "stdout",
     "output_type": "stream",
     "text": [
      "Please enter a valid age!\n",
      "Please enter a valid age!\n",
      "Thanks!\n"
     ]
    }
   ],
   "source": [
    "# Put your code below\n",
    "age = int(input(\"Enter your age (btween 0 and 100, both inclusive): \"))\n",
    "while (not (age >= 0 and age <= 100)):\n",
    "    print(\"Please enter a valid age!\")\n",
    "    age = int(input(\"Enter your age again: \"))\n",
    "print(\"Thanks!\")\n",
    "\n",
    "\n"
   ]
  },
  {
   "cell_type": "markdown",
   "metadata": {},
   "source": [
    "#### b) [ &#9733; ]"
   ]
  },
  {
   "cell_type": "code",
   "execution_count": 1,
   "metadata": {},
   "outputs": [
    {
     "name": "stdout",
     "output_type": "stream",
     "text": [
      "Please enter a valid answer (YES, Yes, yes, NO, No, no).\n",
      "Please enter a valid answer (YES, Yes, yes, NO, No, no).\n",
      "Please enter a valid answer (YES, Yes, yes, NO, No, no).\n",
      "Got it!\n"
     ]
    }
   ],
   "source": [
    "# Put your code below\n",
    "is_student = input(\"Are you a student?\")\n",
    "while is_student != \"YES\" and is_student != \"Yes\" and is_student != \"yes\" and is_student != \"NO\" and is_student != \"No\" and is_student != \"no\":\n",
    "    print(\"Please enter a valid answer (YES, Yes, yes, NO, No, no).\")\n",
    "    is_student = input(\"Are you a student?\")\n",
    "print(\"Got it!\")\n",
    "\n",
    "\n"
   ]
  },
  {
   "cell_type": "markdown",
   "metadata": {},
   "source": [
    "#### c) [ &#9733;&#9733; ]"
   ]
  },
  {
   "cell_type": "code",
   "execution_count": 5,
   "metadata": {},
   "outputs": [
    {
     "name": "stdout",
     "output_type": "stream",
     "text": [
      "Please enter a valid name!\n",
      "Please enter a valid name!\n",
      "Thank you!\n"
     ]
    }
   ],
   "source": [
    "# Put your code below\n",
    "\n",
    "def validname():\n",
    "\n",
    "    name = input(\"Enter your name: \")\n",
    "    characters = 'abcdefghijklmnopqrstuvwxyz '\n",
    "    name = name.lower()\n",
    "\n",
    "    for ch in name.lower():\n",
    "        if characters.find(ch) == -1:\n",
    "            return False\n",
    "    \n",
    "    return True\n",
    "        \n",
    "name = validname()\n",
    "while name == False:\n",
    "    print(\"Please enter a valid name!\")\n",
    "    name = validname()\n",
    "print(\"Thank you!\")\n",
    "\n",
    "\n",
    "\n"
   ]
  },
  {
   "cell_type": "markdown",
   "metadata": {},
   "source": [
    "### Q2: Integers [ &#9733;&#9733; ]"
   ]
  },
  {
   "cell_type": "code",
   "execution_count": 7,
   "metadata": {},
   "outputs": [
    {
     "name": "stdout",
     "output_type": "stream",
     "text": [
      "Thanks!\n",
      "The odd positive integers you have entered are the following:\n",
      "7, 51, 93\n"
     ]
    }
   ],
   "source": [
    "# Put your code below\n",
    "\n",
    "user_int = int(input(\"Enter an integer:\"))\n",
    "odd_pos = []\n",
    "\n",
    "while user_int >= 0:\n",
    "    if user_int%2 == 1:\n",
    "        odd_pos.append(user_int)\n",
    "    user_int = int(input(\"Enter an integer:\"))\n",
    "\n",
    "print(\"Thanks!\")\n",
    "print(\"The odd positive integers you have entered are the following:\")\n",
    "for num_ind, nums in enumerate(odd_pos,1):\n",
    "    if num_ind != len(odd_pos):\n",
    "        print(nums, end=', ')\n",
    "    else:\n",
    "        print(nums)\n",
    "\n",
    "\n"
   ]
  },
  {
   "cell_type": "markdown",
   "metadata": {},
   "source": [
    "### Q3: Voucher [ &#9733;&#9733; ]"
   ]
  },
  {
   "cell_type": "code",
   "execution_count": 8,
   "metadata": {},
   "outputs": [
    {
     "name": "stdout",
     "output_type": "stream",
     "text": [
      "You still have $90.0 left.\n",
      "You still have $74.5 left.\n",
      "You still have $21.0 left.\n",
      "You still have $11.0 left.\n",
      "You are done! \n",
      "The total price is $101.0\n"
     ]
    }
   ],
   "source": [
    "# Put your code below\n",
    "\n",
    "book_price = float(input(\"Please pick a book. How much is it (in $)? \"))\n",
    "total_price = book_price\n",
    "\n",
    "while total_price < 100:\n",
    "    print(f\"You still have ${100 - total_price} left.\")\n",
    "    book_price = float(input(\"Please pick another book. How much is it (in $)? \"))\n",
    "    total_price = total_price + book_price\n",
    "\n",
    "print(f\"You are done! \\nThe total price is ${total_price}\")\n",
    "\n",
    "\n",
    "\n",
    "\n"
   ]
  },
  {
   "cell_type": "markdown",
   "metadata": {},
   "source": [
    "### Q4: Reset PIN"
   ]
  },
  {
   "cell_type": "markdown",
   "metadata": {},
   "source": [
    "### a) [ &#9733;&#9733; ]"
   ]
  },
  {
   "cell_type": "code",
   "execution_count": 9,
   "metadata": {},
   "outputs": [
    {
     "name": "stdout",
     "output_type": "stream",
     "text": [
      "Sorry! There is an error!\n",
      "Sorry! There is an error!\n",
      "Sorry! There is an error!\n",
      "Thanks! Your new PIN has been set!\n"
     ]
    }
   ],
   "source": [
    "# Put your code below\n",
    "\n",
    "pin = input(\"Enter your new PIN: \")\n",
    "cfm_pin = input(\"Confirm your new PIN: \")\n",
    "\n",
    "while cfm_pin != pin or pin.isnumeric() == False or len(pin) != 6:\n",
    "    print(\"Sorry! There is an error!\")\n",
    "    pin = input(\"Enter your new PIN: \")\n",
    "    cfm_pin = input(\"Confirm your new PIN: \")   \n",
    "\n",
    "print(\"Thanks! Your new PIN has been set!\")\n",
    "\n",
    "\n",
    "\n",
    "\n",
    "\n"
   ]
  },
  {
   "cell_type": "markdown",
   "metadata": {},
   "source": [
    "### b) [ &#9733;&#9733;&#9733; ]"
   ]
  },
  {
   "cell_type": "code",
   "execution_count": 12,
   "metadata": {},
   "outputs": [
    {
     "name": "stdout",
     "output_type": "stream",
     "text": [
      "Sorry! The following errors are detected:\n",
      "    - The second PIN doesn't match the first PIN.\n",
      "Sorry! The following errors are detected:\n",
      "    - The PIN number is too long.\n",
      "Sorry! The following errors are detected:\n",
      "    - The PIN number contains a non-digit character.\n",
      "Sorry! The following errors are detected:\n",
      "    - The PIN number is too short.\n",
      "    - The PIN number contains a non-digit character.\n",
      "    - The second PIN doesn't match the first PIN.\n",
      "Thanks! Your new PIN has been set!\n"
     ]
    }
   ],
   "source": [
    "# Put your code below\n",
    "\n",
    "pin = input(\"Enter your new PIN: \")\n",
    "cfm_pin = input(\"Confirm your new PIN: \")\n",
    "\n",
    "while cfm_pin != pin or pin.isnumeric() == False or len(pin) != 6:\n",
    "    print(\"Sorry! The following errors are detected:\")\n",
    "    if len(pin) < 6:\n",
    "        print(\"    - The PIN number is too short.\")\n",
    "    elif len(pin) > 6:\n",
    "        print(\"    - The PIN number is too long.\")   \n",
    "    if pin.isnumeric() == False:\n",
    "        print(\"    - The PIN number contains a non-digit character.\")\n",
    "    if cfm_pin != pin:\n",
    "        print(\"    - The second PIN doesn't match the first PIN.\")\n",
    "    \n",
    "    pin = input(\"Enter your new PIN: \")\n",
    "    cfm_pin = input(\"Confirm your new PIN: \") \n",
    "  \n",
    "\n",
    "print(\"Thanks! Your new PIN has been set!\")\n",
    "\n",
    "\n"
   ]
  }
 ],
 "metadata": {
  "kernelspec": {
   "display_name": "Python 3.9.12 ('base')",
   "language": "python",
   "name": "python3"
  },
  "language_info": {
   "codemirror_mode": {
    "name": "ipython",
    "version": 3
   },
   "file_extension": ".py",
   "mimetype": "text/x-python",
   "name": "python",
   "nbconvert_exporter": "python",
   "pygments_lexer": "ipython3",
   "version": "3.9.12"
  },
  "vscode": {
   "interpreter": {
    "hash": "395bcd43827c12f34ba277ba8ce79bc9791f0692262ae816061085addb5351ea"
   }
  }
 },
 "nbformat": 4,
 "nbformat_minor": 2
}
