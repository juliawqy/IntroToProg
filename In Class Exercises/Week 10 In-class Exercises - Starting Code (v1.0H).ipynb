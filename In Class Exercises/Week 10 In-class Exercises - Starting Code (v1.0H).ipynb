{
 "cells": [
  {
   "cell_type": "markdown",
   "metadata": {},
   "source": [
    "<table class=\"table table-bordered\">\n",
    "    <tr>\n",
    "        <th style=\"text-align:center; width:35%\"><img src='https://soda-labo.github.io/images/smu_scis_logo_w400.jpg' style=\"width: 300px; height: 90px; \"></th>\n",
    "        <th style=\"text-align:center;\"><h3>IS111 - In-Class Exercises</h3><h3>Week 10</h3></th>\n",
    "    </tr>\n",
    "</table>"
   ]
  },
  {
   "cell_type": "markdown",
   "metadata": {},
   "source": [
    "### Q1: Numbers in Files [ &#9733; ]"
   ]
  },
  {
   "cell_type": "markdown",
   "metadata": {},
   "source": [
    "#### a)"
   ]
  },
  {
   "cell_type": "code",
   "execution_count": 1,
   "metadata": {},
   "outputs": [],
   "source": [
    "# Put your code below\n",
    "\n",
    "def sum_up(file_name):\n",
    "\n",
    "    count = 0\n",
    "\n",
    "    with open(file_name, 'r') as fi:\n",
    "        for line in fi:\n",
    "            count += float(line)\n",
    "\n",
    "    return count\n",
    "\n",
    "\n",
    "\n"
   ]
  },
  {
   "cell_type": "code",
   "execution_count": 2,
   "metadata": {},
   "outputs": [
    {
     "name": "stdout",
     "output_type": "stream",
     "text": [
      "Test case 1\n",
      "===========\n",
      "Expected:  55.4\n",
      "Actual:    55.4\n",
      "\n",
      "Test case 2\n",
      "===========\n",
      "Expected:  55.0\n",
      "Actual:    55.0\n"
     ]
    }
   ],
   "source": [
    "print('Test case 1')\n",
    "print('===========')\n",
    "your_sum = sum_up('q1-1.txt')\n",
    "print('Expected: ',55.4)\n",
    "print('Actual:   ',round(your_sum,1))\n",
    "\n",
    "print('\\nTest case 2')\n",
    "print('===========')\n",
    "your_sum = sum_up('q1-2.txt')\n",
    "print('Expected: ',55.0)\n",
    "print('Actual:   ',round(your_sum,1))\n"
   ]
  },
  {
   "cell_type": "markdown",
   "metadata": {},
   "source": [
    "#### b)"
   ]
  },
  {
   "cell_type": "code",
   "execution_count": 9,
   "metadata": {},
   "outputs": [],
   "source": [
    "# Put your code below\n",
    "\n",
    "def create_num_file(output_file, n):\n",
    "    with open(output_file, 'w') as fo:\n",
    "        for num in range(n+1):\n",
    "            if num%2 == 0:\n",
    "                fo.write(str(num) + '\\n')\n",
    "\n",
    "\n"
   ]
  },
  {
   "cell_type": "code",
   "execution_count": 10,
   "metadata": {},
   "outputs": [
    {
     "name": "stdout",
     "output_type": "stream",
     "text": [
      "Test case 1\n",
      "===========\n",
      "File name: q1-output1.txt\n",
      "\n",
      "Test case 2\n",
      "===========\n",
      "File name: q1-output2.txt\n"
     ]
    }
   ],
   "source": [
    "print('Test case 1')\n",
    "print('===========')\n",
    "print('File name: q1-output1.txt')\n",
    "create_num_file('q1-output1.txt',10)\n",
    "# check that the file 'q1-output1.txt' contains the expected numbers\n",
    "\n",
    "print('\\nTest case 2')\n",
    "print('===========')\n",
    "print('File name: q1-output2.txt')\n",
    "create_num_file('q1-output2.txt',15)\n",
    "# check that the file 'q1-output2.txt' contains the expected numbers\n"
   ]
  },
  {
   "cell_type": "markdown",
   "metadata": {},
   "source": [
    "### Q2: Books [ &#9733;&#9733; ]"
   ]
  },
  {
   "cell_type": "markdown",
   "metadata": {},
   "source": [
    "#### Part (a)"
   ]
  },
  {
   "cell_type": "code",
   "execution_count": 25,
   "metadata": {},
   "outputs": [],
   "source": [
    "# Put your code below\n",
    "\n",
    "def get_books_cheaper_than(input_file, price_limit, output_file):\n",
    "    \n",
    "    book_list = []\n",
    "    book_info = []\n",
    "\n",
    "    with open(input_file, 'r') as fi:\n",
    "        for line in fi:\n",
    "            book_list.append(list(line.rstrip('\\n').split('\\t')))\n",
    "            book_info.append(line)\n",
    "\n",
    "    with open(output_file, 'w') as fo:    \n",
    "        for index, items in enumerate(book_list):\n",
    "            if float(items[2][1:]) < price_limit:\n",
    "                fo.write(book_info[index] + '\\n')\n",
    "\n",
    "\n",
    "\n"
   ]
  },
  {
   "cell_type": "code",
   "execution_count": 26,
   "metadata": {},
   "outputs": [
    {
     "name": "stdout",
     "output_type": "stream",
     "text": [
      "\n",
      "Testcase 1\n",
      "----------\n",
      "Expected: \n",
      "Turtles All the Way Down\tJohn Green\t$11.99\n",
      "Animal Farm and 1984\tGeorge Orwell\t$7.50\n",
      "Inception: A Dark Paranormal Romance (The Marked Book 1)\tBianca Scardoni\t$13.09\n",
      "\n",
      "Actual:   Open the file books-1-output.txt and verify it contains the expected books listed above.\n"
     ]
    }
   ],
   "source": [
    "# Test cases used to test your function\n",
    "\n",
    "print('\\nTestcase 1')\n",
    "print('-' * 10)\n",
    "print(\"Expected: \" + '\\nTurtles All the Way Down\\tJohn Green\\t$11.99\\n' + \n",
    "      'Animal Farm and 1984\\tGeorge Orwell\\t$7.50\\n' + \n",
    "      'Inception: A Dark Paranormal Romance (The Marked Book 1)\\tBianca Scardoni\\t$13.09\\n')\n",
    "input_file = 'books-1.txt'\n",
    "output_file = 'books-1-output.txt'\n",
    "price_limit = 15.0\n",
    "get_books_cheaper_than(input_file, price_limit, output_file)\n",
    "result = 'Open the file books-1-output.txt and verify it contains the expected books listed above.'\n",
    "print('Actual:   ' + str(result))\n"
   ]
  },
  {
   "cell_type": "code",
   "execution_count": 27,
   "metadata": {},
   "outputs": [
    {
     "name": "stdout",
     "output_type": "stream",
     "text": [
      "\n",
      "Testcase 2\n",
      "----------\n",
      "Expected: Empty file\n",
      "Actual:   Open the file books-2-output.txt and verify it is empty.\n"
     ]
    }
   ],
   "source": [
    "print('\\nTestcase 2')\n",
    "print('-' * 10)\n",
    "print(\"Expected: Empty file\")\n",
    "input_file = 'books-2.txt'\n",
    "output_file = 'books-2-output.txt'\n",
    "price_limit = 7.0\n",
    "get_books_cheaper_than(input_file, price_limit, output_file)\n",
    "result = 'Open the file books-2-output.txt and verify it is empty.'\n",
    "print('Actual:   ' + str(result))"
   ]
  },
  {
   "cell_type": "markdown",
   "metadata": {},
   "source": [
    "#### Part (b)"
   ]
  },
  {
   "cell_type": "code",
   "execution_count": 40,
   "metadata": {},
   "outputs": [],
   "source": [
    "# Put your code below\n",
    "\n",
    "def check_same_author(file_name):\n",
    "\n",
    "    book_list = []\n",
    "\n",
    "    with open(file_name, 'r') as fi:\n",
    "        for line in fi:\n",
    "            book_list.append(list(line.rstrip('\\n').split('\\t')))\n",
    "\n",
    "    for items in book_list:\n",
    "        author = book_list[0][1]\n",
    "        if items[1] != author:\n",
    "            return False\n",
    "        \n",
    "    return True\n",
    "\n",
    "            \n",
    "\n",
    "\n"
   ]
  },
  {
   "cell_type": "code",
   "execution_count": 41,
   "metadata": {},
   "outputs": [
    {
     "name": "stdout",
     "output_type": "stream",
     "text": [
      "\n",
      "Testcase 1\n",
      "----------\n",
      "Expected: False\n",
      "Actual:   False\n",
      "\n",
      "Testcase 2\n",
      "----------\n",
      "Expected: True\n",
      "Actual:   True\n",
      "\n",
      "Testcase 3\n",
      "----------\n",
      "Expected: False\n",
      "Actual:   False\n"
     ]
    }
   ],
   "source": [
    "# Test cases used to test your function\n",
    "\n",
    "print('\\nTestcase 1')\n",
    "print('-' * 10)\n",
    "print(\"Expected: False\")\n",
    "filename = 'books-1.txt'\n",
    "result = check_same_author(filename)\n",
    "print('Actual:   ' + str(result))\n",
    "\n",
    "print('\\nTestcase 2')\n",
    "print('-' * 10)\n",
    "print(\"Expected: True\")\n",
    "filename = 'books-2.txt'\n",
    "result = check_same_author(filename)\n",
    "print('Actual:   ' + str(result))\n",
    "\n",
    "print('\\nTestcase 3')\n",
    "print('-' * 10)\n",
    "print(\"Expected: False\")\n",
    "filename = 'books-3.txt'\n",
    "result = check_same_author(filename)\n",
    "print('Actual:   ' + str(result))\n"
   ]
  },
  {
   "cell_type": "markdown",
   "metadata": {},
   "source": [
    "### Q3: Phone Book"
   ]
  },
  {
   "cell_type": "markdown",
   "metadata": {},
   "source": [
    "#### Part a) [ &#9733;&#9733; ]"
   ]
  },
  {
   "cell_type": "code",
   "execution_count": 13,
   "metadata": {},
   "outputs": [
    {
     "name": "stdout",
     "output_type": "stream",
     "text": [
      "George Leung\t98987676\n",
      "Michelle Lee\t(+65)67894321\n",
      "Eric Wong\t+65 91234567\n",
      "Michelle Lee\t(+65)88776655\n"
     ]
    }
   ],
   "source": [
    "# Put your code below\n",
    "\n",
    "info = []\n",
    "\n",
    "with open('phone_book.txt', 'r') as fi:\n",
    "    for line in fi:\n",
    "        info.append(list(line.rstrip('\\n').split('|')))\n",
    "    \n",
    "for peoples_info in info:\n",
    "    if '+65' in peoples_info[1] or len(peoples_info[1]) == 8:\n",
    "        print(peoples_info[0] + '\\t' + peoples_info[1])\n",
    "\n",
    "\n",
    "\n",
    "\n",
    "\n",
    "\n"
   ]
  },
  {
   "cell_type": "markdown",
   "metadata": {},
   "source": [
    "#### Part b) [ &#9733;&#9733;&#9733;]"
   ]
  },
  {
   "cell_type": "code",
   "execution_count": 16,
   "metadata": {},
   "outputs": [],
   "source": [
    "# Put your code below\n",
    "\n",
    "info = []\n",
    "\n",
    "with open('phone_book.txt', 'r') as fi:\n",
    "    for line in fi:\n",
    "        line_list = line.rstrip('\\n').split('|')\n",
    "        if len(info) == 0:\n",
    "            info.append(line_list)\n",
    "        else:\n",
    "            for info_lists in info:\n",
    "                if info_lists[0] == line_list[0]:\n",
    "                    is_existing = True\n",
    "                    break\n",
    "                else:\n",
    "                    is_existing = False\n",
    "            if is_existing == True:\n",
    "                info_lists.append(line_list[1])\n",
    "            else:\n",
    "                info.append(line_list)\n",
    "\n",
    "with open('phone_book_reorganized.txt', 'w') as fo:\n",
    "    for items in info:\n",
    "        for items_info in items:\n",
    "            fo.write(items_info + '\\n')\n",
    "        fo.write('\\n')\n",
    "\n",
    "                \n",
    "\n",
    "\n",
    "\n",
    "\n",
    "\n",
    "\n"
   ]
  },
  {
   "cell_type": "markdown",
   "metadata": {},
   "source": [
    "### Q4: News"
   ]
  },
  {
   "cell_type": "markdown",
   "metadata": {},
   "source": [
    "#### Part a) [ &#9733;&#9733; ]"
   ]
  },
  {
   "cell_type": "code",
   "execution_count": 50,
   "metadata": {},
   "outputs": [
    {
     "name": "stdout",
     "output_type": "stream",
     "text": [
      "1. Man injured in wild boar attack outside Hillview condominium\n",
      "2. Posters put up after wild boar viral video; AVA warns public not to feed the animals\n",
      "3. Wild boar sightings: Where are they found in Singapore and what to do if you encounter them\n"
     ]
    }
   ],
   "source": [
    "# Put your code below\n",
    "\n",
    "keyword = input('Enter a keyword or keyphrase:')\n",
    "\n",
    "return_list = []\n",
    "\n",
    "with open('news.txt', 'r') as fi:\n",
    "    for line in fi:\n",
    "        new_line = line.rstrip('\\n')\n",
    "        if line.lower().find(keyword.lower()) != -1:\n",
    "            return_list.append(new_line)\n",
    "\n",
    "for index, items in enumerate(return_list, 1):            \n",
    "    print(f'{index}. {items}')\n",
    "\n",
    "\n",
    "\n",
    "\n",
    "\n"
   ]
  },
  {
   "cell_type": "markdown",
   "metadata": {},
   "source": [
    "#### Part b) [ &#9733;&#9733;&#9733; ]"
   ]
  },
  {
   "cell_type": "code",
   "execution_count": 54,
   "metadata": {},
   "outputs": [
    {
     "name": "stdout",
     "output_type": "stream",
     "text": [
      "There is no matching headline!\n",
      "\n",
      "There are 6 matching headlines:\n",
      "1. Experts call for more measures after North-South Line MRT disruption\n",
      "2. Flooding in MRT tunnel preventable, says Khaw\n",
      "3. MRT tunnel flooding: SMRT maintenance staff bonuses will be affected\n",
      "4. Pumps at all MRT tunnels checked after rail disruption\n",
      "5. SMRT replaces senior exec after flooding incident\n",
      "6. SMRT, LTA have to get to root of the problem\n",
      "\n",
      "There are 3 matching headlines:\n",
      "1. Man injured in wild boar attack outside Hillview condominium\n",
      "2. Posters put up after wild boar viral video; AVA warns public not to feed the animals\n",
      "3. Wild boar sightings: Where are they found in Singapore and what to do if you encounter them\n",
      "\n",
      "Good-bye!\n"
     ]
    }
   ],
   "source": [
    "# Put your code below\n",
    "\n",
    "def return_headlines(keyword):\n",
    "\n",
    "    return_list = []\n",
    "    indexed_list = []\n",
    "\n",
    "    with open('news.txt', 'r') as fi:\n",
    "        for line in fi:\n",
    "            new_line = line.rstrip('\\n')\n",
    "            if line.lower().find(keyword.lower()) != -1:\n",
    "                return_list.append(new_line)\n",
    "\n",
    "    for index, items in enumerate(return_list, 1):            \n",
    "        indexed_headline = f'{index}. {items}'\n",
    "        indexed_list.append(indexed_headline)\n",
    "    \n",
    "    return indexed_list\n",
    "\n",
    "if_continue = input('Do you want to search our news database? [Y|N] :')\n",
    "while if_continue == 'Y':\n",
    "    keyword = input('Please enter a keyword or keyphrase:')\n",
    "    returned_headlines = return_headlines(keyword)\n",
    "    if len(returned_headlines) == 0:\n",
    "        print(\"There is no matching headline!\")\n",
    "    else:\n",
    "        print(f'There are {len(returned_headlines)} matching headlines:')\n",
    "        for lines in returned_headlines:\n",
    "            print(lines)\n",
    "    print('')\n",
    "    if_continue = input('Do you want to search again? [Y|N] :')\n",
    "\n",
    "print(\"Good-bye!\")\n",
    "\n"
   ]
  },
  {
   "cell_type": "code",
   "execution_count": null,
   "metadata": {},
   "outputs": [],
   "source": []
  }
 ],
 "metadata": {
  "kernelspec": {
   "display_name": "Python 3.9.12 ('base': conda)",
   "language": "python",
   "name": "python3"
  },
  "language_info": {
   "codemirror_mode": {
    "name": "ipython",
    "version": 3
   },
   "file_extension": ".py",
   "mimetype": "text/x-python",
   "name": "python",
   "nbconvert_exporter": "python",
   "pygments_lexer": "ipython3",
   "version": "3.9.12"
  },
  "vscode": {
   "interpreter": {
    "hash": "395bcd43827c12f34ba277ba8ce79bc9791f0692262ae816061085addb5351ea"
   }
  }
 },
 "nbformat": 4,
 "nbformat_minor": 2
}
