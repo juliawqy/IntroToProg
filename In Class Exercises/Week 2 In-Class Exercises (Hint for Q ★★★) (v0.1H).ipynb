{
 "cells": [
  {
   "cell_type": "markdown",
   "metadata": {},
   "source": [
    "<table class=\"table table-bordered\">\n",
    "    <tr>\n",
    "        <th style=\"text-align:center; width:35%\"><img src='https://dl.dropbox.com/s/qtzukmzqavebjd2/icon_smu.jpg' style=\"width: 300px; height: 90px; \"></th>\n",
    "        <th style=\"text-align:center;\"><h3>IS111 - In-Class Exercises</h3><h3>Week 2 Hint for Q ★★★</h3></th>\n",
    "    </tr>\n",
    "</table>"
   ]
  },
  {
   "cell_type": "markdown",
   "metadata": {},
   "source": [
    "#### `max()` function\n",
    "\n",
    "This function returns the maximum value among the given parameters. \n",
    "For example, the result of `max(-1,0,2,3)` will be 3.\n",
    "\n",
    "Think about what the following statement does:\n",
    "\n",
    "> `max(x-4, 0)`\n",
    "\n",
    "This statement works as follows:\n",
    "- When the stored value of the variable `x` >= 4, it returns the `x-4`.\n",
    "- When the stored value of the variable `x` <= 4, it returns 0 because 0 is bigger than any negative values.\n",
    "- (when `x` = 4, `x-4` will be 0 anyway.)\n"
   ]
  },
  {
   "cell_type": "markdown",
   "metadata": {},
   "source": [
    "#### Hint for Q8 c) [ &#9733;&#9733;&#9733; ]"
   ]
  },
  {
   "cell_type": "markdown",
   "metadata": {},
   "source": [
    "We can compute the tax when `30000 < income < 40000` as follows:\n",
    ">`tax = (income-30000)*0.035 + 200`\n",
    "\n",
    "And, if the income is less than 30,000, `(income-30000)*0.035 + 200` will be negative."
   ]
  },
  {
   "cell_type": "markdown",
   "metadata": {},
   "source": []
  }
 ],
 "metadata": {
  "kernelspec": {
   "display_name": "Python 3.9.12 ('base': conda)",
   "language": "python",
   "name": "python3"
  },
  "language_info": {
   "codemirror_mode": {
    "name": "ipython",
    "version": 3
   },
   "file_extension": ".py",
   "mimetype": "text/x-python",
   "name": "python",
   "nbconvert_exporter": "python",
   "pygments_lexer": "ipython3",
   "version": "3.9.12"
  },
  "vscode": {
   "interpreter": {
    "hash": "395bcd43827c12f34ba277ba8ce79bc9791f0692262ae816061085addb5351ea"
   }
  }
 },
 "nbformat": 4,
 "nbformat_minor": 2
}
