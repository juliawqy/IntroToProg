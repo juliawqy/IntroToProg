{
 "cells": [
  {
   "cell_type": "markdown",
   "source": [
    "<!-- Created by KWAK Haewoon -->\n",
    "<table class=\"table table-bordered\">\n",
    "    <tr>\n",
    "        <th style=\"text-align:center; width:35%\"><img src='https://soda-labo.github.io/images/smu_scis_logo_w400.jpg' style=\"width: 300px; height: 90px; \"></th>\n",
    "        <th style=\"text-align:center;\"><h3>IS111 - In-Class Exercises</h3><h3>Week 9 - Hint (&bigstar;&bigstar;&bigstar;)</h3></th>\n",
    "    </tr>\n",
    "</table>"
   ],
   "metadata": {}
  },
  {
   "cell_type": "markdown",
   "source": [
    "### Q4: Reset PIN (b) [&bigstar;&bigstar;&bigstar;]"
   ],
   "metadata": {}
  },
  {
   "cell_type": "markdown",
   "source": [
    "#### Pseudo-code\n",
    "\n",
    "function_to_check_errors(`new_pin_1`, `new_pin_2`):<br/>\n",
    "&nbsp;&nbsp;&nbsp;&nbsp;set `error_msgs` an empty list<br/>\n",
    "&nbsp;&nbsp;&nbsp;&nbsp;if `new_pin_1` is too long?:<br/>\n",
    "&nbsp;&nbsp;&nbsp;&nbsp;&nbsp;&nbsp;&nbsp;&nbsp;add corresponding error msg to `error_msgs`<br/>\n",
    "&nbsp;&nbsp;&nbsp;&nbsp;if `new_pin_1` is too short?:<br/>\n",
    "&nbsp;&nbsp;&nbsp;&nbsp;&nbsp;&nbsp;&nbsp;&nbsp;add corresponding error msg to `error_msgs`<br/>\n",
    "&nbsp;&nbsp;&nbsp;&nbsp;if `new_pin_1` contains a non-digit char?:<br/>\n",
    "&nbsp;&nbsp;&nbsp;&nbsp;&nbsp;&nbsp;&nbsp;&nbsp;add corresponding error msg to `error_msgs`<br/>\n",
    "&nbsp;&nbsp;&nbsp;&nbsp;if `new_pin_1` matches with `new_pin_2`?:<br/>\n",
    "&nbsp;&nbsp;&nbsp;&nbsp;&nbsp;&nbsp;&nbsp;&nbsp;add corresponding error msg to `error_msgs`<br/>\n",
    "&nbsp;&nbsp;&nbsp;&nbsp;return `error_msgs`\n",
    "<br/><br/>\n",
    "\n",
    "`new_pin_1` = (get an input from user)<br/>\n",
    "`new_pin_2` = (get an input from user)\n",
    "\n",
    "`error_msgs` = function_to_check_errors(`new_pin_1`, `new_pin_2`)\n",
    "\n",
    "while `error_msgs` is not empty: <br/>\n",
    "&nbsp;&nbsp;&nbsp;&nbsp;print `error_msgs`<br/> \n",
    "&nbsp;&nbsp;&nbsp;&nbsp;`new_pin_1` = (get an input from user)<br/>\n",
    "&nbsp;&nbsp;&nbsp;&nbsp;`new_pin_2` = (get an input from user)\n",
    "\n",
    "&nbsp;&nbsp;&nbsp;&nbsp;`error_msgs` = function_to_check_errors(`new_pin_1`, `new_pin_2`)"
   ],
   "metadata": {}
  },
  {
   "cell_type": "markdown",
   "source": [],
   "metadata": {}
  }
 ],
 "metadata": {
  "orig_nbformat": 4,
  "language_info": {
   "name": "python",
   "version": "3.8.3",
   "mimetype": "text/x-python",
   "codemirror_mode": {
    "name": "ipython",
    "version": 3
   },
   "pygments_lexer": "ipython3",
   "nbconvert_exporter": "python",
   "file_extension": ".py"
  },
  "kernelspec": {
   "name": "python3",
   "display_name": "Python 3.8.3 64-bit ('base': conda)"
  },
  "interpreter": {
   "hash": "dab300fc1fcdb56386f3368d1ebed8bf72a2646d918e36042b5720b90c6e811c"
  }
 },
 "nbformat": 4,
 "nbformat_minor": 2
}