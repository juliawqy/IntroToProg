{
 "cells": [
  {
   "cell_type": "markdown",
   "metadata": {},
   "source": [
    "<table class=\"table table-bordered\">\n",
    "    <tr>\n",
    "        <th style=\"text-align:center; width:35%\"><img src='https://soda-labo.github.io/images/smu_scis_logo_w400.jpg' style=\"width: 300px; height: 90px; \"></th>\n",
    "        <th style=\"text-align:center;\"><h3>IS111 - In-Class Exercises</h3><h3>Week 5 - Starting Code</h3></th>\n",
    "    </tr>\n",
    "</table>"
   ]
  },
  {
   "cell_type": "markdown",
   "metadata": {},
   "source": [
    "### Q1: Code Tracing [ &#9733; &#9733; ]"
   ]
  },
  {
   "cell_type": "code",
   "execution_count": 1,
   "metadata": {},
   "outputs": [
    {
     "name": "stdout",
     "output_type": "stream",
     "text": [
      "['IS111', 'Pytho', 'Progr', 'List']\n"
     ]
    }
   ],
   "source": [
    "def modify_list(my_list):\n",
    "    for index in range(len(my_list)):\n",
    "        x = my_list[index]\n",
    "        if (len(x) > 5):\n",
    "            my_list[index] = x[0:5]\n",
    "\n",
    "str_list = [\"IS111\", \"Python\", \"Programming\", \"List\"]\n",
    "\n",
    "modify_list(str_list)\n",
    "print(str_list) #[\"#IS111\", \"Pytho\", \"Progr\", \"List\"]"
   ]
  },
  {
   "cell_type": "code",
   "execution_count": 2,
   "metadata": {},
   "outputs": [
    {
     "name": "stdout",
     "output_type": "stream",
     "text": [
      "['IS111', 'Python', 'Programming', 'List']\n"
     ]
    }
   ],
   "source": [
    "def modify_list(my_list):\n",
    "    for element in my_list:\n",
    "        if len(element) > 5:\n",
    "            element = element[0:5]\n",
    "\n",
    "str_list = [\"IS111\", \"Python\", \"Programming\", \"List\"]\n",
    "\n",
    "modify_list(str_list)\n",
    "print(str_list) #[\"IS111\", \"Python\", \"Programming\", \"List\"]\n"
   ]
  },
  {
   "cell_type": "markdown",
   "metadata": {},
   "source": [
    "### Q2: Email Extractor [ &#9733; &#9733; ]\n",
    "#### Part I"
   ]
  },
  {
   "cell_type": "code",
   "execution_count": 9,
   "metadata": {},
   "outputs": [],
   "source": [
    "# Write your code below\n",
    "# *********************\n",
    "def extract_email_id(email):\n",
    "    if email.find(\"@\") != -1:\n",
    "        email_front = email.split(\"@\")\n",
    "        return email_front[0]\n",
    "    else:\n",
    "        return \"\"\n",
    "\n",
    "   "
   ]
  },
  {
   "cell_type": "code",
   "execution_count": 10,
   "metadata": {},
   "outputs": [
    {
     "name": "stdout",
     "output_type": "stream",
     "text": [
      "jerry.lee\n",
      "\n",
      "\n",
      "alan_wong\n"
     ]
    }
   ],
   "source": [
    "# This code is given to test your code\n",
    "\n",
    "print(extract_email_id(\"jerry.lee@sis.smu.edu.sg\"))\n",
    "print(extract_email_id(\"alan_wong.com\"))\n",
    "print(extract_email_id(\"\"))\n",
    "print(extract_email_id(\"alan_wong@gmail.com\"))\n"
   ]
  },
  {
   "cell_type": "markdown",
   "metadata": {},
   "source": [
    "  #### Part II"
   ]
  },
  {
   "cell_type": "code",
   "execution_count": 38,
   "metadata": {},
   "outputs": [],
   "source": [
    "# Write your code below\n",
    "# *********************\n",
    "def extract_multiple_email_ids(email_list):\n",
    "    email_adds = email_list.split(\";\")\n",
    "    if len(email_adds) > 0:\n",
    "        for n in range(len(email_adds)):\n",
    "            email_front = email_adds[n].split(\"@\")\n",
    "            print(email_front[0])\n",
    "    else:\n",
    "        print('')\n",
    "\n",
    "\n"
   ]
  },
  {
   "cell_type": "code",
   "execution_count": 39,
   "metadata": {},
   "outputs": [
    {
     "name": "stdout",
     "output_type": "stream",
     "text": [
      "jerry.lee\n",
      "alan_wong\n",
      "george_tan\n",
      "\n",
      "jerry.lee\n"
     ]
    }
   ],
   "source": [
    "# This code is given to test your code\n",
    "\n",
    "extract_multiple_email_ids(\"jerry.lee@sis.smu.edu.sg;alan_wong@gmail.com;george_tan@yahoo.com\")\n",
    "extract_multiple_email_ids(\"\")\n",
    "extract_multiple_email_ids(\"jerry.lee@sis.smu.edu.sg\")"
   ]
  },
  {
   "cell_type": "markdown",
   "metadata": {},
   "source": [
    "### Q3: Check Username [ &#9733;&#9733;&#9733; ]"
   ]
  },
  {
   "cell_type": "code",
   "execution_count": 52,
   "metadata": {},
   "outputs": [],
   "source": [
    "# Write your code below\n",
    "# *********************\n",
    "\n",
    "approved_ch = \"abcdefghijklmnopqrstuvwxyz0123456789_.!#$%?\"\n",
    "\n",
    "def is_valid_username(username):\n",
    "    if len(username) > 8 or len(username) <= 0:\n",
    "        return False\n",
    "    for ch in username:\n",
    "        if approved_ch.find(ch) == -1:\n",
    "            return False\n",
    "    else:\n",
    "        return True\n",
    "    \n",
    "    \n",
    "    \n",
    "\n",
    "\n"
   ]
  },
  {
   "cell_type": "code",
   "execution_count": 53,
   "metadata": {},
   "outputs": [
    {
     "name": "stdout",
     "output_type": "stream",
     "text": [
      "The username 'abcdefgh' is valid : True\n",
      "The username 'abcdefghi' is valid : False\n",
      "The username 'ab$cd' is valid : True\n",
      "The username 'ab_cd' is valid : True\n",
      "The username 'ab-cd' is valid : False\n",
      "The username 'ab:cd' is valid : False\n",
      "The username '' is valid : False\n",
      "The username 'ab cd' is valid : False\n",
      "The username 'abcDef' is valid : False\n",
      "The username 'abc8ef' is valid : True\n"
     ]
    }
   ],
   "source": [
    "# This code is given to test your code\n",
    "\n",
    "username_list = ['abcdefgh','abcdefghi','ab$cd','ab_cd','ab-cd','ab:cd','','ab cd','abcDef','abc8ef']\n",
    "for username in username_list:\n",
    "    print(\"The username '\" + username +\"' is valid : \" + str(is_valid_username(username)))"
   ]
  },
  {
   "cell_type": "markdown",
   "metadata": {},
   "source": [
    "### Q4: List of Strings\n",
    "#### a) [ &#9733;&#9733; ]"
   ]
  },
  {
   "cell_type": "code",
   "execution_count": 71,
   "metadata": {},
   "outputs": [],
   "source": [
    "# Write your code below\n",
    "# *********************\n",
    "def get_avg_len(list):\n",
    "    total_length = 0\n",
    "    for n in range(len(list)):\n",
    "        total_length = total_length + len(list[n])\n",
    "    if len(list) > 0:\n",
    "        avg_length = total_length/(len(list))\n",
    "        return avg_length\n",
    "    else:\n",
    "        return 0\n",
    "\n",
    "\n"
   ]
  },
  {
   "cell_type": "code",
   "execution_count": 72,
   "metadata": {},
   "outputs": [
    {
     "name": "stdout",
     "output_type": "stream",
     "text": [
      "3.5\n",
      "0\n"
     ]
    }
   ],
   "source": [
    "# Code provided to test your function\n",
    "\n",
    "print(get_avg_len([\"C\", \"Java\", \"Python\", \"PHP\"]))\n",
    "print(get_avg_len([]))"
   ]
  },
  {
   "cell_type": "markdown",
   "metadata": {},
   "source": [
    "#### b) [ &#9733;&#9733; ]"
   ]
  },
  {
   "cell_type": "code",
   "execution_count": 83,
   "metadata": {},
   "outputs": [],
   "source": [
    "# Write your code below\n",
    "# *********************\n",
    "def get_longest_str(string_list):\n",
    "    max_length = 0\n",
    "    longest_string = \"\"\n",
    "    for string in string_list:\n",
    "        if len(string) > max_length:\n",
    "            max_length = len(string)\n",
    "            longest_string = string\n",
    "    return longest_string\n",
    "\n",
    "\n"
   ]
  },
  {
   "cell_type": "code",
   "execution_count": 84,
   "metadata": {},
   "outputs": [
    {
     "name": "stdout",
     "output_type": "stream",
     "text": [
      "Python\n",
      "\n",
      "Java\n"
     ]
    }
   ],
   "source": [
    "# Code provided to test your function\n",
    "\n",
    "print(get_longest_str([\"C\", \"Java\", \"Python\", \"PHP\"]))\n",
    "print(get_longest_str([]))\n",
    "print(get_longest_str([\"C\", \"Java\", \"HTML\", \"PHP\"])) \n"
   ]
  },
  {
   "cell_type": "markdown",
   "metadata": {},
   "source": [
    "#### c) [ &#9733;&#9733;&#9733; ]"
   ]
  },
  {
   "cell_type": "code",
   "execution_count": 107,
   "metadata": {},
   "outputs": [],
   "source": [
    "# Write your code below\n",
    "# *********************\n",
    "def concatenate_emails(list):\n",
    "    email_list = []\n",
    "    email_str = \"\"\n",
    "    for elem in list:\n",
    "        if elem.count(\"@\") == 1 and elem.count(\" \") == 0:\n",
    "            email_list = email_list + [elem]\n",
    "    for n in range(len(email_list)):\n",
    "        if n != (len(email_list)-1):\n",
    "            email_str = email_str + email_list[n] + \";\"\n",
    "        else:\n",
    "            email_str = email_str + email_list[n]\n",
    "    return email_str\n",
    "                \n",
    "\n",
    "\n",
    "\n",
    "\n",
    "\n"
   ]
  },
  {
   "cell_type": "code",
   "execution_count": 108,
   "metadata": {},
   "outputs": [
    {
     "name": "stdout",
     "output_type": "stream",
     "text": [
      "tommy.goh@sis.smu.edu.sg;alan_wong@gmail.com\n",
      "\n",
      "jerry.lee@sis.smu.edu.sg;alan_wong@gmail.com;george_tan@yahoo.com\n"
     ]
    }
   ],
   "source": [
    "# Code provided to test your code\n",
    "\n",
    "my_list1 = [\"tommy.goh@sis.smu.edu.sg\",\"alan_wong@gmail.com\"]\n",
    "print(concatenate_emails(my_list1))\n",
    "my_list2 = []\n",
    "print(concatenate_emails(my_list2))\n",
    "my_list3 = [\"IS111\", \"a @ b\", \"jerry.lee@sis.smu.edu.sg\", \"@@@\", \"alan_wong@gmail.com\", \"Python\", \"george_tan@yahoo.com\"]\n",
    "print(concatenate_emails(my_list3))\n",
    "\n",
    "\n"
   ]
  },
  {
   "cell_type": "markdown",
   "metadata": {},
   "source": [
    "#### d) [ &#9733;&#9733;&#9733; ]"
   ]
  },
  {
   "cell_type": "code",
   "execution_count": 113,
   "metadata": {},
   "outputs": [],
   "source": [
    "# Write your code below\n",
    "# *********************\n",
    "def check_hashtags(list):\n",
    "    for elem in list:\n",
    "        if elem[0] == \"#\" and elem.count(\" \") == 0:\n",
    "            continue\n",
    "        else:\n",
    "            return False\n",
    "    if list == []:\n",
    "        return False\n",
    "    else:\n",
    "        return True\n",
    "\n",
    "\n"
   ]
  },
  {
   "cell_type": "code",
   "execution_count": 114,
   "metadata": {},
   "outputs": [
    {
     "name": "stdout",
     "output_type": "stream",
     "text": [
      "True\n",
      "False\n",
      "False\n",
      "False\n"
     ]
    }
   ],
   "source": [
    "# Code provided to test your code\n",
    "\n",
    "print(check_hashtags([\"#singapore\", \"#music\", \"#travel\"]))\n",
    "print(check_hashtags([]))\n",
    "print(check_hashtags([\"#singapore\", \"#music album\", \"#travel\"]))\n",
    "print(check_hashtags([\"singapore\", \"#music\", \"#travel\"]))"
   ]
  },
  {
   "cell_type": "code",
   "execution_count": null,
   "metadata": {},
   "outputs": [],
   "source": []
  }
 ],
 "metadata": {
  "kernelspec": {
   "display_name": "Python 3.9.12 ('base': conda)",
   "language": "python",
   "name": "python3"
  },
  "language_info": {
   "codemirror_mode": {
    "name": "ipython",
    "version": 3
   },
   "file_extension": ".py",
   "mimetype": "text/x-python",
   "name": "python",
   "nbconvert_exporter": "python",
   "pygments_lexer": "ipython3",
   "version": "3.9.12"
  },
  "vscode": {
   "interpreter": {
    "hash": "395bcd43827c12f34ba277ba8ce79bc9791f0692262ae816061085addb5351ea"
   }
  }
 },
 "nbformat": 4,
 "nbformat_minor": 2
}
