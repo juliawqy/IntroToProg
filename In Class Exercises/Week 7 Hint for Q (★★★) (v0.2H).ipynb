{
 "cells": [
  {
   "cell_type": "markdown",
   "metadata": {},
   "source": [
    "<!-- Created by KWAK Haewoon -->\n",
    "<table class=\"table table-bordered\">\n",
    "    <tr>\n",
    "        <th style=\"text-align:center; width:35%\"><img src='https://soda-labo.github.io/images/smu_scis_logo_w400.jpg' style=\"width: 300px; height: 90px; \"></th>\n",
    "        <th style=\"text-align:center;\"><h3>IS111 - In-Class Exercises</h3><h3>Week 7 - Hint (&bigstar;&bigstar;&bigstar;)</h3></th>\n",
    "    </tr>\n",
    "</table>"
   ]
  },
  {
   "cell_type": "markdown",
   "metadata": {},
   "source": [
    "### Q4: Pangram [&bigstar;&bigstar;&bigstar;]"
   ]
  },
  {
   "cell_type": "markdown",
   "metadata": {},
   "source": [
    "#### Logic\n",
    "\n",
    "A pangram is a sentence using every letter of the English alphabet at least once (either in uppercase or in lowercase).<br/> \n",
    "It means that when we check **whether any alphabet is included in a sentence**, it should be in the sentence.\n",
    "\n",
    "For example, if a sentence is a pangram, all the below conditions should be satisfied.\n",
    "\n",
    "`'a' in pangram` == `True` or `'A' in pangram` == `True`<br/>\n",
    "`'b' in pangram` == `True` or `'B' in pangram` == `True`<br/>\n",
    "...<br/>\n",
    "`'z' in pangram` == `True` or `'Z' in pangram` == `True`<br/>\n",
    "\n"
   ]
  },
  {
   "cell_type": "markdown",
   "metadata": {},
   "source": [
    "#### Useful shortcut\n",
    "\n",
    "`'a' in pangram` == `True` or `'A' in pangram` == `True`, this condition is basically the same as <br/>\n",
    "`'a' in (pangram that is changed to lowercase)` == `True`\n",
    "\n",
    "what function should we use for this? If you don't remember, please see below:"
   ]
  },
  {
   "cell_type": "code",
   "execution_count": 6,
   "metadata": {},
   "outputs": [
    {
     "name": "stdout",
     "output_type": "stream",
     "text": [
      "Return a copy of the string converted to lowercase.\n"
     ]
    }
   ],
   "source": [
    "print(str.lower.__doc__)"
   ]
  },
  {
   "cell_type": "code",
   "execution_count": 8,
   "metadata": {},
   "outputs": [
    {
     "name": "stdout",
     "output_type": "stream",
     "text": [
      "pangram\n"
     ]
    }
   ],
   "source": [
    "print('PanGram'.lower())"
   ]
  }
 ],
 "metadata": {
  "kernelspec": {
   "display_name": "Python 3.9.12 ('base': conda)",
   "language": "python",
   "name": "python3"
  },
  "language_info": {
   "codemirror_mode": {
    "name": "ipython",
    "version": 3
   },
   "file_extension": ".py",
   "mimetype": "text/x-python",
   "name": "python",
   "nbconvert_exporter": "python",
   "pygments_lexer": "ipython3",
   "version": "3.9.12"
  },
  "orig_nbformat": 4,
  "vscode": {
   "interpreter": {
    "hash": "395bcd43827c12f34ba277ba8ce79bc9791f0692262ae816061085addb5351ea"
   }
  }
 },
 "nbformat": 4,
 "nbformat_minor": 2
}
