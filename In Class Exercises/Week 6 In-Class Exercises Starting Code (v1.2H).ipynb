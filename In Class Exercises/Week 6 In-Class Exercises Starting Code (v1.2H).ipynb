{
 "cells": [
  {
   "cell_type": "markdown",
   "metadata": {},
   "source": [
    "<table class=\"table table-bordered\">\n",
    "    <tr>\n",
    "        <th style=\"text-align:center; width:35%\"><img src='https://soda-labo.github.io/images/smu_scis_logo_w400.jpg' style=\"width: 300px; height: 90px; \"></th>\n",
    "        <th style=\"text-align:center;\"><h3>IS111 - In-Class Exercises</h3><h3>Week 6 - Starting Code</h3></th>\n",
    "    </tr>\n",
    "</table>"
   ]
  },
  {
   "cell_type": "markdown",
   "metadata": {},
   "source": [
    "## Q1: List of Numbers"
   ]
  },
  {
   "cell_type": "markdown",
   "metadata": {},
   "source": [
    "### Part (a) [&bigstar;&bigstar;]"
   ]
  },
  {
   "cell_type": "code",
   "execution_count": 2,
   "metadata": {},
   "outputs": [],
   "source": [
    "# Write your code below\n",
    "\n",
    "def get_larger_values(num_list):\n",
    "\n",
    "    total_sum = 0\n",
    "    larger_values = []\n",
    "\n",
    "    for num in num_list:\n",
    "        total_sum = total_sum + num\n",
    "    \n",
    "    avg = total_sum/len(num_list)\n",
    "\n",
    "    for num in num_list:\n",
    "        if num > avg:\n",
    "            larger_values = larger_values + [num]\n",
    "\n",
    "    return larger_values\n"
   ]
  },
  {
   "cell_type": "code",
   "execution_count": 3,
   "metadata": {},
   "outputs": [
    {
     "name": "stdout",
     "output_type": "stream",
     "text": [
      "Test Case 1\n",
      "===========\n",
      "Expected: [3.5, 5.5]\n",
      "Actual:   [3.5, 5.5]\n",
      "\n",
      "Test Case 2\n",
      "===========\n",
      "Expected: [3.5]\n",
      "Actual:   [3.5]\n"
     ]
    }
   ],
   "source": [
    "print('Test Case 1')\n",
    "print('===========')\n",
    "print('Expected: [3.5, 5.5]')\n",
    "num_list = [2.5,3.5,5.5,1.0]\n",
    "result = get_larger_values(num_list)\n",
    "print('Actual:   ' + str(result))\n",
    "\n",
    "print('\\nTest Case 2')\n",
    "print('===========')\n",
    "print('Expected: [3.5]')\n",
    "num_list = [2.5,3.5,3]\n",
    "result = get_larger_values(num_list)\n",
    "print('Actual:   ' + str(result))\n"
   ]
  },
  {
   "cell_type": "markdown",
   "metadata": {},
   "source": [
    "### Part (b) [&bigstar;&bigstar;]"
   ]
  },
  {
   "cell_type": "code",
   "execution_count": 14,
   "metadata": {},
   "outputs": [],
   "source": [
    "# Write your code below\n",
    "\n",
    "def merge_list(list1, list2):\n",
    "\n",
    "    merged_list = []\n",
    "    \n",
    "    if len(list1) > len(list2):\n",
    "        for element_index in range(len(list2)):\n",
    "            merged_list = merged_list + [list1[element_index]] + [list2[element_index]]\n",
    "        for element_index in range(len(list2),len(list1)):\n",
    "            merged_list = merged_list + [list1[element_index]]\n",
    "    \n",
    "\n",
    "    elif len(list2) > len(list1):\n",
    "        for element_index in range(len(list1)):\n",
    "            merged_list = merged_list + [list1[element_index]] + [list2[element_index]]\n",
    "        for element_index in range(len(list1),len(list2)):\n",
    "            merged_list = merged_list + [list2[element_index]]\n",
    "    \n",
    "    else:\n",
    "         for element_index in range(len(list1)):\n",
    "            merged_list = merged_list + [list1[element_index]] + [list2[element_index]]\n",
    "\n",
    "    return merged_list\n",
    "\n",
    "\n",
    "\n",
    "\n"
   ]
  },
  {
   "cell_type": "code",
   "execution_count": 15,
   "metadata": {},
   "outputs": [
    {
     "name": "stdout",
     "output_type": "stream",
     "text": [
      "Test Case 1\n",
      "===========\n",
      "Expected output: [1, 9, 3, 5, 10, 2, 15, 4, 7, 12]\n",
      "Actual output  : [1, 9, 3, 5, 10, 2, 15, 4, 7, 12]\n",
      "\n",
      "Test Case 2\n",
      "===========\n",
      "Expected output: [1, 9, 3, 5, 10, 2, 10, 20, 30]\n",
      "Actual output  : [1, 9, 3, 5, 10, 2, 10, 20, 30]\n",
      "\n",
      "Test Case 3\n",
      "===========\n",
      "Expected output: [1, 10, 2, 20, 3, 30]\n",
      "Actual output  : [1, 10, 2, 20, 3, 30]\n"
     ]
    }
   ],
   "source": [
    "print('Test Case 1')\n",
    "print('===========')\n",
    "print('Expected output: [1, 9, 3, 5, 10, 2, 15, 4, 7, 12]')\n",
    "print('Actual output  : ' + str(merge_list([1, 3, 10, 15, 4, 7, 12], [9, 5, 2])))\n",
    "\n",
    "print('\\nTest Case 2')\n",
    "print('===========')\n",
    "print('Expected output: [1, 9, 3, 5, 10, 2, 10, 20, 30]')\n",
    "print('Actual output  : ' + str(merge_list([1, 3, 10], [9, 5, 2, 10, 20, 30])))\n",
    "\n",
    "print('\\nTest Case 3')\n",
    "print('===========')\n",
    "print('Expected output: [1, 10, 2, 20, 3, 30]')\n",
    "print('Actual output  : ' + str(merge_list([1, 2, 3], [10, 20, 30])))\n",
    "\n"
   ]
  },
  {
   "cell_type": "markdown",
   "metadata": {},
   "source": [
    "### Part (c) [&bigstar;&bigstar;]"
   ]
  },
  {
   "cell_type": "code",
   "execution_count": 35,
   "metadata": {},
   "outputs": [],
   "source": [
    "# Write your code below\n",
    "\n",
    "def check_numbers(int_list_1, int_list_2):\n",
    "\n",
    "    count = 0\n",
    "\n",
    "    for num1s in int_list_1:\n",
    "        for num2s in int_list_2:\n",
    "            if num1s%num2s == 0:\n",
    "                count += 1\n",
    "            \n",
    "        if count == 0:\n",
    "            return False\n",
    "        else:\n",
    "            count = 0\n",
    "\n",
    "    return True\n",
    "    \n",
    "\n",
    "\n",
    "\n"
   ]
  },
  {
   "cell_type": "code",
   "execution_count": 36,
   "metadata": {},
   "outputs": [
    {
     "name": "stdout",
     "output_type": "stream",
     "text": [
      "Test Case 1\n",
      "===========\n",
      "Expected output: True\n",
      "Actual output  : True\n",
      "\n",
      "Test Case 2\n",
      "===========\n",
      "Expected output: False\n",
      "Actual output  : False\n"
     ]
    }
   ],
   "source": [
    "print('Test Case 1')\n",
    "print('===========')\n",
    "print('Expected output: True')\n",
    "print('Actual output  : ' + str(check_numbers([15, 10, 4, 8, 12], [2, 5, 3])))\n",
    "\n",
    "print('\\nTest Case 2')\n",
    "print('===========')\n",
    "print('Expected output: False')\n",
    "print('Actual output  : ' + str(check_numbers([15, 10, 7, 8, 12], [2, 5, 3])))\n"
   ]
  },
  {
   "cell_type": "markdown",
   "metadata": {},
   "source": [
    "### Q2: Movies [&bigstar;&bigstar;&bigstar;]"
   ]
  },
  {
   "cell_type": "code",
   "execution_count": 41,
   "metadata": {},
   "outputs": [],
   "source": [
    "# given code\n",
    "\n",
    "movie_list = [(\"The Shawshank Redemption\", \"drama\", 142), \n",
    "        (\"The Godfather\", \"drama\", 175), \n",
    "        (\"The Lord of the Rings: The Return of the King\", \"fantasy\", 201), \n",
    "        (\"Forrest Gump\", \"comedy\", 142), \n",
    "        (\"The Lord of the Rings: The Fellowship of the Ring\", \"fantasy\", 178), \n",
    "        (\"Star Wars: Episode IV - A New Hope\", \"fantasy\", 121), \n",
    "        (\"The Lion King\", \"animation\", 88)]"
   ]
  },
  {
   "cell_type": "code",
   "execution_count": 39,
   "metadata": {},
   "outputs": [],
   "source": [
    "# Write your code below\n",
    "\n",
    "def get_average_duration(movie_list):\n",
    "\n",
    "    total_duration = 0.0\n",
    "\n",
    "    if movie_list == []:\n",
    "        return 0.0\n",
    "\n",
    "    for movies in movie_list:\n",
    "        total_duration = total_duration + movies[2]\n",
    "\n",
    "    avg_duration = total_duration/len(movie_list)\n",
    "    return avg_duration\n",
    "\n",
    "\n"
   ]
  },
  {
   "cell_type": "code",
   "execution_count": 42,
   "metadata": {},
   "outputs": [
    {
     "name": "stdout",
     "output_type": "stream",
     "text": [
      "\n",
      "Testing : get_average_duration()\n",
      "================================\n",
      "\n",
      "Testcase 1\n",
      "----------\n",
      "Expected: 0.0\n",
      "Actual:   0.0\n",
      "\n",
      "Testcase 2\n",
      "----------\n",
      "Expected: 149.6\n",
      "Actual:   149.6\n"
     ]
    }
   ],
   "source": [
    "print('\\nTesting : get_average_duration()')\n",
    "print('================================')\n",
    "print('\\nTestcase 1')\n",
    "print('-' * 10)\n",
    "print('Expected: 0.0')\n",
    "print('Actual:   ' + str(get_average_duration([])))\n",
    "\n",
    "print('\\nTestcase 2')\n",
    "print('-' * 10)\n",
    "print('Expected: 149.6')\n",
    "print('Actual:   ' + str(round(get_average_duration(movie_list),1)))"
   ]
  },
  {
   "cell_type": "code",
   "execution_count": 45,
   "metadata": {},
   "outputs": [],
   "source": [
    "# Write your code below\n",
    "\n",
    "def get_num_movies_of_genre(movie_list, genre):\n",
    "\n",
    "    num_movies = 0\n",
    "    \n",
    "    for movies in movie_list:\n",
    "        if movies[1].find(genre) != -1:\n",
    "            num_movies += 1\n",
    "    \n",
    "    return num_movies\n",
    "\n",
    "\n",
    "\n"
   ]
  },
  {
   "cell_type": "code",
   "execution_count": 46,
   "metadata": {},
   "outputs": [
    {
     "name": "stdout",
     "output_type": "stream",
     "text": [
      "\n",
      "Testing : get_num_movies_of_genre()\n",
      "===================================\n",
      "\n",
      "Testcase 1\n",
      "----------\n",
      "Expected: 2\n",
      "Actual:   2\n",
      "\n",
      "Testcase 2\n",
      "----------\n",
      "Expected: 3\n",
      "Actual:   3\n"
     ]
    }
   ],
   "source": [
    "print('\\nTesting : get_num_movies_of_genre()')\n",
    "print('===================================')\n",
    "print('\\nTestcase 1')\n",
    "print('-' * 10)\n",
    "print('Expected: 2')\n",
    "print('Actual:   ' + str(get_num_movies_of_genre(movie_list, \"drama\")))\n",
    "\n",
    "print('\\nTestcase 2')\n",
    "print('-' * 10)\n",
    "print('Expected: 3')\n",
    "print('Actual:   ' + str(get_num_movies_of_genre(movie_list, \"fantasy\")))"
   ]
  },
  {
   "cell_type": "code",
   "execution_count": 51,
   "metadata": {},
   "outputs": [],
   "source": [
    "# Write your code below\n",
    "\n",
    "def get_title_of_longest_movie(movie_list):\n",
    "\n",
    "    longest_title = ''\n",
    "    longest_duration = 0\n",
    "\n",
    "    for movies in movie_list:\n",
    "        if movies[2] > longest_duration:\n",
    "            longest_duration = movies[2]\n",
    "            longest_title = movies[0]\n",
    "\n",
    "    return longest_title\n",
    "\n"
   ]
  },
  {
   "cell_type": "code",
   "execution_count": 52,
   "metadata": {},
   "outputs": [
    {
     "name": "stdout",
     "output_type": "stream",
     "text": [
      "\n",
      "Testing : get_title_of_longest_movie()\n",
      "======================================\n",
      "\n",
      "Testcase 1\n",
      "----------\n",
      "Expected: The Lord of the Rings: The Return of the King\n",
      "Actual:   The Lord of the Rings: The Return of the King\n"
     ]
    }
   ],
   "source": [
    "print('\\nTesting : get_title_of_longest_movie()')\n",
    "print('======================================')\n",
    "print('\\nTestcase 1')\n",
    "print('-' * 10)\n",
    "print('Expected: The Lord of the Rings: The Return of the King')\n",
    "print('Actual:   ' + str(get_title_of_longest_movie(movie_list)))"
   ]
  },
  {
   "cell_type": "code",
   "execution_count": 53,
   "metadata": {},
   "outputs": [],
   "source": [
    "# Write your code below\n",
    "\n",
    "def get_movies_with_keyword(movie_list, keyword):\n",
    "\n",
    "    list_of_movies = []\n",
    "\n",
    "    for movies in movie_list:\n",
    "        if movies[0].find(keyword) != -1:\n",
    "            list_of_movies = list_of_movies + [movies]\n",
    "\n",
    "    return list_of_movies\n",
    "\n"
   ]
  },
  {
   "cell_type": "code",
   "execution_count": 54,
   "metadata": {},
   "outputs": [
    {
     "name": "stdout",
     "output_type": "stream",
     "text": [
      "\n",
      "Testing : get_movies_with_keyword()\n",
      "===================================\n",
      "\n",
      "Testcase 1\n",
      "----------\n",
      "Expected: [('The Lord of the Rings: The Return of the King', 'fantasy', 201), ('The Lion King', 'animation', 88)]\n",
      "Actual:   [('The Lord of the Rings: The Return of the King', 'fantasy', 201), ('The Lion King', 'animation', 88)]\n",
      "\n",
      "Testcase 2\n",
      "----------\n",
      "Expected: [('The Lord of the Rings: The Return of the King', 'fantasy', 201), ('The Lord of the Rings: The Fellowship of the Ring', 'fantasy', 178)]\n",
      "Actual:   [('The Lord of the Rings: The Return of the King', 'fantasy', 201), ('The Lord of the Rings: The Fellowship of the Ring', 'fantasy', 178)]\n",
      "\n",
      "Testcase 3\n",
      "----------\n",
      "Expected: []\n",
      "Actual:   []\n"
     ]
    }
   ],
   "source": [
    "print('\\nTesting : get_movies_with_keyword()')\n",
    "print('===================================')\n",
    "print('\\nTestcase 1')\n",
    "print('-' * 10)\n",
    "print(\"Expected: [('The Lord of the Rings: The Return of the King', 'fantasy', 201), ('The Lion King', 'animation', 88)]\")\n",
    "print('Actual:   ' + str(get_movies_with_keyword(movie_list, \"King\")))\n",
    "\n",
    "print('\\nTestcase 2')\n",
    "print('-' * 10)\n",
    "print(\"Expected: [('The Lord of the Rings: The Return of the King', 'fantasy', 201), ('The Lord of the Rings: The Fellowship of the Ring', 'fantasy', 178)]\")\n",
    "print('Actual:   ' + str(get_movies_with_keyword(movie_list, \"Lord\")))\n",
    "\n",
    "print('\\nTestcase 3')\n",
    "print('-' * 10)\n",
    "print(\"Expected: []\")\n",
    "print('Actual:   ' + str(get_movies_with_keyword(movie_list, \"Hello\")))"
   ]
  },
  {
   "cell_type": "markdown",
   "metadata": {},
   "source": [
    "### Q3: Books [&bigstar;&bigstar;&bigstar;]"
   ]
  },
  {
   "cell_type": "markdown",
   "metadata": {},
   "source": [
    "#### Part (a)"
   ]
  },
  {
   "cell_type": "code",
   "execution_count": 55,
   "metadata": {},
   "outputs": [],
   "source": [
    "# Write your code below\n",
    "\n",
    "def get_unique_titles(books_list):\n",
    "\n",
    "    unique_titles = []\n",
    "\n",
    "    for books in books_list:\n",
    "        if books[0] not in unique_titles:\n",
    "            unique_titles = unique_titles + [books[0]]\n",
    "    \n",
    "    return unique_titles\n",
    "\n",
    "\n"
   ]
  },
  {
   "cell_type": "code",
   "execution_count": 56,
   "metadata": {},
   "outputs": [
    {
     "name": "stdout",
     "output_type": "stream",
     "text": [
      "Testcase 1\n",
      "==========\n",
      "Expected: ['Intro to Programming', 'Intro to Python']\n",
      "Actual:   ['Intro to Programming', 'Intro to Python']\n",
      "\n",
      "Testcase 2\n",
      "==========\n",
      "Expected: []\n",
      "Actual:   []\n"
     ]
    }
   ],
   "source": [
    "print('Testcase 1')\n",
    "print('=' * 10)\n",
    "print(\"Expected: ['Intro to Programming', 'Intro to Python']\")\n",
    "books_list = [(\"Intro to Programming\", \"Ed-2\", 2, \"paperback\"), (\"Intro to Python\", \"Ed-1\", 5, \"paperback\"), (\"Intro to Programming\", \"Ed-3\", 4, \"hardcover\")]\n",
    "print('Actual:   ' + str(get_unique_titles(books_list)))\n",
    "\n",
    "print('\\nTestcase 2')\n",
    "print('=' * 10)\n",
    "print(\"Expected: []\")\n",
    "books_list = []\n",
    "print('Actual:   ' + str(get_unique_titles(books_list)))"
   ]
  },
  {
   "cell_type": "markdown",
   "metadata": {},
   "source": [
    "#### Part (b)"
   ]
  },
  {
   "cell_type": "code",
   "execution_count": 72,
   "metadata": {},
   "outputs": [],
   "source": [
    "# Write your code below\n",
    "\n",
    "def get_titles_and_counts(books_list):\n",
    "\n",
    "    unique_titles = get_unique_titles(books_list)\n",
    "    return_list = []\n",
    "    count = 0\n",
    "\n",
    "    for titles in unique_titles:\n",
    "        for books in books_list:\n",
    "            if titles == books[0]:\n",
    "                count = count + int(books[3])\n",
    "        return_list = return_list + [(titles, count)]\n",
    "        count = 0\n",
    "\n",
    "    return return_list\n",
    "\n"
   ]
  },
  {
   "cell_type": "code",
   "execution_count": 73,
   "metadata": {},
   "outputs": [
    {
     "name": "stdout",
     "output_type": "stream",
     "text": [
      "Testcase 1\n",
      "==========\n",
      "Expected: [('Intro to Programming', 6), ('Intro to Python', 8)]\n",
      "Actual:   [('Intro to Programming', 6), ('Intro to Python', 8)]\n",
      "\n",
      "Testcase 2\n",
      "==========\n",
      "Expected: []\n",
      "Actual:   []\n"
     ]
    }
   ],
   "source": [
    "print('Testcase 1')\n",
    "print('=' * 10)\n",
    "print(\"Expected: [('Intro to Programming', 6), ('Intro to Python', 8)]\")\n",
    "books_list = ([(\"Intro to Programming\", \"Ed-2\", \"paperback\", 2), (\"Intro to Python\", \"Ed-1\", \"paperback\", 5), (\"Intro to Programming\", \"Ed-3\", \"hardcover\", 4), (\"Intro to Python\", \"Ed-3\", \"hardcover\", 3)])\n",
    "print('Actual:   ' + str(get_titles_and_counts(books_list)))\n",
    "\n",
    "print('\\nTestcase 2')\n",
    "print('=' * 10)\n",
    "print(\"Expected: []\")\n",
    "books_list = []\n",
    "print('Actual:   ' + str(get_titles_and_counts(books_list)))"
   ]
  },
  {
   "cell_type": "markdown",
   "metadata": {},
   "source": [
    "### Q4: Retrieve Numbers [&bigstar;&bigstar;&bigstar;]"
   ]
  },
  {
   "cell_type": "code",
   "execution_count": 80,
   "metadata": {},
   "outputs": [],
   "source": [
    "# Write your code below\n",
    "\n",
    "def retrieve_numbers(the_str):\n",
    "\n",
    "    start_str = ''\n",
    "    int_list = '0123456789'\n",
    "\n",
    "    for ch_index in range(len(the_str)):\n",
    "        if int_list.find(the_str[ch_index]) != -1:\n",
    "            start_str = start_str + the_str[ch_index]\n",
    "        else:\n",
    "            if int_list.find(the_str[ch_index-1]) != -1:\n",
    "                start_str = start_str + ' '\n",
    "            else:\n",
    "                continue\n",
    "            \n",
    "    return start_str\n",
    "\n"
   ]
  },
  {
   "cell_type": "code",
   "execution_count": 81,
   "metadata": {},
   "outputs": [
    {
     "name": "stdout",
     "output_type": "stream",
     "text": [
      "Testcase 1\n",
      "==========\n",
      "Expected: 12 600 0900 100\n",
      "Actual  : 12 600 0900 100 \n",
      "\n",
      "Testcase 2\n",
      "==========\n",
      "Expected: 34 5689 980\n",
      "Actual  : 34 5689 980\n",
      "\n",
      "Testcase 3\n",
      "==========\n",
      "Expected: \"\"\n",
      "Actual  : \"\"\n",
      "\n",
      "Testcase 4\n",
      "==========\n",
      "Expected: 25\n",
      "Actual  : 25 \n"
     ]
    }
   ],
   "source": [
    "print('Testcase 1')\n",
    "print('=' * 10)\n",
    "print('Expected: 12 600 0900 100')\n",
    "print('Actual  :', retrieve_numbers(\"12abc600$##0900AB 100X\"))\n",
    "\n",
    "print('\\nTestcase 2')\n",
    "print('=' * 10)\n",
    "print('Expected: 34 5689 980')\n",
    "print('Actual  :', retrieve_numbers(\"34.5689abc980\"))\n",
    "\n",
    "print('\\nTestcase 3')\n",
    "print('=' * 10)\n",
    "print('Expected: \"\"')\n",
    "print('Actual  : \"' + retrieve_numbers(\"xyz\") + '\"')\n",
    "\n",
    "print('\\nTestcase 4')\n",
    "print('=' * 10)\n",
    "print('Expected: 25')\n",
    "print('Actual  :', retrieve_numbers(\"abc25xyz\"))"
   ]
  },
  {
   "cell_type": "code",
   "execution_count": null,
   "metadata": {},
   "outputs": [],
   "source": []
  },
  {
   "cell_type": "code",
   "execution_count": null,
   "metadata": {},
   "outputs": [],
   "source": []
  },
  {
   "cell_type": "code",
   "execution_count": null,
   "metadata": {},
   "outputs": [],
   "source": []
  },
  {
   "cell_type": "code",
   "execution_count": null,
   "metadata": {},
   "outputs": [],
   "source": []
  }
 ],
 "metadata": {
  "kernelspec": {
   "display_name": "Python 3.9.12 ('base': conda)",
   "language": "python",
   "name": "python3"
  },
  "language_info": {
   "codemirror_mode": {
    "name": "ipython",
    "version": 3
   },
   "file_extension": ".py",
   "mimetype": "text/x-python",
   "name": "python",
   "nbconvert_exporter": "python",
   "pygments_lexer": "ipython3",
   "version": "3.9.12"
  },
  "vscode": {
   "interpreter": {
    "hash": "395bcd43827c12f34ba277ba8ce79bc9791f0692262ae816061085addb5351ea"
   }
  }
 },
 "nbformat": 4,
 "nbformat_minor": 2
}
