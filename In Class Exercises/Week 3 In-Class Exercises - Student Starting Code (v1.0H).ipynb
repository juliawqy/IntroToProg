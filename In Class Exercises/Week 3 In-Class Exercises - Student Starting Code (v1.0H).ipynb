{
 "cells": [
  {
   "cell_type": "markdown",
   "metadata": {},
   "source": [
    "<table class=\"table table-bordered\">\n",
    "    <tr>\n",
    "        <th style=\"text-align:center; width:35%\"><img src='https://soda-labo.github.io/images/smu_scis_logo_w400.jpg' style=\"width: 300px; height: 90px; \"></th>\n",
    "        <th style=\"text-align:center;\"><h3>IS111 - In-Class Exercises</h3><h3>Week 3</h3><h3>Conditions and Tuples</h3></th>\n",
    "    </tr>\n",
    "</table>"
   ]
  },
  {
   "cell_type": "markdown",
   "metadata": {},
   "source": [
    "### Q1 [ \\* ]: "
   ]
  },
  {
   "cell_type": "code",
   "execution_count": 1,
   "metadata": {},
   "outputs": [
    {
     "name": "stdout",
     "output_type": "stream",
     "text": [
      "a >= b\n",
      "a <= b\n"
     ]
    }
   ],
   "source": [
    "a = 20\n",
    "b = 20\n",
    "if a >= b:\n",
    "    print(\"a >= b\")\n",
    "if a <= b:\n",
    "    print(\"a <= b\")\n",
    "\n",
    "#Ans: a >= b\n",
    "#     a <= b"
   ]
  },
  {
   "cell_type": "code",
   "execution_count": 2,
   "metadata": {},
   "outputs": [
    {
     "name": "stdout",
     "output_type": "stream",
     "text": [
      "a >= b\n"
     ]
    }
   ],
   "source": [
    "a = 30\n",
    "b = 30\n",
    "if a >= b:\n",
    "    print(\"a >= b\")\n",
    "elif a <= b:\n",
    "    print(\"a <= b\")\n",
    "\n",
    "#Ans: a >= b"
   ]
  },
  {
   "cell_type": "code",
   "execution_count": 3,
   "metadata": {},
   "outputs": [
    {
     "name": "stdout",
     "output_type": "stream",
     "text": [
      "False\n",
      "True\n"
     ]
    }
   ],
   "source": [
    "c = \"IS111\"\n",
    "d = \"is111\"\n",
    "e = \"IS\" + \"111\"\n",
    "\n",
    "print(c == d)\n",
    "print(c == e)\n",
    "\n",
    "#Ans: False\n",
    "#Ans: True"
   ]
  },
  {
   "cell_type": "code",
   "execution_count": 5,
   "metadata": {},
   "outputs": [
    {
     "name": "stdout",
     "output_type": "stream",
     "text": [
      "Good!\n",
      "True\n"
     ]
    }
   ],
   "source": [
    "def test_if_else(condition1, condition2):\n",
    "    if (condition1):\n",
    "        print(\"Great!\")\n",
    "        return True\n",
    "    elif(condition2):\n",
    "        print(\"Good!\")\n",
    "        return True\n",
    "    else:\n",
    "        print(\"Okay\")\n",
    "        return False\n",
    "\n",
    "result = test_if_else(4 % 2 != 0, 3 // 2 == 1)\n",
    "print(result)\n",
    "\n",
    "#Ans: Good!\n",
    "#     True"
   ]
  },
  {
   "cell_type": "markdown",
   "metadata": {},
   "source": [
    "### Q3 [ \\* ]: Day of a Week"
   ]
  },
  {
   "cell_type": "markdown",
   "metadata": {},
   "source": [
    "#### a) define get_day_of_week"
   ]
  },
  {
   "cell_type": "code",
   "execution_count": 46,
   "metadata": {},
   "outputs": [
    {
     "name": "stdout",
     "output_type": "stream",
     "text": [
      "Thursday\n"
     ]
    }
   ],
   "source": [
    "# Write your code below.\n",
    "get_day_of_week = (\"Monday\", \"Tuesday\", \"Wednesday\", \"Thursday\", \"Friday\", \"Saturday\", \"Sunday\")\n",
    "\n",
    "print(get_day_of_week[3])\n",
    "\n",
    "\n",
    "\n"
   ]
  },
  {
   "cell_type": "markdown",
   "metadata": {},
   "source": [
    "#### b) prompt the user and display day of a week"
   ]
  },
  {
   "cell_type": "code",
   "execution_count": 47,
   "metadata": {},
   "outputs": [
    {
     "name": "stdout",
     "output_type": "stream",
     "text": [
      "Wednesday\n"
     ]
    }
   ],
   "source": [
    "# Write your code below.\n",
    "def get_day():\n",
    "    number = int(input(\"Enter a number indicating the day of a week [0 to 6]: \"))\n",
    "    if number < 0:\n",
    "        return \"Your number should be at least 0\"\n",
    "    else:\n",
    "        print(get_day_of_week[number-1])\n",
    "\n",
    "get_day()\n",
    "\n",
    "\n"
   ]
  },
  {
   "cell_type": "markdown",
   "metadata": {},
   "source": [
    "### Q4 [ \\*\\* ]: Tax Calculator"
   ]
  },
  {
   "cell_type": "markdown",
   "metadata": {},
   "source": [
    "#### a) define calculate_income_tax"
   ]
  },
  {
   "cell_type": "code",
   "execution_count": 26,
   "metadata": {},
   "outputs": [],
   "source": [
    "# Write your code below:\n",
    "\n",
    "def calculate_income_tax():\n",
    "    income = int(input(\"What is your income ($)?: \"))\n",
    "    if income <= 20000:\n",
    "        print(\"The total tax you have to pay is $0.\")    \n",
    "    \n",
    "    elif income <= 30000:\n",
    "        print(f\"The total tax you have to pay is ${0.02*(income-20000)}.\")\n",
    "\n",
    "    elif income <= 40000:\n",
    "        print(f\"The total tax you have to pay is ${200 + 0.035*(income-30000)}.\")\n",
    "    \n",
    "    elif income <= 80000:\n",
    "        print(f\"The total tax you have to pay is ${550 + 0.07*(income-40000)}.\")\n",
    "\n",
    "    elif income <= 120000:\n",
    "        print(f\"The total tax you have to pay is ${3350 + 0.115*(income-80000)}.\")\n",
    "    \n",
    "    elif income <= 160000:\n",
    "        print(f\"The total tax you have to pay is ${7950 + 0.15*(income-120000)}.\")\n",
    "\n",
    "    elif income <= 200000:\n",
    "        print(f\"The total tax you have to pay is ${13950 + 0.18*(income-160000)}.\")\n",
    "\n",
    "\n",
    "\n"
   ]
  },
  {
   "cell_type": "markdown",
   "metadata": {},
   "source": [
    "#### b) call calculate_income_tax with user input"
   ]
  },
  {
   "cell_type": "code",
   "execution_count": 28,
   "metadata": {},
   "outputs": [
    {
     "name": "stdout",
     "output_type": "stream",
     "text": [
      "The total tax you have to pay is $5650.0.\n"
     ]
    }
   ],
   "source": [
    "# Write your code below:\n",
    "\n",
    "calculate_income_tax()\n",
    "\n"
   ]
  },
  {
   "cell_type": "markdown",
   "metadata": {},
   "source": [
    "### Q5 [ \\*\\* ]: Evaluation of Expressions"
   ]
  },
  {
   "cell_type": "code",
   "execution_count": 30,
   "metadata": {},
   "outputs": [
    {
     "name": "stdout",
     "output_type": "stream",
     "text": [
      "False\n",
      "True\n",
      "True\n"
     ]
    }
   ],
   "source": [
    "print(not True or (3 >= 3 or 9 < 4) and False) #False\n",
    "print(not True or 3 >= 3 or 9 < 4 and False) #True\n",
    "print(False == (False or not True) or not (2 * 4 % 3 == 1)) #True"
   ]
  },
  {
   "cell_type": "markdown",
   "metadata": {},
   "source": [
    "### Q6 [ \\*\\* ]: Mooncakes"
   ]
  },
  {
   "cell_type": "markdown",
   "metadata": {},
   "source": [
    "#### a) define get_discount_rate"
   ]
  },
  {
   "cell_type": "code",
   "execution_count": 40,
   "metadata": {},
   "outputs": [],
   "source": [
    "# Write your code below.\n",
    "def get_discount_rate(num_boxes):\n",
    "\n",
    "    if num_boxes >= 5:\n",
    "        return(0.2)\n",
    "    elif num_boxes >= 2:\n",
    "        return(0.1)\n",
    "    else:\n",
    "        return(0.0)\n",
    "\n",
    "\n"
   ]
  },
  {
   "cell_type": "markdown",
   "metadata": {},
   "source": [
    "#### b) define calculate_total_amount"
   ]
  },
  {
   "cell_type": "code",
   "execution_count": 44,
   "metadata": {},
   "outputs": [],
   "source": [
    "# Write your code below.\n",
    "\n",
    "def calculate_total_amount():\n",
    "\n",
    "    brand = input(\"Which brand do you want to buy? \")\n",
    "    num_boxes = int(input(\"How many boxes do you want to buy? \"))\n",
    "\n",
    "    discount_percent = get_discount_rate(num_boxes)\n",
    "\n",
    "    if brand == \"Tung Lok\":\n",
    "        price = (1 - discount_percent)*num_boxes*55.4\n",
    "    elif brand == \"Man Fu Yuan\":\n",
    "        price = (1 - discount_percent)*num_boxes*59.6\n",
    "    \n",
    "    print(f\"You need to pay ${price}\")\n"
   ]
  },
  {
   "cell_type": "markdown",
   "metadata": {},
   "source": [
    "#### c) the main program"
   ]
  },
  {
   "cell_type": "code",
   "execution_count": 45,
   "metadata": {},
   "outputs": [
    {
     "name": "stdout",
     "output_type": "stream",
     "text": [
      "You need to pay $476.8\n"
     ]
    }
   ],
   "source": [
    "# Write your code below.\n",
    "\n",
    "calculate_total_amount()\n",
    "\n"
   ]
  },
  {
   "cell_type": "markdown",
   "metadata": {},
   "source": [
    "### Q7 [ \\*\\* ]: This exercise is to be done using VS Code and Anaconda Prompt."
   ]
  },
  {
   "cell_type": "code",
   "execution_count": null,
   "metadata": {},
   "outputs": [],
   "source": []
  }
 ],
 "metadata": {
  "kernelspec": {
   "display_name": "Python 3.9.12 ('base': conda)",
   "language": "python",
   "name": "python3"
  },
  "language_info": {
   "codemirror_mode": {
    "name": "ipython",
    "version": 3
   },
   "file_extension": ".py",
   "mimetype": "text/x-python",
   "name": "python",
   "nbconvert_exporter": "python",
   "pygments_lexer": "ipython3",
   "version": "3.9.12"
  },
  "vscode": {
   "interpreter": {
    "hash": "395bcd43827c12f34ba277ba8ce79bc9791f0692262ae816061085addb5351ea"
   }
  }
 },
 "nbformat": 4,
 "nbformat_minor": 2
}
