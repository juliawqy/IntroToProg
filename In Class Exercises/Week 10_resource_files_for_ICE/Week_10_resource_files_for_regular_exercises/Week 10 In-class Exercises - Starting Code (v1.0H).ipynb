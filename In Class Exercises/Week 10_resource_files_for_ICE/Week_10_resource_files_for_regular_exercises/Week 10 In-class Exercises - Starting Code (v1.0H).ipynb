{
 "cells": [
  {
   "cell_type": "markdown",
   "metadata": {},
   "source": [
    "<table class=\"table table-bordered\">\n",
    "    <tr>\n",
    "        <th style=\"text-align:center; width:35%\"><img src='https://soda-labo.github.io/images/smu_scis_logo_w400.jpg' style=\"width: 300px; height: 90px; \"></th>\n",
    "        <th style=\"text-align:center;\"><h3>IS111 - In-Class Exercises</h3><h3>Week 10</h3></th>\n",
    "    </tr>\n",
    "</table>"
   ]
  },
  {
   "cell_type": "markdown",
   "metadata": {},
   "source": [
    "### Q1: Numbers in Files [ &#9733; ]"
   ]
  },
  {
   "cell_type": "markdown",
   "metadata": {},
   "source": [
    "#### a)"
   ]
  },
  {
   "cell_type": "code",
   "execution_count": null,
   "metadata": {},
   "outputs": [],
   "source": [
    "# Put your code below\n",
    "\n",
    "\n"
   ]
  },
  {
   "cell_type": "code",
   "execution_count": null,
   "metadata": {},
   "outputs": [],
   "source": [
    "print('Test case 1')\n",
    "print('===========')\n",
    "your_sum = sum_up('q1-1.txt')\n",
    "print('Expected: ',55.4)\n",
    "print('Actual:   ',round(your_sum,1))\n",
    "\n",
    "print('\\nTest case 2')\n",
    "print('===========')\n",
    "your_sum = sum_up('q1-2.txt')\n",
    "print('Expected: ',55.0)\n",
    "print('Actual:   ',round(your_sum,1))\n"
   ]
  },
  {
   "cell_type": "markdown",
   "metadata": {},
   "source": [
    "#### b)"
   ]
  },
  {
   "cell_type": "code",
   "execution_count": null,
   "metadata": {},
   "outputs": [],
   "source": [
    "# Put your code below\n",
    "\n",
    "\n"
   ]
  },
  {
   "cell_type": "code",
   "execution_count": null,
   "metadata": {},
   "outputs": [],
   "source": [
    "print('Test case 1')\n",
    "print('===========')\n",
    "print('File name: q1-output1.txt')\n",
    "create_num_file('q1-output1.txt',10)\n",
    "# check that the file 'q1-output1.txt' contains the expected numbers\n",
    "\n",
    "print('\\nTest case 2')\n",
    "print('===========')\n",
    "print('File name: q1-output2.txt')\n",
    "create_num_file('q1-output2.txt',15)\n",
    "# check that the file 'q1-output2.txt' contains the expected numbers\n"
   ]
  },
  {
   "cell_type": "markdown",
   "metadata": {},
   "source": [
    "### Q2: Books [ &#9733;&#9733; ]"
   ]
  },
  {
   "cell_type": "markdown",
   "metadata": {},
   "source": [
    "#### Part (a)"
   ]
  },
  {
   "cell_type": "code",
   "execution_count": null,
   "metadata": {},
   "outputs": [],
   "source": [
    "# Put your code below\n",
    "\n",
    "\n"
   ]
  },
  {
   "cell_type": "code",
   "execution_count": null,
   "metadata": {},
   "outputs": [],
   "source": [
    "# Test cases used to test your function\n",
    "\n",
    "print('\\nTestcase 1')\n",
    "print('-' * 10)\n",
    "print(\"Expected: \" + '\\nTurtles All the Way Down\\tJohn Green\\t$11.99\\n' + \n",
    "      'Animal Farm and 1984\\tGeorge Orwell\\t$7.50\\n' + \n",
    "      'Inception: A Dark Paranormal Romance (The Marked Book 1)\\tBianca Scardoni\\t$13.09\\n')\n",
    "input_file = 'books-1.txt'\n",
    "output_file = 'books-1-output.txt'\n",
    "price_limit = 15.0\n",
    "get_books_cheaper_than(input_file, price_limit, output_file)\n",
    "result = 'Open the file books-1-output.txt and verify it contains the expected books listed above.'\n",
    "print('Actual:   ' + str(result))\n"
   ]
  },
  {
   "cell_type": "code",
   "execution_count": null,
   "metadata": {},
   "outputs": [],
   "source": [
    "print('\\nTestcase 2')\n",
    "print('-' * 10)\n",
    "print(\"Expected: Empty file\")\n",
    "input_file = 'books-2.txt'\n",
    "output_file = 'books-2-output.txt'\n",
    "price_limit = 7.0\n",
    "get_books_cheaper_than(input_file, price_limit, output_file)\n",
    "result = 'Open the file books-2-output.txt and verify it is empty.'\n",
    "print('Actual:   ' + str(result))"
   ]
  },
  {
   "cell_type": "markdown",
   "metadata": {},
   "source": [
    "#### Part (b)"
   ]
  },
  {
   "cell_type": "code",
   "execution_count": null,
   "metadata": {},
   "outputs": [],
   "source": [
    "# Put your code below\n",
    "\n",
    "\n"
   ]
  },
  {
   "cell_type": "code",
   "execution_count": null,
   "metadata": {},
   "outputs": [],
   "source": [
    "# Test cases used to test your function\n",
    "\n",
    "print('\\nTestcase 1')\n",
    "print('-' * 10)\n",
    "print(\"Expected: False\")\n",
    "filename = 'books-1.txt'\n",
    "result = check_same_author(filename)\n",
    "print('Actual:   ' + str(result))\n",
    "\n",
    "print('\\nTestcase 2')\n",
    "print('-' * 10)\n",
    "print(\"Expected: True\")\n",
    "filename = 'books-2.txt'\n",
    "result = check_same_author(filename)\n",
    "print('Actual:   ' + str(result))\n",
    "\n",
    "print('\\nTestcase 3')\n",
    "print('-' * 10)\n",
    "print(\"Expected: False\")\n",
    "filename = 'books-3.txt'\n",
    "result = check_same_author(filename)\n",
    "print('Actual:   ' + str(result))\n"
   ]
  },
  {
   "cell_type": "markdown",
   "metadata": {},
   "source": [
    "### Q3: Phone Book"
   ]
  },
  {
   "cell_type": "markdown",
   "metadata": {},
   "source": [
    "#### Part a) [ &#9733;&#9733; ]"
   ]
  },
  {
   "cell_type": "code",
   "execution_count": null,
   "metadata": {},
   "outputs": [],
   "source": [
    "# Put your code below\n",
    "\n",
    "\n"
   ]
  },
  {
   "cell_type": "markdown",
   "metadata": {},
   "source": [
    "#### Part b) [ &#9733;&#9733;&#9733;]"
   ]
  },
  {
   "cell_type": "code",
   "execution_count": null,
   "metadata": {},
   "outputs": [],
   "source": [
    "# Put your code below\n",
    "\n",
    "\n"
   ]
  },
  {
   "cell_type": "markdown",
   "metadata": {},
   "source": [
    "### Q4: News"
   ]
  },
  {
   "cell_type": "markdown",
   "metadata": {},
   "source": [
    "#### Part a) [ &#9733;&#9733; ]"
   ]
  },
  {
   "cell_type": "code",
   "execution_count": null,
   "metadata": {},
   "outputs": [],
   "source": [
    "# Put your code below\n",
    "\n",
    "\n"
   ]
  },
  {
   "cell_type": "markdown",
   "metadata": {},
   "source": [
    "#### Part b) [ &#9733;&#9733;&#9733; ]"
   ]
  },
  {
   "cell_type": "code",
   "execution_count": null,
   "metadata": {},
   "outputs": [],
   "source": [
    "# Put your code below\n",
    "\n",
    "\n"
   ]
  },
  {
   "cell_type": "code",
   "execution_count": null,
   "metadata": {},
   "outputs": [],
   "source": []
  }
 ],
 "metadata": {
  "kernelspec": {
   "display_name": "Python 3",
   "language": "python",
   "name": "python3"
  },
  "language_info": {
   "codemirror_mode": {
    "name": "ipython",
    "version": 3
   },
   "file_extension": ".py",
   "mimetype": "text/x-python",
   "name": "python",
   "nbconvert_exporter": "python",
   "pygments_lexer": "ipython3",
   "version": "3.8.3"
  }
 },
 "nbformat": 4,
 "nbformat_minor": 2
}
