{
 "cells": [
  {
   "cell_type": "markdown",
   "source": [
    "<!-- Created by KWAK Haewoon -->\n",
    "<table class=\"table table-bordered\">\n",
    "    <tr>\n",
    "        <th style=\"text-align:center; width:35%\"><img src='https://soda-labo.github.io/images/smu_scis_logo_w400.jpg' style=\"width: 300px; height: 90px; \"></th>\n",
    "        <th style=\"text-align:center;\"><h3>IS111 - In-Class Exercises</h3><h3>Week 10 - Hint (&bigstar;&bigstar;&bigstar;)</h3></th>\n",
    "    </tr>\n",
    "</table>"
   ],
   "metadata": {}
  },
  {
   "cell_type": "markdown",
   "source": [
    "### Q3: HTML [&bigstar;&bigstar;&bigstar;]"
   ],
   "metadata": {}
  },
  {
   "cell_type": "markdown",
   "source": [
    "What you should use are two:\n",
    "\n",
    "1. `find()` function in `str`.<br/>\n",
    "When you run `your_string.find('<b>')`, it returns the index of first occurrence of `<b>`. If `<b>` does not exist in `your_string`, it returns -1. Similarly, you can find where `</b>` appears.\n",
    "\n",
    "1. string slicing by using [start:end]. <br/>\n",
    "Once you find a pair of `<b>` and `</b>`, then you can find `<b>` **after** where `</b>` appears. You can easily do by using your_string[(where the last `</b>` appears):].\n",
    "\n",
    "and repeat above procedures no more `<b>` appears in your updated string.<br/>\n",
    "\n",
    "Check following code and see how it works."
   ],
   "metadata": {}
  },
  {
   "cell_type": "code",
   "execution_count": 1,
   "source": [
    "your_string = '<b>asdf</b>jkl<b>m</b>'\n",
    "first_b_start = your_string.find('<b>')\n",
    "first_b_end = your_string.find('</b>')\n",
    "\n",
    "your_new_string = your_string[first_b_end + len('</b>')] \n",
    "print(f'first_b_start: {first_b_start}')\n",
    "print(f'first_b_end: {first_b_end}')\n",
    "print(f'your_string[first_b_end:]: {your_string[first_b_end:]}')\n",
    "print(f'your_string[first_b_end+len(\"</b>\"):]: {your_string[first_b_end+len(\"</b>\"):]}')"
   ],
   "outputs": [
    {
     "output_type": "stream",
     "name": "stdout",
     "text": [
      "first_b_start: 0\n",
      "first_b_end: 7\n",
      "your_string[first_b_end:]: </b>jkl<b>m</b>\n",
      "your_string[first_b_end+len(\"</b>\"):]: jkl<b>m</b>\n"
     ]
    }
   ],
   "metadata": {}
  },
  {
   "cell_type": "code",
   "execution_count": null,
   "source": [],
   "outputs": [],
   "metadata": {}
  }
 ],
 "metadata": {
  "orig_nbformat": 4,
  "language_info": {
   "name": "python",
   "version": "3.8.3",
   "mimetype": "text/x-python",
   "codemirror_mode": {
    "name": "ipython",
    "version": 3
   },
   "pygments_lexer": "ipython3",
   "nbconvert_exporter": "python",
   "file_extension": ".py"
  },
  "kernelspec": {
   "name": "python3",
   "display_name": "Python 3.8.3 64-bit ('base': conda)"
  },
  "interpreter": {
   "hash": "dab300fc1fcdb56386f3368d1ebed8bf72a2646d918e36042b5720b90c6e811c"
  }
 },
 "nbformat": 4,
 "nbformat_minor": 2
}