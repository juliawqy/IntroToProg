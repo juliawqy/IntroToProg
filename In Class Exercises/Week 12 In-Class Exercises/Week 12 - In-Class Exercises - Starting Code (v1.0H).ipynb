{
 "cells": [
  {
   "cell_type": "markdown",
   "metadata": {},
   "source": [
    "<table class=\"table table-bordered\">\n",
    "    <tr>\n",
    "        <th style=\"text-align:center; width:35%\"><img src='https://soda-labo.github.io/images/smu_scis_logo_w400.jpg' style=\"width: 300px; height: 90px; \"></th>\n",
    "        <th style=\"text-align:center;\"><h3>IS111 - In-Class Exercises</h3><h3>Week 12</h3></th>\n",
    "    </tr>\n",
    "</table>"
   ]
  },
  {
   "cell_type": "markdown",
   "metadata": {},
   "source": [
    "### Q1: Count Strings [ &bigstar;&bigstar; ] "
   ]
  },
  {
   "cell_type": "code",
   "execution_count": 12,
   "metadata": {},
   "outputs": [
    {
     "name": "stdout",
     "output_type": "stream",
     "text": [
      "3 strings starting with 'S' or 's'\n",
      "1 string starting with 'M' or 'm'\n",
      "1 string starting with '$'\n",
      "1 string starting with '3'\n",
      "2 strings starting with 'P' or 'p'\n"
     ]
    }
   ],
   "source": [
    "# Write your code below\n",
    "\n",
    "start_str = input(\"Enter a string > \")\n",
    "return_dict = {}\n",
    "\n",
    "while start_str != \"\":\n",
    "    if start_str[0].lower() not in return_dict:\n",
    "        return_dict[(start_str[0].lower())] = []\n",
    "    return_dict[(start_str[0].lower())].append(start_str)\n",
    "    start_str = input(\"Enter a string > \")\n",
    "\n",
    "for key, value in return_dict.items():\n",
    "    if key.isalpha() == True:\n",
    "        if len(value) == 1:\n",
    "            print(f\"1 string starting with '{key.upper()}' or '{key.lower()}'\")\n",
    "        else:\n",
    "           print(f\"{len(value)} strings starting with '{key.upper()}' or '{key.lower()}'\") \n",
    "    else:\n",
    "        if len(value) == 1:\n",
    "            print(f\"1 string starting with '{key}'\")\n",
    "        else:\n",
    "           print(f\"{len(value)} strings starting with '{key}'\")\n",
    "\n",
    "\n",
    "\n",
    "\n",
    "\n",
    "\n",
    "\n"
   ]
  },
  {
   "cell_type": "markdown",
   "metadata": {},
   "source": [
    "### Q2: Count Emails  [ &bigstar;&bigstar; ] "
   ]
  },
  {
   "cell_type": "code",
   "execution_count": 13,
   "metadata": {},
   "outputs": [],
   "source": [
    "# Write your code below\n",
    "\n",
    "def count_emails(file_name, start_time, end_time, sender, has_attachment):\n",
    "\n",
    "    count = 0\n",
    "    if has_attachment == True:\n",
    "        if_attachment = 'Yes'\n",
    "    else:\n",
    "        if_attachment = 'No'\n",
    "\n",
    "    with open(file_name, 'r') as fi:\n",
    "        for line in fi:\n",
    "            line = line.rstrip('\\n').split('\\t')\n",
    "            if line[1] == sender:\n",
    "                if line[3] == if_attachment:\n",
    "                    time = line[0]\n",
    "                    if \"AM\" in time:\n",
    "                        time = time[:len(time)-2]\n",
    "                        time_list = time.split(\":\")\n",
    "                        if time_list[0] == '12':\n",
    "                            time_tuple = (int(time_list[0]) - 12, int(time_list[1]))\n",
    "                        else:\n",
    "                            time_tuple = (int(time_list[0]), int(time_list[1]))\n",
    "                    elif \"PM\" in time:\n",
    "                        time = time[:len(time)-2]\n",
    "                        time_list = time.split(\":\")\n",
    "                        time_tuple = (int(time_list[0]) + 12, int(time_list[1]))\n",
    "                    else:\n",
    "                        time_list = time.split(\":\")\n",
    "                        time_tuple = (int(time_list[0]), int(time_list[1]))\n",
    "                    \n",
    "                    if time_tuple[0] < end_time[0] and time_tuple[0] > start_time[0]:\n",
    "                        count += 1\n",
    "                    elif time_tuple[0] == end_time[0]:\n",
    "                        if time_tuple[1] <= end_time[1]:\n",
    "                            count += 1\n",
    "                    elif time_tuple[0] == start_time[0]:\n",
    "                        if time_tuple[1] >= start_time[1]:\n",
    "                            count += 1\n",
    "    \n",
    "    return count\n",
    "                                    \n",
    "\n",
    "\n",
    "\n",
    "\n"
   ]
  },
  {
   "cell_type": "code",
   "execution_count": 14,
   "metadata": {},
   "outputs": [
    {
     "name": "stdout",
     "output_type": "stream",
     "text": [
      "\n",
      "Testcase 1\n",
      "----------\n",
      "Expected: 3\n",
      "Actual:   3\n",
      "\n",
      "Testcase 2\n",
      "----------\n",
      "Expected: 2\n",
      "Actual:   2\n"
     ]
    }
   ],
   "source": [
    "# Test cases to test your code\n",
    "\n",
    "print('\\nTestcase 1')\n",
    "print('-' * 10)\n",
    "count = count_emails('emails-1.txt', (12, 30), (14, 0), 'joe@abc.com', True)\n",
    "print(\"Expected: 3\")\n",
    "print('Actual:   ' + str(count))\n",
    "\n",
    "print('\\nTestcase 2')\n",
    "print('-' * 10)\n",
    "count = count_emails('emails-2.txt', (11, 0), (14, 0), 'joe@abc.com', False)\n",
    "print(\"Expected: 2\")\n",
    "print('Actual:   ' + str(count))"
   ]
  },
  {
   "cell_type": "markdown",
   "metadata": {},
   "source": [
    "### Q3: HTML [ &bigstar;&bigstar;&bigstar; ] "
   ]
  },
  {
   "cell_type": "code",
   "execution_count": 21,
   "metadata": {},
   "outputs": [],
   "source": [
    "# Write your code below\n",
    "\n",
    "def extract_bold_texts(input_str):\n",
    "\n",
    "    return_list = []\n",
    "    str_list = input_str.split('<b>')\n",
    "    return_str = ''\n",
    "\n",
    "    #split by </b> then take the front!!\n",
    "\n",
    "    for strings in str_list:\n",
    "        for index, ch in enumerate(strings):\n",
    "            if_continue = True\n",
    "            if ch == '<':\n",
    "                if strings[index:index+4] == '</b>':\n",
    "                    if_continue = False\n",
    "            if if_continue == True:\n",
    "                return_str += ch\n",
    "            else:\n",
    "                return_list.append(return_str)\n",
    "                return_str = ''\n",
    "                break\n",
    "\n",
    "\n",
    "    \n",
    "    return return_list\n",
    "        \n",
    "        \n",
    "\n",
    "            \n",
    "    \n",
    "\n",
    "\n",
    "\n",
    "\n"
   ]
  },
  {
   "cell_type": "code",
   "execution_count": 22,
   "metadata": {},
   "outputs": [
    {
     "name": "stdout",
     "output_type": "stream",
     "text": [
      "\n",
      "Testcase 1\n",
      "----------\n",
      "Expected: ['ABC', 'def 123 ', '']\n",
      "Actual:   ['ABC', 'def 123 ', '']\n",
      "\n",
      "Testcase 2\n",
      "----------\n",
      "Expected: []\n",
      "Actual:   []\n"
     ]
    }
   ],
   "source": [
    "# Test cases used to test your function\n",
    "\n",
    "print('\\nTestcase 1')\n",
    "print('-' * 10)\n",
    "html_text = '<b>ABC</b> abc <b>def 123 </b><b></b>0000'\n",
    "print(\"Expected: ['ABC', 'def 123 ', '']\")\n",
    "print('Actual:   ' + str(extract_bold_texts(html_text)))\n",
    "\n",
    "print('\\nTestcase 2')\n",
    "print('-' * 10)\n",
    "html_text = 'A piece of text without tags.'\n",
    "print(\"Expected: []\")\n",
    "print('Actual:   ' + str(extract_bold_texts(html_text)))"
   ]
  },
  {
   "cell_type": "code",
   "execution_count": null,
   "metadata": {},
   "outputs": [],
   "source": []
  },
  {
   "cell_type": "code",
   "execution_count": null,
   "metadata": {},
   "outputs": [],
   "source": []
  },
  {
   "cell_type": "code",
   "execution_count": null,
   "metadata": {},
   "outputs": [],
   "source": []
  },
  {
   "cell_type": "code",
   "execution_count": null,
   "metadata": {},
   "outputs": [],
   "source": []
  }
 ],
 "metadata": {
  "kernelspec": {
   "display_name": "Python 3.9.12 ('base': conda)",
   "language": "python",
   "name": "python3"
  },
  "language_info": {
   "codemirror_mode": {
    "name": "ipython",
    "version": 3
   },
   "file_extension": ".py",
   "mimetype": "text/x-python",
   "name": "python",
   "nbconvert_exporter": "python",
   "pygments_lexer": "ipython3",
   "version": "3.9.12"
  },
  "vscode": {
   "interpreter": {
    "hash": "395bcd43827c12f34ba277ba8ce79bc9791f0692262ae816061085addb5351ea"
   }
  }
 },
 "nbformat": 4,
 "nbformat_minor": 2
}
