{
 "cells": [
  {
   "cell_type": "markdown",
   "metadata": {},
   "source": [
    "<table class=\"table table-bordered\">\n",
    "    <tr>\n",
    "        <th style=\"text-align:center; width:35%\"><img src='https://soda-labo.github.io/images/smu_scis_logo_w400.jpg' style=\"width: 300px; height: 90px; \"></th>\n",
    "        <th style=\"text-align:center;\"><h3>IS111 - In-Class Exercise Solutions</h3><h3>Week 1</h3></th>\n",
    "    </tr>\n",
    "</table>"
   ]
  },
  {
   "cell_type": "markdown",
   "metadata": {},
   "source": [
    "<div style=\"text-align: right\"><i>* Last modified: 2021/07/20</i></div>"
   ]
  },
  {
   "cell_type": "markdown",
   "metadata": {},
   "source": [
    "### Q1: Operators\n",
    "\n",
    "Without running the code below, what do you think the output will be?"
   ]
  },
  {
   "cell_type": "code",
   "execution_count": 11,
   "metadata": {
    "tags": []
   },
   "outputs": [
    {
     "name": "stdout",
     "output_type": "stream",
     "text": [
      "4.8\n",
      "-3.0\n",
      "-3.0\n",
      "4\n",
      "1\n",
      "1\n",
      "abc def\n"
     ]
    }
   ],
   "source": [
    "print(2 + 3 * 3 / 5 - 2 + 8 % 5)\n",
    "print(15 % 5 - 15 / 5)\n",
    "print(10 / 2.5 / 2 - 5)\n",
    "print(11 // 4 * 2)\n",
    "print((3 + 5) * 2 % 3)\n",
    "print(2 + 3 * 6 % 3 ** 2 - 1)\n",
    "\n",
    "print(\"abc\" + \" \" + \"def\")\n",
    "#print(\"abc\" + 123) # this will be an error\n",
    "\n"
   ]
  },
  {
   "cell_type": "markdown",
   "metadata": {},
   "source": [
    "### Q2: BMI Calculator\n",
    "\n",
    "You have probably heard about the body mass index or BMI. The definition of BMI from Wikipedia can be found below:\n",
    "\n",
    "\"The body mass index (BMI) or Quetelet index is a value derived from the mass (weight) and height of an individual. The BMI is defined as the body mass divided by the square of the body height, and is universally expressed in units of $\\text{kg}/\\text{m}^2$, resulting from mass in kilograms and height in metres.\"\n",
    "\n",
    "The formula to calculate BMI is also given below:\n",
    "\n",
    "$$\\text{BMI} = \\frac{\\text{mass}}{\\text{height}^2}$$\n",
    "\n",
    "Here mass is in kilograms and height is in metres.\n",
    "\n",
    "Write a piece of Python code that does the following:\n",
    "\n",
    "<ul>\n",
    "    <li>It prompts the user for his/her weight in kilograms.</li>\n",
    "    <li>It then prompts the user for his/her height in metres.</li>\n",
    "    <li>It calculates the BMI of this person and displays the BMI value to the screen.</li>\n",
    "</ul>\n",
    "\n",
    "A sample run of the code gives the following output:\n",
    "\n",
    "<img src=\"http://drive.google.com/uc?export=view&id=0B3N0YMArBdSBdHZqdnhDT2xzSEk\">"
   ]
  },
  {
   "cell_type": "code",
   "execution_count": 3,
   "metadata": {},
   "outputs": [
    {
     "name": "stdout",
     "output_type": "stream",
     "text": [
      "What is your weight (in kg)? 70\n",
      "What is your weight (in m)? 1.75\n"
     ]
    }
   ],
   "source": [
    "# Write your code below:\n",
    "weight = float(input(\"What is your weight (in kg)? \"))  # must be assigned to a variable\n",
    "height = float(input(\"What is your weight (in m)? \"))  \n",
    "bmi = weight / (height * height)   \n",
    "bmi = float(weight) / float(height) ** 2  # other solution"
   ]
  },
  {
   "cell_type": "code",
   "execution_count": 4,
   "metadata": {},
   "outputs": [
    {
     "name": "stdout",
     "output_type": "stream",
     "text": [
      "Your bmi is 22.857142857142858\n"
     ]
    }
   ],
   "source": [
    "print(\"Your bmi is\", bmi)   # you don't need the conversion here"
   ]
  },
  {
   "cell_type": "code",
   "execution_count": 8,
   "metadata": {},
   "outputs": [
    {
     "name": "stdout",
     "output_type": "stream",
     "text": [
      "Your bmi is 22.857142857142858\n"
     ]
    }
   ],
   "source": [
    "print(\"Your bmi is \" + str(bmi)) # you can convert float -> str "
   ]
  },
  {
   "cell_type": "code",
   "execution_count": 9,
   "metadata": {},
   "outputs": [
    {
     "name": "stdout",
     "output_type": "stream",
     "text": [
      "your bmi is 22.857142857142858\n"
     ]
    }
   ],
   "source": [
    "print(f\"your bmi is {bmi}\") # you can use f-string (you don't need a type conversion)"
   ]
  },
  {
   "cell_type": "markdown",
   "metadata": {},
   "source": [
    "### Q3: Odd/Even Numbers\n",
    "\n",
    "Write a piece of Python code that does the following:\n",
    "\n",
    "<ul>\n",
    "    <li>It sequentially prompts the user for 4 integers.</li>\n",
    "    <li>It computes and displays the percentage of odd numbers and even numbers for these 4 integers, without using any conditional statements like if-then-else.</li>\n",
    "</ul>\n",
    "\n",
    "For instance, if the 4 numbers are 1, 7, 4, 6, then the percentage of odd and even numbers that are generated are 50% and 50% respectively. If the 4 numbers are 4, 2, 8, 5, then the percentage of odd and even numbers that are generated are 75% and 25% respectively.\n",
    "\n",
    "Hint: You may want to use the modulo-2 operation to determine if a number is odd or even.\n"
   ]
  },
  {
   "cell_type": "code",
   "execution_count": 14,
   "metadata": {
    "tags": []
   },
   "outputs": [
    {
     "name": "stdout",
     "output_type": "stream",
     "text": [
      "Please enter the 1st number: 1\n",
      "Please enter the 2nd number: 7\n",
      "Please enter the 3rd number: 4\n",
      "Please enter the 4th number: 6\n",
      "Percentage of odd numbers:  50.0 %\n",
      "Percentage of even numbers:  50.0 %\n",
      "Percentage of odd numbers: 50.0 %\n",
      "Percentage of even numbers: 50.0 %\n",
      "Percentage of odd numbers: 50.0 %\n",
      "Percentage of even numbers: 50.0 %\n"
     ]
    }
   ],
   "source": [
    "num_1 = int(input(\"Please enter the 1st number: \"))\n",
    "num_2 = int(input(\"Please enter the 2nd number: \"))\n",
    "num_3 = int(input(\"Please enter the 3rd number: \"))\n",
    "num_4 = int(input(\"Please enter the 4th number: \"))\n",
    "\n",
    "odd_percent = ((num_1%2 + num_2%2 + num_3%2 + num_4%2)/4)*100\n",
    "even_percent = 100 - odd_percent\n",
    "\n",
    "# There are various ways to print percentages. See below:\n",
    "print(\"Percentage of odd numbers: \", odd_percent, \"%\")\n",
    "print(\"Percentage of even numbers: \", even_percent, \"%\")\n",
    "\n",
    "\n",
    "# another way by string concatenation with type casting\n",
    "print(\"Percentage of odd numbers: \" + str(odd_percent) + \" %\")\n",
    "print(\"Percentage of even numbers: \" + str(even_percent) + \" %\")\n",
    "\n",
    "# f-string (you don't need a type conversion)\n",
    "print(f\"Percentage of odd numbers: {odd_percent} %\")\n",
    "print(f\"Percentage of even numbers: {even_percent} %\")\n",
    "\n"
   ]
  },
  {
   "cell_type": "code",
   "execution_count": null,
   "metadata": {},
   "outputs": [],
   "source": []
  }
 ],
 "metadata": {
  "kernelspec": {
   "display_name": "Python 3.9.12 ('base')",
   "language": "python",
   "name": "python3"
  },
  "language_info": {
   "codemirror_mode": {
    "name": "ipython",
    "version": 3
   },
   "file_extension": ".py",
   "mimetype": "text/x-python",
   "name": "python",
   "nbconvert_exporter": "python",
   "pygments_lexer": "ipython3",
   "version": "3.9.12"
  },
  "vscode": {
   "interpreter": {
    "hash": "395bcd43827c12f34ba277ba8ce79bc9791f0692262ae816061085addb5351ea"
   }
  }
 },
 "nbformat": 4,
 "nbformat_minor": 2
}
